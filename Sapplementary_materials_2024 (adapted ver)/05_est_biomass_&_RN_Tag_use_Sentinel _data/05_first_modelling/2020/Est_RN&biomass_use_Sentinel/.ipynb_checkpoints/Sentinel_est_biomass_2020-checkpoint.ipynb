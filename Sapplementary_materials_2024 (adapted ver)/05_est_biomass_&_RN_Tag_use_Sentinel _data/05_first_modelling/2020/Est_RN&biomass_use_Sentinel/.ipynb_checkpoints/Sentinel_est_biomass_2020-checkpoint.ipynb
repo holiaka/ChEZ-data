{
 "cells": [
  {
   "cell_type": "markdown",
   "id": "812a5289-c8e6-424f-96b6-c572ee3266db",
   "metadata": {},
   "source": [
    "# Load modules and raster data"
   ]
  },
  {
   "cell_type": "code",
   "execution_count": 1,
   "id": "5c2cbd7a",
   "metadata": {},
   "outputs": [],
   "source": [
    "# Import Python  print function and division\n",
    "from __future__ import print_function, division\n",
    "\n",
    "# Import GDAL, NumPy, and matplotlib\n",
    "from osgeo import gdal, gdal_array\n",
    "import numpy as np\n",
    "import matplotlib.pyplot as plt\n",
    "%matplotlib inline\n",
    "\n",
    "# Tell GDAL to throw Python exceptions, and register all drivers\n",
    "gdal.UseExceptions()\n",
    "gdal.AllRegister()"
   ]
  },
  {
   "cell_type": "code",
   "execution_count": 2,
   "id": "87e9f0f9",
   "metadata": {
    "scrolled": true
   },
   "outputs": [
    {
     "data": {
      "image/png": "[encoded data removed]",
      "text/plain": [
       "<Figure size 432x288 with 1 Axes>"
      ]
     },
     "metadata": {
      "needs_background": "light"
     },
     "output_type": "display_data"
    }
   ],
   "source": [
    "# Read in our image and ROI image\n",
    "img_ds = gdal.Open('/home/dima/Desktop/WORK/GIS and ML algoritms/3_Classification_Sentinel_satelites/United_Sentinel_rasters/Mod_united_raster_20200922.tif', gdal.GA_ReadOnly)\n",
    "\n",
    "# Copy the transformation to a variable\n",
    "GT_input = img_ds.GetGeoTransform()\n",
    "\n",
    "img = np.zeros((img_ds.RasterYSize, img_ds.RasterXSize, img_ds.RasterCount),\n",
    "               gdal_array.GDALTypeCodeToNumericTypeCode(img_ds.GetRasterBand(1).DataType))\n",
    "for b in range(img.shape[2]):\n",
    "    img[:, :, b] = img_ds.GetRasterBand(b + 1).ReadAsArray()\n",
    "\n",
    "# Display them\n",
    "plt.subplot(121)\n",
    "plt.imshow(img[:, :, 4], cmap=plt.cm.Greys_r)\n",
    "plt.title('SWIR1')\n",
    "\n",
    "plt.show()"
   ]
  },
  {
   "cell_type": "markdown",
   "id": "8b7dcb57-2e99-4d4a-9f6a-06fdc5a1c2b3",
   "metadata": {},
   "source": [
    "# Prepocessing of input data and load XGB model"
   ]
  },
  {
   "cell_type": "code",
   "execution_count": 3,
   "id": "d9ecdfb0",
   "metadata": {},
   "outputs": [
    {
     "name": "stdout",
     "output_type": "stream",
     "text": [
      "Our X matrix is sized: (6160, 10008, 5)\n"
     ]
    }
   ],
   "source": [
    "# We will need a \"X\" matrix containing our features, and a \"y\" array containing our labels\n",
    "\n",
    "X = img[:, :, [0, 2, 4, 5, 6, 9, 10]]\n",
    "\n",
    "print('Our X matrix is sized: {sz}'.format(sz=X.shape))"
   ]
  },
  {
   "cell_type": "code",
   "execution_count": 4,
   "id": "526efc8e-fcd5-4c9a-a49f-27bbf083f90c",
   "metadata": {},
   "outputs": [],
   "source": [
    "#  Importing the main library for building model and its analysis\n",
    "\n",
    "import xgboost as xgb\n",
    "import pandas as pd"
   ]
  },
  {
   "cell_type": "code",
   "execution_count": 5,
   "id": "90e727d6-a51f-43c2-9469-9ce604054af0",
   "metadata": {},
   "outputs": [],
   "source": [
    "# Load learned model\n",
    "xgb_model_biomass_Sentinel_2019 = xgb.XGBRegressor()\n",
    "\n",
    "xgb_model_biomass_Sentinel_2019.load_model('/home/dima/Desktop/WORK/GIS and ML algoritms/6_Est_RN&biomass_all_site_Sentinel/2020/Nootbooks/XGB_model_GS_Sentinel_data_2020.txt')"
   ]
  },
  {
   "cell_type": "code",
   "execution_count": 6,
   "id": "8367b868-2983-42dd-90cf-c5693165d065",
   "metadata": {},
   "outputs": [
    {
     "name": "stdout",
     "output_type": "stream",
     "text": [
      "XGBRegressor(base_score=0.5, booster='gbtree', colsample_bylevel=1,\n",
      "             colsample_bynode=1, colsample_bytree=0.8500574958177407,\n",
      "             enable_categorical=False, gamma=0.48327621552731137, gpu_id=-1,\n",
      "             importance_type=None, interaction_constraints='',\n",
      "             learning_rate=0.06833268633761382, max_delta_step=0, max_depth=2,\n",
      "             min_child_weight=1, missing=nan, monotone_constraints='()',\n",
      "             n_estimators=125, n_jobs=8, num_parallel_tree=1, predictor='auto',\n",
      "             random_state=0, reg_alpha=0, reg_lambda=1, scale_pos_weight=1,\n",
      "             subsample=0.32729290551701495, tree_method='auto',\n",
      "             validate_parameters=1, verbosity=None)\n"
     ]
    }
   ],
   "source": [
    "# Show all parameters of XGBoost model\n",
    "\n",
    "print(xgb_model_biomass_Sentinel_2019)"
   ]
  },
  {
   "cell_type": "markdown",
   "id": "a2437750-aae9-45b7-b22d-6233094f30bb",
   "metadata": {},
   "source": [
    "# Est. biomass of all interest territory"
   ]
  },
  {
   "cell_type": "code",
   "execution_count": 7,
   "id": "493c6689-e6fe-4b02-9b5e-810273087f25",
   "metadata": {},
   "outputs": [
    {
     "name": "stdout",
     "output_type": "stream",
     "text": [
      "Reshaped from (6160, 10008, 5) to (61649280, 5)\n"
     ]
    }
   ],
   "source": [
    "# Take our full image, ignore the Fmask band, and reshape into long 2d array (nrow * ncol, nband) for classification\n",
    "new_shape = (X.shape[0] * X.shape[1], X.shape[2])\n",
    "\n",
    "img_as_array = X.reshape(new_shape)\n",
    "print('Reshaped from {o} to {n}'.format(o=X.shape,\n",
    "                                        n=img_as_array.shape))"
   ]
  },
  {
   "cell_type": "code",
   "execution_count": 8,
   "id": "258309d2-3ec1-4787-bf2f-1298274db14c",
   "metadata": {},
   "outputs": [
    {
     "name": "stderr",
     "output_type": "stream",
     "text": [
      "/home/dima/anaconda3/envs/geo_env/lib/python3.6/site-packages/xgboost/core.py:108: UserWarning: ntree_limit is deprecated, use `iteration_range` or model slicing instead.\n",
      "  UserWarning\n"
     ]
    }
   ],
   "source": [
    "# Create predict values for each pixels\n",
    "pred_LN_biomass = xgb_model_biomass_Sentinel_2019.predict(img_as_array, ntree_limit=xgb_model_biomass_Sentinel_2019.best_ntree_limit)\n",
    "\n",
    "# Transform logarithmic values to standard type\n",
    "pred_biomass = np.exp(pred_LN_biomass)\n",
    "\n",
    "# Reshape ourpredict map\n",
    "pred_biomass = pred_biomass.reshape(X[:, :, 0].shape)"
   ]
  },
  {
   "cell_type": "markdown",
   "id": "bc2bd773-46cb-4e79-a92c-0017d6973b82",
   "metadata": {},
   "source": [
    "# Save prediction raster"
   ]
  },
  {
   "cell_type": "code",
   "execution_count": 9,
   "id": "a119bdf2-3230-4d65-a79f-c8e3a0bf9801",
   "metadata": {},
   "outputs": [],
   "source": [
    "import rasterio"
   ]
  },
  {
   "cell_type": "code",
   "execution_count": 10,
   "id": "cc13346e-3d62-4f72-a1d1-2dee115561a2",
   "metadata": {},
   "outputs": [],
   "source": [
    "# Save output raster\n",
    "from affine import Affine\n",
    "af_transf = Affine.from_gdal(*GT_input)\n",
    "\n",
    "with rasterio.open(\n",
    "    '/home/dima/Desktop/WORK/GIS and ML algoritms/6_Est_RN&biomass_all_site_Sentinel/2020/Est_RN&biomass_use_Sentinel/GS_map_2020.tif',\n",
    "    'w',\n",
    "    driver='GTiff',\n",
    "    height=pred_biomass.shape[0],\n",
    "    width=pred_biomass.shape[1],\n",
    "    count=1,\n",
    "    dtype=np.float32,\n",
    "    transform=af_transf\n",
    ") as dest_file:\n",
    "    dest_file.write(pred_biomass, 1)\n",
    "dest_file.close()"
   ]
  },
  {
   "cell_type": "code",
   "execution_count": null,
   "id": "3e25ca32-1a7e-49dd-a097-a249cdd61962",
   "metadata": {},
   "outputs": [],
   "source": []
  }
 ],
 "metadata": {
  "kernelspec": {
   "display_name": "Python 3 (ipykernel)",
   "language": "python",
   "name": "python3"
  },
  "language_info": {
   "codemirror_mode": {
    "name": "ipython",
    "version": 3
   },
   "file_extension": ".py",
   "mimetype": "text/x-python",
   "name": "python",
   "nbconvert_exporter": "python",
   "pygments_lexer": "ipython3",
   "version": "3.9.7"
  }
 },
 "nbformat": 4,
 "nbformat_minor": 5
}
