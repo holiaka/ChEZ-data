{
 "cells": [
  {
   "cell_type": "markdown",
   "id": "812a5289-c8e6-424f-96b6-c572ee3266db",
   "metadata": {},
   "source": [
    "# Load modules and raster data"
   ]
  },
  {
   "cell_type": "code",
   "execution_count": 1,
   "id": "5c2cbd7a",
   "metadata": {
    "tags": []
   },
   "outputs": [],
   "source": [
    "# Import Python  print function and division\n",
    "from __future__ import print_function, division\n",
    "\n",
    "# Import GDAL, NumPy, and matplotlib\n",
    "from osgeo import gdal, gdal_array\n",
    "import numpy as np\n",
    "import matplotlib.pyplot as plt\n",
    "%matplotlib inline\n",
    "\n",
    "# Tell GDAL to throw Python exceptions, and register all drivers\n",
    "gdal.UseExceptions()\n",
    "gdal.AllRegister()"
   ]
  },
  {
   "cell_type": "code",
   "execution_count": 2,
   "id": "e3aa7329-d89e-41b9-b1ba-c40b3f80b796",
   "metadata": {
    "tags": []
   },
   "outputs": [],
   "source": [
    "# Block warnings messages\n",
    "import warnings\n",
    "warnings.filterwarnings('ignore')"
   ]
  },
  {
   "cell_type": "code",
   "execution_count": 3,
   "id": "87e9f0f9",
   "metadata": {
    "scrolled": true
   },
   "outputs": [
    {
     "data": {
      "image/png": "[encoded data removed]",
      "text/plain": [
       "<Figure size 640x480 with 1 Axes>"
      ]
     },
     "metadata": {},
     "output_type": "display_data"
    }
   ],
   "source": [
    "# Read in our image and ROI image\n",
    "img_ds = gdal.Open('./../../04_classification of ChEZ landscapes/04_input/clip_united_2019.tif', gdal.GA_ReadOnly)\n",
    "\n",
    "# Copy the transformation to a variable\n",
    "GT_input = img_ds.GetGeoTransform()\n",
    "\n",
    "img = np.zeros((img_ds.RasterYSize, img_ds.RasterXSize, img_ds.RasterCount),\n",
    "               gdal_array.GDALTypeCodeToNumericTypeCode(img_ds.GetRasterBand(1).DataType))\n",
    "for b in range(img.shape[2]):\n",
    "    img[:, :, b] = img_ds.GetRasterBand(b + 1).ReadAsArray()\n",
    "\n",
    "# Display them\n",
    "plt.subplot(121)\n",
    "plt.imshow(img[:, :, 4], cmap=plt.cm.Greys_r)\n",
    "plt.title('SWIR1')\n",
    "\n",
    "plt.show()"
   ]
  },
  {
   "cell_type": "markdown",
   "id": "8b7dcb57-2e99-4d4a-9f6a-06fdc5a1c2b3",
   "metadata": {},
   "source": [
    "# Prepocessing of input data and load XGB model"
   ]
  },
  {
   "cell_type": "code",
   "execution_count": 4,
   "id": "d9ecdfb0",
   "metadata": {},
   "outputs": [
    {
     "name": "stdout",
     "output_type": "stream",
     "text": [
      "Our X matrix is sized: (5161, 9008, 5)\n"
     ]
    }
   ],
   "source": [
    "# We will need a \"X\" matrix containing our features, and a \"y\" array containing our labels\n",
    "\n",
    "X = img[:, :, [0, 3, 7, 9, 10]]\n",
    "\n",
    "print('Our X matrix is sized: {sz}'.format(sz=X.shape))"
   ]
  },
  {
   "cell_type": "code",
   "execution_count": 5,
   "id": "526efc8e-fcd5-4c9a-a49f-27bbf083f90c",
   "metadata": {},
   "outputs": [],
   "source": [
    "#  Importing the main library for building model and its analysis\n",
    "\n",
    "import xgboost as xgb\n",
    "import pandas as pd"
   ]
  },
  {
   "cell_type": "code",
   "execution_count": 7,
   "id": "90e727d6-a51f-43c2-9469-9ce604054af0",
   "metadata": {},
   "outputs": [],
   "source": [
    "# Load learned model\n",
    "xgb_model = xgb.XGBRegressor()\n",
    "\n",
    "xgb_model.load_model('./XGBoost_models/04_LN_Tag_Sr_SENTINEL_2019_XGB_model_2024_final.json')"
   ]
  },
  {
   "cell_type": "code",
   "execution_count": 8,
   "id": "8367b868-2983-42dd-90cf-c5693165d065",
   "metadata": {},
   "outputs": [
    {
     "name": "stdout",
     "output_type": "stream",
     "text": [
      "XGBRegressor(base_score=None, booster=None, callbacks=None,\n",
      "             colsample_bylevel=None, colsample_bynode=None,\n",
      "             colsample_bytree=0.752002626894473, early_stopping_rounds=None,\n",
      "             enable_categorical=False, eval_metric=['rmse'], feature_types=None,\n",
      "             gamma=0.11989669723875046, gpu_id=None, grow_policy=None,\n",
      "             importance_type=None, interaction_constraints=None,\n",
      "             learning_rate=0.03080239065859549, max_bin=None,\n",
      "             max_cat_threshold=None, max_cat_to_onehot=None,\n",
      "             max_delta_step=None, max_depth=3, max_leaves=None,\n",
      "             min_child_weight=None, missing=nan, monotone_constraints=None,\n",
      "             n_estimators=104, n_jobs=None, num_parallel_tree=None,\n",
      "             predictor=None, random_state=None, ...)\n"
     ]
    }
   ],
   "source": [
    "# Show all parameters of XGBoost model\n",
    "\n",
    "print(xgb_model)"
   ]
  },
  {
   "cell_type": "markdown",
   "id": "a2437750-aae9-45b7-b22d-6233094f30bb",
   "metadata": {},
   "source": [
    "# Est. biomass of all interest territory"
   ]
  },
  {
   "cell_type": "code",
   "execution_count": 9,
   "id": "493c6689-e6fe-4b02-9b5e-810273087f25",
   "metadata": {},
   "outputs": [
    {
     "name": "stdout",
     "output_type": "stream",
     "text": [
      "Reshaped from (5161, 9008, 5) to (46490288, 5)\n"
     ]
    }
   ],
   "source": [
    "# Take our full image, ignore the Fmask band, and reshape into long 2d array (nrow * ncol, nband) for classification\n",
    "new_shape = (X.shape[0] * X.shape[1], X.shape[2])\n",
    "\n",
    "img_as_array = X.reshape(new_shape)\n",
    "print('Reshaped from {o} to {n}'.format(o=X.shape,\n",
    "                                        n=img_as_array.shape))"
   ]
  },
  {
   "cell_type": "code",
   "execution_count": 10,
   "id": "258309d2-3ec1-4787-bf2f-1298274db14c",
   "metadata": {},
   "outputs": [],
   "source": [
    "# Create predict values for each pixels\n",
    "pred_LN = xgb_model.predict(img_as_array, ntree_limit=xgb_model.best_ntree_limit)\n",
    "\n",
    "# Transform logarithmic values to standard type\n",
    "pred = np.exp(pred_LN)\n",
    "\n",
    "# Reshape ourpredict map\n",
    "pred = pred.reshape(X[:, :, 0].shape)"
   ]
  },
  {
   "cell_type": "markdown",
   "id": "bc2bd773-46cb-4e79-a92c-0017d6973b82",
   "metadata": {},
   "source": [
    "# Save prediction raster"
   ]
  },
  {
   "cell_type": "code",
   "execution_count": 11,
   "id": "a119bdf2-3230-4d65-a79f-c8e3a0bf9801",
   "metadata": {},
   "outputs": [],
   "source": [
    "# Import library\n",
    "import rasterio"
   ]
  },
  {
   "cell_type": "code",
   "execution_count": 13,
   "id": "cc13346e-3d62-4f72-a1d1-2dee115561a2",
   "metadata": {},
   "outputs": [],
   "source": [
    "# Save output raster\n",
    "from affine import Affine\n",
    "af_transf = Affine.from_gdal(*GT_input)\n",
    "\n",
    "with rasterio.open(\n",
    "    './Rasters/04_Tag_Cs_map_2019_2024.tif',\n",
    "    'w',\n",
    "    driver='GTiff',\n",
    "    height=pred.shape[0],\n",
    "    width=pred.shape[1],\n",
    "    count=1,\n",
    "    dtype=np.float32,\n",
    "    transform=af_transf\n",
    ") as dest_file:\n",
    "    dest_file.write(pred, 1)\n",
    "dest_file.close()"
   ]
  }
 ],
 "metadata": {
  "kernelspec": {
   "display_name": "Python 3 (ipykernel)",
   "language": "python",
   "name": "python3"
  },
  "language_info": {
   "codemirror_mode": {
    "name": "ipython",
    "version": 3
   },
   "file_extension": ".py",
   "mimetype": "text/x-python",
   "name": "python",
   "nbconvert_exporter": "python",
   "pygments_lexer": "ipython3",
   "version": "3.9.12"
  }
 },
 "nbformat": 4,
 "nbformat_minor": 5
}
