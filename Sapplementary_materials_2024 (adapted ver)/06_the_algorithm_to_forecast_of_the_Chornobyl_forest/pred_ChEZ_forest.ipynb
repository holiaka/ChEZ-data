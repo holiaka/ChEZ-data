{
 "cells": [
  {
   "cell_type": "markdown",
   "id": "d9fb60cc-cbf9-4944-80a0-8f1a15db0672",
   "metadata": {
    "tags": []
   },
   "source": [
    "# *The code is optimized for minimum using RAM capacity by saving middle data in local storage*"
   ]
  },
  {
   "cell_type": "markdown",
   "id": "5c1d32a2-a2be-4f33-812a-0cd5dda5b181",
   "metadata": {
    "tags": []
   },
   "source": [
    "# *MAIN INPUT INFORMATION FOR FORMATE OUTPUT RASTERS*"
   ]
  },
  {
   "cell_type": "code",
   "execution_count": 1,
   "id": "29e082b3-7b47-4201-83df-c76742f68bf7",
   "metadata": {
    "tags": []
   },
   "outputs": [
    {
     "name": "stdin",
     "output_type": "stream",
     "text": [
      "Enter the permissible level for Sr-90 activity concentration in trunk wood (Bq/kg): 60\n",
      "Enter the permissible level for Cs-137 activity concentration in trunk wood (Bq/kg): 600\n",
      "Enter the year for which you want to receive indicators (from 2020 to 2050): 2050\n"
     ]
    },
    {
     "name": "stdout",
     "output_type": "stream",
     "text": [
      "\n",
      "************** \n",
      " Ok! \n",
      "**************\n",
      "\n"
     ]
    }
   ],
   "source": [
    "#  RN contamination of trunk wood\n",
    "PL_Sr = int(input('Enter the permissible level for Sr-90 activity concentration in trunk wood (Bq/kg):'))\n",
    "PL_Cs = int(input('Enter the permissible level for Cs-137 activity concentration in trunk wood (Bq/kg):'))\n",
    "\n",
    "\n",
    "# Enter the year for which you want to get indicators (from 2020 to 2050)\n",
    "year = int(input('Enter the year for which you want to receive indicators (from 2020 to 2050):'))\n",
    "if year>2019 and year<2051 :\n",
    "    print('\\n************** \\n Ok! \\n**************\\n')\n",
    "else:\n",
    "    print('\\n************** \\n Error! \\n**************\\n')"
   ]
  },
  {
   "cell_type": "markdown",
   "id": "1ee163fe-0930-469c-9104-e578df8b4022",
   "metadata": {
    "tags": []
   },
   "source": [
    "# *Prepare all input data*\n",
    "# Load modules and raster data"
   ]
  },
  {
   "cell_type": "code",
   "execution_count": 2,
   "id": "5c2cbd7a",
   "metadata": {
    "tags": []
   },
   "outputs": [],
   "source": [
    "# Import Python print function and division\n",
    "from __future__ import print_function, division\n",
    "\n",
    "# Import klepto, GDAL, NumPy, and matplotlib\n",
    "import klepto\n",
    "from osgeo import gdal, gdal_array\n",
    "import numpy as np\n",
    "import matplotlib.pyplot as plt\n",
    "%matplotlib inline\n",
    "\n",
    "# Create local storage using 'klepto'\n",
    "db = klepto.archives.dir_archive('db', serialized=True, cached=False)\n",
    "\n",
    "# Tell GDAL to throw Python exceptions, and register all drivers\n",
    "gdal.UseExceptions()\n",
    "gdal.AllRegister()"
   ]
  },
  {
   "cell_type": "code",
   "execution_count": 3,
   "id": "0a3f3f7c-93f0-4cb5-8ab5-9539083c8019",
   "metadata": {
    "tags": []
   },
   "outputs": [],
   "source": [
    "# Block warnings messages\n",
    "import warnings\n",
    "warnings.filterwarnings('ignore')"
   ]
  },
  {
   "cell_type": "code",
   "execution_count": 4,
   "id": "ed9a5caa-8186-4f91-adf1-b4d9f8f0f237",
   "metadata": {
    "scrolled": true
   },
   "outputs": [],
   "source": [
    "# Read our raster`s bands/channels\n",
    "\"\"\"\n",
    "Raster bands includes:\n",
    "0: Sr-90 density contamination of soil, \n",
    "1: Cs-137 density contamination of soil, \n",
    "2: ambient equivalent dose rate (ADER),\n",
    "3: species ID, \n",
    "4: origin ID, \n",
    "5: stand age, \n",
    "6: stand height, \n",
    "7: stand DBH, \n",
    "8: relative stock,\n",
    "9: soil fertility ID, \n",
    "11: the humidity of the soil \n",
    "\"\"\"\n",
    "img_ds = gdal.Open('./input_raster/clip_comb_bands.tif', gdal.GA_ReadOnly)\n",
    "\n",
    "# Copy the transformation to a variable\n",
    "GT_input = img_ds.GetGeoTransform()\n",
    "\n",
    "img = np.zeros((img_ds.RasterYSize, img_ds.RasterXSize, img_ds.RasterCount),\n",
    "               gdal_array.GDALTypeCodeToNumericTypeCode(img_ds.GetRasterBand(1).DataType))\n",
    "for b in range(img.shape[2]):\n",
    "    img[:, :, b] = img_ds.GetRasterBand(b + 1).ReadAsArray()\n",
    "\n",
    "# Clear up RAM\n",
    "img_ds = ''"
   ]
  },
  {
   "cell_type": "code",
   "execution_count": 5,
   "id": "1bfa0861-6bed-43f3-8112-be12ef61200d",
   "metadata": {
    "scrolled": true
   },
   "outputs": [
    {
     "data": {
      "image/png": "[encoded data removed]",
      "text/plain": [
       "<Figure size 640x480 with 2 Axes>"
      ]
     },
     "metadata": {},
     "output_type": "display_data"
    }
   ],
   "source": [
    "# Show bands\n",
    "plt.subplot(121)\n",
    "plt.imshow(img[:, :, 0], cmap=plt.cm.Greys_r)\n",
    "plt.title('Sr-90_kBq/sq.m')\n",
    "\n",
    "plt.subplot(122)\n",
    "plt.imshow(img[:, :, 1], cmap=plt.cm.Greys_r)\n",
    "plt.title('Cs-137_kBq/sq.m')\n",
    "\n",
    "plt.show()"
   ]
  },
  {
   "cell_type": "markdown",
   "id": "8b7dcb57-2e99-4d4a-9f6a-06fdc5a1c2b3",
   "metadata": {},
   "source": [
    "# Estimation of SI (Site index)"
   ]
  },
  {
   "cell_type": "code",
   "execution_count": 6,
   "id": "d9ecdfb0",
   "metadata": {},
   "outputs": [
    {
     "name": "stdout",
     "output_type": "stream",
     "text": [
      "Our X matrix is sized: (5154, 8981, 4)\n"
     ]
    }
   ],
   "source": [
    "# Select bands for est. SI\n",
    "\n",
    "db['X_SI'] = img[:, :, [3, 4, 5, 6]]\n",
    "\n",
    "print('Our X matrix is sized: {sz}'.format(sz=db['X_SI'].shape))"
   ]
  },
  {
   "cell_type": "code",
   "execution_count": 7,
   "id": "526efc8e-fcd5-4c9a-a49f-27bbf083f90c",
   "metadata": {},
   "outputs": [],
   "source": [
    "#  Importing the main library for building model and its analysis\n",
    "\n",
    "import xgboost as xgb\n",
    "import pandas as pd"
   ]
  },
  {
   "cell_type": "code",
   "execution_count": 8,
   "id": "90e727d6-a51f-43c2-9469-9ce604054af0",
   "metadata": {},
   "outputs": [],
   "source": [
    "# Load learned model\n",
    "xgb_model_SI = xgb.XGBRegressor()\n",
    "\n",
    "xgb_model_SI.load_model('./models/growing_model/XGB_model_SI.txt')"
   ]
  },
  {
   "cell_type": "code",
   "execution_count": 9,
   "id": "8367b868-2983-42dd-90cf-c5693165d065",
   "metadata": {},
   "outputs": [
    {
     "name": "stdout",
     "output_type": "stream",
     "text": [
      "XGBRegressor(base_score=None, booster=None, callbacks=None,\n",
      "             colsample_bylevel=None, colsample_bynode=None,\n",
      "             colsample_bytree=0.8658392694925228, early_stopping_rounds=None,\n",
      "             enable_categorical=False, eval_metric=['rmse'], feature_types=None,\n",
      "             gamma=0.07811099757409967, gpu_id=None, grow_policy=None,\n",
      "             importance_type=None, interaction_constraints=None,\n",
      "             learning_rate=0.28893005442828845, max_bin=None,\n",
      "             max_cat_threshold=None, max_cat_to_onehot=None,\n",
      "             max_delta_step=None, max_depth=2, max_leaves=None,\n",
      "             min_child_weight=None, missing=nan, monotone_constraints=None,\n",
      "             n_estimators=147, n_jobs=None, num_parallel_tree=None,\n",
      "             predictor=None, random_state=None, ...)\n"
     ]
    }
   ],
   "source": [
    "# Show all parameters of XGBoost model\n",
    "\n",
    "print(xgb_model_SI)"
   ]
  },
  {
   "cell_type": "code",
   "execution_count": 10,
   "id": "493c6689-e6fe-4b02-9b5e-810273087f25",
   "metadata": {},
   "outputs": [
    {
     "name": "stdout",
     "output_type": "stream",
     "text": [
      "Reshaped from (5154, 8981, 4) to (46288074, 4)\n"
     ]
    }
   ],
   "source": [
    "# Take our full image, ignore the Fmask band, and reshape into long 2d array (nrow * ncol, nband) for classification\n",
    "db['new_shape_X_SI'] = (db['X_SI'].shape[0] * db['X_SI'].shape[1], db['X_SI'].shape[2])\n",
    "\n",
    "db['array_X_SI'] = db['X_SI'].reshape(db['new_shape_X_SI'])\n",
    "print('Reshaped from {o} to {n}'.format(o=db['X_SI'].shape,\n",
    "                                        n=db['array_X_SI'].shape))"
   ]
  },
  {
   "cell_type": "code",
   "execution_count": 11,
   "id": "258309d2-3ec1-4787-bf2f-1298274db14c",
   "metadata": {},
   "outputs": [],
   "source": [
    "# Create predict values for each pixels for Site index\n",
    "db['pred_SI'] = xgb_model_SI.predict(db['array_X_SI'], ntree_limit=xgb_model_SI.best_ntree_limit)\n",
    "\n",
    "# Reshape our predict map\n",
    "db['output_pred_SI'] = db['pred_SI'].reshape(db['X_SI'][:, :, 0].shape)"
   ]
  },
  {
   "cell_type": "markdown",
   "id": "bc2bd773-46cb-4e79-a92c-0017d6973b82",
   "metadata": {},
   "source": [
    "# Save prediction SI map"
   ]
  },
  {
   "cell_type": "code",
   "execution_count": 12,
   "id": "a119bdf2-3230-4d65-a79f-c8e3a0bf9801",
   "metadata": {},
   "outputs": [],
   "source": [
    "# Load \"rasterio\" library\n",
    "import rasterio"
   ]
  },
  {
   "cell_type": "code",
   "execution_count": 13,
   "id": "cc13346e-3d62-4f72-a1d1-2dee115561a2",
   "metadata": {},
   "outputs": [],
   "source": [
    "# Save output raster\n",
    "from affine import Affine\n",
    "af_transf = Affine.from_gdal(*GT_input)\n",
    "\n",
    "with rasterio.open(\n",
    "    './output_rasters/00_SI_map.tif',\n",
    "    'w',\n",
    "    driver='GTiff',\n",
    "    height=db['output_pred_SI'].shape[0],\n",
    "    width=db['output_pred_SI'].shape[1],\n",
    "    count=1,\n",
    "    dtype=np.float32,\n",
    "    transform=af_transf\n",
    ") as dest_file:\n",
    "    dest_file.write(db['output_pred_SI'], 1)\n",
    "dest_file.close()"
   ]
  },
  {
   "cell_type": "markdown",
   "id": "bde4d420-1be7-459f-a9fd-8b9be987e951",
   "metadata": {
    "tags": []
   },
   "source": [
    "# Calculate forest parameters"
   ]
  },
  {
   "cell_type": "code",
   "execution_count": 14,
   "id": "9f08ad79-7dfd-4975-87e9-4b4b893f7ae7",
   "metadata": {},
   "outputs": [],
   "source": [
    "# Calculate stands probobly parameters when RS/P = 1\n",
    "\n",
    "# Formate array data for species_ID and origin_ID:\n",
    "db['X_Sp_Or'] = img[:, :, [3, 4]]    \n",
    "\n",
    "db['new_shape_norm_X_Sp_Or'] = (db['X_Sp_Or'].shape[0] * db['X_Sp_Or'].shape[1], db['X_Sp_Or'].shape[2])\n",
    "db['array_norm_X_Sp_Or'] = db['X_Sp_Or'].reshape(db['new_shape_norm_X_Sp_Or'])\n",
    "    \n",
    "# Formate array data for A:\n",
    "db['X_A'] = img[:, :, [5]]    \n",
    "\n",
    "db['new_shape_norm_X_A'] = (db['X_A'].shape[0] * db['X_A'].shape[1], db['X_A'].shape[2])\n",
    "db['array_norm_X_A'] = db['X_A'].reshape(db['new_shape_norm_X_A'])"
   ]
  },
  {
   "cell_type": "code",
   "execution_count": 15,
   "id": "eadb0edd-dbcf-4a52-a759-5485163ce361",
   "metadata": {},
   "outputs": [],
   "source": [
    "# Unit array data for est. forest normal stand parameters \n",
    "db['X_norm_FP'] = np.c_[db['array_norm_X_Sp_Or'], db['pred_SI'], db['array_norm_X_A']]"
   ]
  },
  {
   "cell_type": "code",
   "execution_count": 16,
   "id": "98b640f9-2b9d-4190-a068-1743dec32464",
   "metadata": {},
   "outputs": [],
   "source": [
    "# Load learned XGBoost models for est parameters of normal forest stands\n",
    "xgb_model_D = xgb.XGBRegressor()\n",
    "xgb_model_D.load_model('./models/growing_model/XGB_model_ln_D_THR_data.txt')\n",
    "\n",
    "xgb_model_H = xgb.XGBRegressor()\n",
    "xgb_model_H.load_model('./models/growing_model/XGB_model_ln_H_THR_data.txt')\n",
    "\n",
    "xgb_model_G = xgb.XGBRegressor()\n",
    "xgb_model_G.load_model('./models/growing_model/XGB_model_ln_G_THR_data.txt')\n",
    "\n",
    "xgb_model_GS = xgb.XGBRegressor()\n",
    "xgb_model_GS.load_model('./models/growing_model/XGB_model_ln_GS_THR_data.txt')"
   ]
  },
  {
   "cell_type": "code",
   "execution_count": 17,
   "id": "ec60a940-854a-488b-91ae-44799ee4bd5b",
   "metadata": {},
   "outputs": [],
   "source": [
    "# Create predict values for parameters as normal forest stands\n",
    "db['pred_ln_D1'] = xgb_model_D.predict(db['X_norm_FP'], ntree_limit=xgb_model_D.best_ntree_limit)\n",
    "\n",
    "db['pred_ln_H1'] = xgb_model_H.predict(db['X_norm_FP'], ntree_limit=xgb_model_H.best_ntree_limit)\n",
    "\n",
    "db['pred_ln_G1'] = xgb_model_G.predict(db['X_norm_FP'], ntree_limit=xgb_model_G.best_ntree_limit)\n",
    "\n",
    "db['pred_ln_GS1'] = xgb_model_GS.predict(db['X_norm_FP'], ntree_limit=xgb_model_GS.best_ntree_limit)\n",
    "\n",
    "db['pred_D1'] = np.exp(db['pred_ln_D1'])\n",
    "\n",
    "db['pred_H1'] = np.exp(db['pred_ln_H1'])\n",
    "\n",
    "db['pred_G1'] = np.exp(db['pred_ln_G1'])\n",
    "\n",
    "db['pred_GS1'] = np.exp(db['pred_ln_GS1'])"
   ]
  },
  {
   "cell_type": "code",
   "execution_count": 18,
   "id": "d272a0de-7e3c-436b-8f78-730937c90b33",
   "metadata": {},
   "outputs": [],
   "source": [
    "# Ration between empirical and normal values of forest indicators\n",
    "db['D'] = img[:, :, [7]]\n",
    "db['new_shape_D'] = (db['D'].shape[0] * db['D'].shape[1], db['D'].shape[2])\n",
    "db['array_D'] = db['D'].reshape(db['new_shape_D'])\n",
    "db['ratio_D'] = np.divide(db['array_D'][:,0], db['pred_D1'])\n",
    "\n",
    "db['H'] = img[:, :, [6]]\n",
    "db['new_shape_H'] = (db['H'].shape[0] * db['H'].shape[1], db['H'].shape[2])\n",
    "db['array_H'] = db['H'].reshape(db['new_shape_H'])\n",
    "db['ratio_H'] = np.divide(db['array_H'][:,0], db['pred_H1'])\n",
    "\n",
    "db['P'] = img[:, :, [8]] # relative stocking\n",
    "db['new_shape_P'] = (db['P'].shape[0] * db['P'].shape[1], db['P'].shape[2])\n",
    "db['array_P'] = db['P'].reshape(db['new_shape_P'])\n",
    "\n",
    "db['G'] = np.multiply(db['array_P'][:,0], db['pred_G1'])\n",
    "db['GS'] = np.multiply(db['array_P'][:,0], db['pred_GS1'])"
   ]
  },
  {
   "cell_type": "code",
   "execution_count": 19,
   "id": "b7495721-7567-4f9b-8034-8be686c6507d",
   "metadata": {},
   "outputs": [],
   "source": [
    "# Calculate forest  parameters for years\n",
    "a_stand = year-2016\n",
    "\n",
    "db['A_forecast'] = db['array_norm_X_A'][:,0]+a_stand # stand age\n",
    "db['FP_forecast'] = np.c_[db['array_norm_X_Sp_Or'], db['pred_SI'], db['A_forecast']]\n",
    "\n",
    "# Create predict values for parameters as normal forest stands\n",
    "db['pred_ln_D2'] = xgb_model_D.predict(db['FP_forecast'], ntree_limit=xgb_model_D.best_ntree_limit)\n",
    "db['pred_ln_H2'] = xgb_model_H.predict(db['FP_forecast'], ntree_limit=xgb_model_H.best_ntree_limit)\n",
    "db['pred_ln_G2'] = xgb_model_G.predict(db['FP_forecast'], ntree_limit=xgb_model_G.best_ntree_limit)\n",
    "db['pred_ln_GS2'] = xgb_model_GS.predict(db['FP_forecast'], ntree_limit=xgb_model_GS.best_ntree_limit)\n",
    "\n",
    "db['pred_D2'] = np.exp(db['pred_ln_D2'])\n",
    "db['pred_H2'] = np.exp(db['pred_ln_H2'])\n",
    "db['pred_G2'] = np.exp(db['pred_ln_G2'])\n",
    "db['pred_GS2'] = np.exp(db['pred_ln_GS2'])"
   ]
  },
  {
   "cell_type": "code",
   "execution_count": 20,
   "id": "fd0f7249-e955-455b-9fec-f6bde56c79fa",
   "metadata": {},
   "outputs": [],
   "source": [
    "# Output results for forest stand parameters\n",
    "db['output_D2'] = np.multiply(db['ratio_D'], db['pred_D2'])\n",
    "db['output_H2'] = np.multiply(db['ratio_H'], db['pred_H2'])\n",
    "db['output_G2'] = np.multiply(db['array_P'][:,0], db['pred_G2'])\n",
    "db['output_GS2'] = np.multiply(db['array_P'][:,0], db['pred_GS2'])"
   ]
  },
  {
   "cell_type": "code",
   "execution_count": 21,
   "id": "bdece26e-397d-43f8-a1f7-4c0d93d9855a",
   "metadata": {},
   "outputs": [],
   "source": [
    "# Est. biomass use my models\n",
    "\n",
    "# Prepeare data\n",
    "db['biomass_forecast_X'] = np.c_[db['array_norm_X_Sp_Or'], db['output_H2'], db['output_D2'], db['output_G2']]"
   ]
  },
  {
   "cell_type": "code",
   "execution_count": 22,
   "id": "6f2eb9ac-d646-4cc9-9e10-373dbfbbe373",
   "metadata": {},
   "outputs": [],
   "source": [
    "# Load XGBooost models\n",
    "xgb_model_GS = xgb.XGBRegressor()\n",
    "xgb_model_allStem = xgb.XGBRegressor()\n",
    "xgb_model_stemBark = xgb.XGBRegressor()\n",
    "xgb_model_br = xgb.XGBRegressor()\n",
    "xgb_model_f = xgb.XGBRegressor()\n",
    "xgb_model_GS.load_model('./models/biomass_model/01_LN_CS_other_authors_XGB_model.json')\n",
    "xgb_model_allStem.load_model('./models/biomass_model/02_LN_M_all_stem_other_authors_XGB_model.json')\n",
    "xgb_model_stemBark.load_model('./models/biomass_model/03_LN_M_stem_bark_other_authors_XGB_model.json')\n",
    "xgb_model_br.load_model('./models/biomass_model/04_LN_M_branch_other_authors_XGB_model.json')\n",
    "xgb_model_f.load_model('./models/biomass_model/05_LN_M_foliage_other_authors_XGB_model.json')\n",
    "\n",
    "#Predict parameters\n",
    "db['pred_my_ln_GS'] = xgb_model_GS.predict(db['biomass_forecast_X'], ntree_limit=xgb_model_GS.best_ntree_limit)\n",
    "db['pred_my_ln_allStem'] = xgb_model_allStem.predict(db['biomass_forecast_X'], ntree_limit=xgb_model_allStem.best_ntree_limit)\n",
    "db['pred_my_ln_stemBark'] = xgb_model_stemBark.predict(db['biomass_forecast_X'], ntree_limit=xgb_model_stemBark.best_ntree_limit)\n",
    "db['pred_my_ln_br'] = xgb_model_br.predict(db['biomass_forecast_X'], ntree_limit=xgb_model_br.best_ntree_limit)\n",
    "db['pred_my_ln_f'] = xgb_model_f.predict(db['biomass_forecast_X'], ntree_limit=xgb_model_f.best_ntree_limit)"
   ]
  },
  {
   "cell_type": "code",
   "execution_count": 23,
   "id": "2e032fff-262d-40a1-a64b-f19d8d984a96",
   "metadata": {},
   "outputs": [],
   "source": [
    "# Convert predicted parameters to real values\n",
    "db['pred_my_GS'] = np.exp(db['pred_my_ln_GS'])\n",
    "db['pred_my_allStem'] = np.exp(db['pred_my_ln_allStem'])\n",
    "db['pred_my_stemBark'] = np.exp(db['pred_my_ln_stemBark'])\n",
    "db['pred_my_br'] = np.exp(db['pred_my_ln_br'])\n",
    "db['pred_my_f'] = np.exp(db['pred_my_ln_f'])"
   ]
  },
  {
   "cell_type": "code",
   "execution_count": 24,
   "id": "a75dea6b-e24f-4562-80ab-24d3886cb245",
   "metadata": {},
   "outputs": [],
   "source": [
    "# Calculating the total above-ground biomass\n",
    "db['pred_my_AG_biomass'] = db['pred_my_allStem'] + db['pred_my_br'] + db['pred_my_f']"
   ]
  },
  {
   "cell_type": "code",
   "execution_count": 25,
   "id": "d7e8a485-0714-4d3a-9f81-6c777b593745",
   "metadata": {},
   "outputs": [],
   "source": [
    "# Reshape our predict maps for forest parameters\n",
    "db['final_D2'] = db['output_D2'].reshape(db['X_A'][:, :, 0].shape)\n",
    "db['final_H2'] = db['output_H2'].reshape(db['X_A'][:, :, 0].shape)\n",
    "db['final_G2'] = db['output_G2'].reshape(db['X_A'][:, :, 0].shape)\n",
    "db['final_GS2'] = db['output_GS2'].reshape(db['X_A'][:, :, 0].shape)\n",
    "\n",
    "db['final_my_GS'] = db['pred_my_GS'].reshape(db['X_A'][:, :, 0].shape)\n",
    "db['final_my_allStem'] = db['pred_my_allStem'].reshape(db['X_A'][:, :, 0].shape)\n",
    "db['final_my_stemBark'] = db['pred_my_stemBark'].reshape(db['X_A'][:, :, 0].shape)\n",
    "db['final_my_br'] = db['pred_my_br'].reshape(db['X_A'][:, :, 0].shape)\n",
    "db['final_my_f'] = db['pred_my_f'].reshape(db['X_A'][:, :, 0].shape)\n",
    "db['final_my_AG_biomass'] = db['pred_my_AG_biomass'].reshape(db['X_A'][:, :, 0].shape)"
   ]
  },
  {
   "cell_type": "markdown",
   "id": "6c8c1aa8-a46d-4264-b2d4-686bf4fae8a4",
   "metadata": {},
   "source": [
    "# *Preporation RN data*"
   ]
  },
  {
   "cell_type": "code",
   "execution_count": 26,
   "id": "7484d0e9-797f-4c30-a093-6affec509ec3",
   "metadata": {},
   "outputs": [],
   "source": [
    "# RN decay\n",
    "# calculation \n",
    "decay_time = year-2020\n",
    "decay_Sr = 1*2**(-decay_time/28.91)\n",
    "decay_Cs = 1*2**(-decay_time/30.08)"
   ]
  },
  {
   "cell_type": "code",
   "execution_count": 27,
   "id": "6436f6b5-1c91-4582-8866-9ce5762e7f87",
   "metadata": {},
   "outputs": [
    {
     "name": "stdout",
     "output_type": "stream",
     "text": [
      "Reshaped from (5154, 8981, 3) to (46288074, 3)\n"
     ]
    }
   ],
   "source": [
    "# Convert into array RN bands\n",
    "db['X_RN'] = img[:, :, [0, 1, 2]]\n",
    "\n",
    "# Take our full image, ignore the Fmask band, and reshape into long 2d array (nrow * ncol, nband) for classification\n",
    "db['new_shape_X_RN'] = (db['X_RN'].shape[0] * db['X_RN'].shape[1], db['X_RN'].shape[2])\n",
    "\n",
    "db['array_X_RN'] = db['X_RN'].reshape(db['new_shape_X_RN'])\n",
    "print('Reshaped from {o} to {n}'.format(o=db['X_RN'].shape,\n",
    "                                        n=db['array_X_RN'].shape))"
   ]
  },
  {
   "cell_type": "code",
   "execution_count": 28,
   "id": "b7e90e80-d7d1-49ae-8456-758c0ad7ad81",
   "metadata": {},
   "outputs": [],
   "source": [
    "# Calculation of RN concentration and AEDR as of \"year\"\n",
    "db['output_Sr'] = db['array_X_RN'][:,0] * decay_Sr\n",
    "db['output_Cs'] = db['array_X_RN'][:,1] * decay_Cs\n",
    "db['output_AEDR'] = ((db['array_X_RN'][:,2]-0.1) * decay_Cs)+0.1"
   ]
  },
  {
   "cell_type": "code",
   "execution_count": 29,
   "id": "564832fd-23cd-4e19-8f10-d5bf65a6a0c7",
   "metadata": {},
   "outputs": [],
   "source": [
    "# Calculation of RN concentration in trunk wood as of \"year\"\n",
    "\n",
    "db['X_Sp'] = img[:, :, [3]] # select species band\n",
    "db['new_shape_X_Sp'] = (db['X_Sp'].shape[0] * db['X_Sp'].shape[1], db['X_Sp'].shape[2])\n",
    "db['array_X_Sp'] = db['X_Sp'].reshape(db['new_shape_X_Sp'])\n",
    "\n",
    "db['X_Fsoil'] = img[:, :, [9]] # select soil fertility band\n",
    "db['new_shape_X_Fsoil'] = (db['X_Fsoil'].shape[0] * db['X_Fsoil'].shape[1], db['X_Fsoil'].shape[2])\n",
    "db['array_X_Fsoil'] = db['X_Fsoil'].reshape(db['new_shape_X_Fsoil'])\n",
    "              \n",
    "# Created array for predict of RN activity concentration of stem wood\n",
    "db['Wood_AC_Sr_forecast_X'] = np.c_[db['array_X_Sp'], db['output_D2'], db['array_X_Fsoil'], db['output_AEDR'], db['output_Sr']]\n",
    "db['Wood_AC_Cs_forecast_X'] = np.c_[db['array_X_Sp'], db['output_D2'], db['output_H2'], db['output_G2'], db['A_forecast'], db['array_X_Fsoil'], db['output_AEDR']]\n",
    "\n",
    "# Load XGBooost models\n",
    "xgb_model_ln_Sr_wood = xgb.XGBRegressor()\n",
    "xgb_model_ln_Cs_wood = xgb.XGBRegressor()\n",
    "\n",
    "xgb_model_ln_Sr_wood.load_model('./models/RN_models/02_LN_Sr_content_without_geo_XGB_model_2024_final.json')\n",
    "xgb_model_ln_Cs_wood.load_model('./models/RN_models/01_LN_Cs_content_without_geo_XGB_model_2024_final.json')\n",
    "\n",
    "# Predict parameters\n",
    "db['pred_ln_Sr_wood'] = xgb_model_ln_Sr_wood.predict(db['Wood_AC_Sr_forecast_X'], ntree_limit=xgb_model_ln_Sr_wood.best_ntree_limit)\n",
    "db['pred_ln_Cs_wood'] = xgb_model_ln_Cs_wood.predict(db['Wood_AC_Cs_forecast_X'], ntree_limit=xgb_model_ln_Cs_wood.best_ntree_limit)"
   ]
  },
  {
   "cell_type": "code",
   "execution_count": 30,
   "id": "cddd510f-f9e4-4fcd-b6b1-aa5d309ef832",
   "metadata": {},
   "outputs": [],
   "source": [
    "# Preprocessing RN and AEDR data before transfer into raster\n",
    "\n",
    "# Convert predicted parameters to real values\n",
    "db['pred_Sr_wood'] = np.exp(db['pred_ln_Sr_wood'])\n",
    "db['pred_Cs_wood'] = np.exp(db['pred_ln_Cs_wood'])\n",
    "\n",
    "# Reshape our predict maps for RN contaminated of stem wood\n",
    "db['final_Sr_wood'] = db['pred_Sr_wood'].reshape(db['X_A'][:, :, 0].shape)\n",
    "db['final_Cs_wood'] = db['pred_Cs_wood'].reshape(db['X_A'][:, :, 0].shape)"
   ]
  },
  {
   "cell_type": "code",
   "execution_count": 31,
   "id": "9e33eefa-ff52-417b-a444-7c3d911005f1",
   "metadata": {},
   "outputs": [],
   "source": [
    "# Assessment of radiation dose rates to tree trunk wood\n",
    "\n",
    "# load \"math\" and \"scipy\" libraries\n",
    "from scipy.stats import norm\n",
    "import math\n",
    "\n",
    "# preprocessing\n",
    "db['massTree'] = db['pred_my_allStem']*1000/(db['output_G2']/((math.pi*(db['output_D2']/100)**2)/4))\n",
    "db['Sr_in_dose'] = (0.000594*db['massTree']**0.01435)*db['pred_Sr_wood']\n",
    "db['Cs_in_dose'] = (0.0001764*db['massTree']**0.0934)*db['pred_Cs_wood']\n",
    "db['In_dose'] = db['Sr_in_dose'] + db['Cs_in_dose']\n",
    "db['Ex_dose'] = db['output_AEDR'] - (0.02*np.log(db['output_AEDR']) + 0.14)\n",
    "db['Total_dose'] = db['In_dose'] + db['Ex_dose']\n",
    "db['Part_in_dose'] = db['In_dose'] / db['Total_dose'] * 100\n",
    "\n",
    "db['final_Sr_in_dose'] = db['Sr_in_dose'].reshape(db['X_A'][:, :, 0].shape)\n",
    "db['final_Cs_in_dose'] = db['Cs_in_dose'].reshape(db['X_A'][:, :, 0].shape)\n",
    "db['final_In_dose'] = db['In_dose'].reshape(db['X_A'][:, :, 0].shape)\n",
    "db['final_Ex_dose'] = db['Ex_dose'].reshape(db['X_A'][:, :, 0].shape)\n",
    "db['final_Total_dose'] = db['Total_dose'].reshape(db['X_A'][:, :, 0].shape)\n",
    "db['final_Part_in_dose'] = db['Part_in_dose'].reshape(db['X_A'][:, :, 0].shape)"
   ]
  },
  {
   "cell_type": "code",
   "execution_count": 32,
   "id": "edbb4014-af7d-47f3-93df-7b73e2c4209f",
   "metadata": {},
   "outputs": [],
   "source": [
    "# Prediction of the trees/woods portion that is not exceeding the permissible levels of wood contamination\n",
    "# for Sr-90\n",
    "db['ratio_Sr_wood'] = db['pred_Sr_wood']/PL_Sr\n",
    "db['Z_scope_Sr_wood'] = np.log(db['ratio_Sr_wood'])/np.log(1.6)\n",
    "db['Part_wood_to_PL_Sr'] = norm(loc = 0 , scale = 1).cdf(db['Z_scope_Sr_wood'])\n",
    "\n",
    "# for Cs-137\n",
    "db['ratio_Cs_wood'] = db['pred_Cs_wood']/PL_Cs\n",
    "db['Z_scope_Cs_wood'] = np.log(db['ratio_Cs_wood'])/np.log(1.6)\n",
    "db['Part_wood_to_PL_Cs'] = norm(loc = 0 , scale = 1).cdf(db['Z_scope_Cs_wood'])\n",
    "\n",
    "# final output values\n",
    "db['final_Part_wood_to_PL_Sr'] = db['Part_wood_to_PL_Sr'].reshape(db['X_A'][:, :, 0].shape)\n",
    "db['final_Part_wood_to_PL_Cs'] = db['Part_wood_to_PL_Cs'].reshape(db['X_A'][:, :, 0].shape)"
   ]
  },
  {
   "cell_type": "code",
   "execution_count": 33,
   "id": "c2538646-63bf-4bb7-ab0d-31f3b131f289",
   "metadata": {},
   "outputs": [],
   "source": [
    "# Clean up local storage\n",
    "clean = []\n",
    "\n",
    "db['X_SI'] = clean\n",
    "db['new_shape_X_SI'] = clean\n",
    "db['array_X_SI'] = clean \n",
    "\n",
    "db['X_Sp_Or'] = clean\n",
    "db['new_shape_norm_X_Sp_Or'] = clean\n",
    "db['array_norm_X_Sp_Or'] = clean\n",
    "db['new_shape_norm_X_A'] = clean\n",
    "\n",
    "db['pred_ln_D1'] = clean\n",
    "db['pred_ln_H1'] = clean\n",
    "db['pred_ln_G1'] = clean\n",
    "db['pred_ln_GS1'] = clean\n",
    "\n",
    "db['D'] = clean\n",
    "db['new_shape_D'] = clean\n",
    "db['array_D'] = clean\n",
    "db['ratio_D'] = clean\n",
    "db['H'] = clean\n",
    "db['new_shape_H'] = clean\n",
    "db['array_H'] = clean\n",
    "db['ratio_H'] = clean\n",
    "db['P'] = clean\n",
    "db['new_shape_P'] = clean\n",
    "db['array_P'] = clean\n",
    "db['G'] = clean\n",
    "db['GS'] = clean\n",
    "\n",
    "db['FP_forecast'] = clean\n",
    "\n",
    "db['pred_ln_D2'] = clean\n",
    "db['pred_ln_H2'] = clean\n",
    "db['pred_ln_G2'] = clean\n",
    "db['pred_ln_GS2'] = clean\n",
    "db['pred_D2'] = clean\n",
    "db['pred_H2'] = clean\n",
    "db['pred_G2'] = clean\n",
    "db['pred_GS2'] = clean\n",
    "\n",
    "db['biomass_forecast_X'] = clean\n",
    "\n",
    "db['pred_my_ln_GS'] = clean\n",
    "db['pred_my_ln_allStem'] = clean\n",
    "db['pred_my_ln_stemBark'] = clean\n",
    "db['pred_my_ln_br'] = clean\n",
    "db['pred_my_ln_f'] = clean\n",
    "\n",
    "db['X_RN'] = clean\n",
    "db['new_shape_X_RN'] = clean\n",
    "db['array_X_RN'] = clean\n",
    "db['output_Sr'] = clean\n",
    "db['output_Cs'] = clean\n",
    "db['output_AEDR'] = clean\n",
    "\n",
    "db['X_Sp'] = clean\n",
    "db['new_shape_X_Sp'] = clean\n",
    "db['X_Fsoil'] = clean\n",
    "db['new_shape_X_Fsoil'] = clean\n",
    "db['array_X_Fsoil'] = clean\n",
    "\n",
    "db['Wood_AC_Sr_forecast_X'] = clean\n",
    "db['Wood_AC_Cs_forecast_X'] = clean\n",
    "\n",
    "db['massTree'] = clean\n",
    "db['Sr_in_dose'] = clean\n",
    "db['Cs_in_dose'] = clean\n",
    "db['In_dose'] = clean\n",
    "db['Ex_dose'] = clean\n",
    "db['Total_dose'] = clean\n",
    "db['Part_in_dose'] = clean\n",
    "\n",
    "db['ratio_Sr_wood'] = clean\n",
    "db['Z_scope_Sr_wood'] = clean\n",
    "db['Part_wood_to_PL_Sr'] = clean\n",
    "db['ratio_Cs_wood'] = clean\n",
    "db['Z_scope_Cs_wood'] = clean\n",
    "db['Part_wood_to_PL_Cs'] = clean"
   ]
  },
  {
   "cell_type": "markdown",
   "id": "d0ea2ed8",
   "metadata": {},
   "source": [
    "# Est. of RN stock in AG biomass"
   ]
  },
  {
   "cell_type": "code",
   "execution_count": 34,
   "id": "92ac0d16-29c9-46f6-96b0-00e70bb05aff",
   "metadata": {},
   "outputs": [],
   "source": [
    "# Reclassfication species_ID\n",
    "db['neg_invers_array_X_Sp'] = db['array_X_Sp'] * -1"
   ]
  },
  {
   "cell_type": "code",
   "execution_count": 35,
   "id": "56512593-427c-48d9-95d9-3992d3dd0355",
   "metadata": {},
   "outputs": [],
   "source": [
    "# Ratio between RN activity concentration in biomass component and trunk wood ([trunk bark, branch, foliage])\n",
    "ratio_Cs_Pine = [3, 3, 5]\n",
    "ratio_Sr_Pine = [4, 3.5, 3]\n",
    "ratio_Cs_Spruce = [3, 3, 5]\n",
    "ratio_Sr_Spruce = [4, 3.5, 3]\n",
    "ratio_Cs_Birch = [2, 2, 3]\n",
    "ratio_Sr_Birch = [6, 5, 7]\n",
    "ratio_Cs_Alder = [1.8, 2, 3]\n",
    "ratio_Sr_Alder = [2, 2, 2.5]\n",
    "ratio_Cs_Aspen = [1.8, 2, 3]\n",
    "ratio_Sr_Aspen = [2, 2, 2.5]\n",
    "ratio_Cs_Oak = [4, 1.5, 6.5]\n",
    "ratio_Sr_Oak = [11, 4, 3.5]\n",
    "\n",
    "# The inverse of species ID \n",
    "species_name = [0, -1, -2, -3, -4, -5]"
   ]
  },
  {
   "cell_type": "code",
   "execution_count": 36,
   "id": "d568c2b9-5c74-4c91-bc7e-4ae597f467a1",
   "metadata": {},
   "outputs": [],
   "source": [
    "# Func. for full reclassification data\n",
    "def est_ratio (ratio_data, raster, species):\n",
    "    for i in range(len(ratio_data)):\n",
    "        global a\n",
    "        a=ratio_data\n",
    "        globals()[f'comp_{i}'] = np.where(raster == species, ratio_data[i], 0)      "
   ]
  },
  {
   "cell_type": "code",
   "execution_count": 37,
   "id": "9e98fbe8-65dd-4055-a6b3-bbeab18c579e",
   "metadata": {
    "scrolled": true
   },
   "outputs": [],
   "source": [
    "# Calc. ratio for RN in different components\n",
    "# for Cs-137\n",
    "est_ratio(ratio_Cs_Pine, db['neg_invers_array_X_Sp'], 0)\n",
    "db['ratio_Pine_comp_0'] = comp_0\n",
    "db['ratio_Pine_comp_1'] = comp_1\n",
    "db['ratio_Pine_comp_2'] = comp_2\n",
    "\n",
    "est_ratio(ratio_Cs_Spruce, db['neg_invers_array_X_Sp'], -1)\n",
    "db['ratio_Spruce_comp_0'] = comp_0\n",
    "db['ratio_Spruce_comp_1'] = comp_1\n",
    "db['ratio_Spruce_comp_2'] = comp_2\n",
    "\n",
    "est_ratio(ratio_Cs_Birch, db['neg_invers_array_X_Sp'], -2)\n",
    "db['ratio_Birch_comp_0'] = comp_0\n",
    "db['ratio_Birch_comp_1'] = comp_1\n",
    "db['ratio_Birch_comp_2'] = comp_2\n",
    "\n",
    "est_ratio(ratio_Cs_Alder, db['neg_invers_array_X_Sp'], -3)\n",
    "db['ratio_Alder_comp_0'] = comp_0\n",
    "db['ratio_Alder_comp_1'] = comp_1\n",
    "db['ratio_Alder_comp_2'] = comp_2\n",
    "\n",
    "est_ratio(ratio_Cs_Aspen, db['neg_invers_array_X_Sp'], -4)\n",
    "db['ratio_Aspen_comp_0']  = comp_0\n",
    "db['ratio_Aspen_comp_1'] = comp_1\n",
    "db['ratio_Aspen_comp_2'] = comp_2\n",
    "\n",
    "est_ratio(ratio_Cs_Oak, db['neg_invers_array_X_Sp'], -5)\n",
    "db['ratio_Oak_comp_0'] = comp_0\n",
    "db['ratio_Oak_comp_1'] = comp_1\n",
    "db['ratio_Oak_comp_2'] = comp_2\n",
    "\n",
    "db['ratio_Cs_comp_0'] = db['ratio_Pine_comp_0'] + db['ratio_Spruce_comp_0'] + db['ratio_Birch_comp_0'] + db['ratio_Alder_comp_0'] + db['ratio_Aspen_comp_0'] + db['ratio_Oak_comp_0']\n",
    "db['ratio_Cs_comp_1'] = db['ratio_Pine_comp_1'] + db['ratio_Spruce_comp_1'] + db['ratio_Birch_comp_1'] + db['ratio_Alder_comp_1'] + db['ratio_Aspen_comp_1'] + db['ratio_Oak_comp_1']\n",
    "db['ratio_Cs_comp_2'] = db['ratio_Pine_comp_2'] + db['ratio_Spruce_comp_2'] + db['ratio_Birch_comp_2'] + db['ratio_Alder_comp_2'] + db['ratio_Aspen_comp_2'] + db['ratio_Oak_comp_2']\n",
    "\n",
    "# for Sr-90\n",
    "est_ratio(ratio_Sr_Pine, db['neg_invers_array_X_Sp'], 0)\n",
    "db['ratio_Pine_comp_0'] = comp_0\n",
    "db['ratio_Pine_comp_1'] = comp_1\n",
    "db['ratio_Pine_comp_2'] = comp_2\n",
    "\n",
    "est_ratio(ratio_Sr_Spruce, db['neg_invers_array_X_Sp'], -1)\n",
    "db['ratio_Spruce_comp_0'] = comp_0\n",
    "db['ratio_Spruce_comp_1'] = comp_1\n",
    "db['ratio_Spruce_comp_2'] = comp_2\n",
    "\n",
    "est_ratio(ratio_Sr_Birch, db['neg_invers_array_X_Sp'], -2)\n",
    "db['ratio_Birch_comp_0'] = comp_0\n",
    "db['ratio_Birch_comp_1'] = comp_1\n",
    "db['ratio_Birch_comp_2'] = comp_2\n",
    "\n",
    "est_ratio(ratio_Sr_Alder, db['neg_invers_array_X_Sp'], -3)\n",
    "db['ratio_Alder_comp_0'] = comp_0\n",
    "db['ratio_Alder_comp_1'] = comp_1\n",
    "db['ratio_Alder_comp_2'] = comp_2\n",
    "\n",
    "est_ratio(ratio_Sr_Aspen, db['neg_invers_array_X_Sp'], -4)\n",
    "db['ratio_Aspen_comp_1']  = comp_0\n",
    "db['ratio_Aspen_comp_1'] = comp_1\n",
    "db['ratio_Aspen_comp_2'] = comp_2\n",
    "\n",
    "est_ratio(ratio_Sr_Oak, db['neg_invers_array_X_Sp'], -5)\n",
    "db['ratio_Oak_comp_0'] = comp_0\n",
    "db['ratio_Oak_comp_1'] = comp_1\n",
    "db['ratio_Oak_comp_2'] = comp_2\n",
    "\n",
    "db['ratio_Sr_comp_0'] = db['ratio_Pine_comp_0'] + db['ratio_Spruce_comp_0'] + db['ratio_Birch_comp_0'] + db['ratio_Alder_comp_0'] + db['ratio_Aspen_comp_0'] + db['ratio_Oak_comp_0']\n",
    "db['ratio_Sr_comp_1'] = db['ratio_Pine_comp_1'] + db['ratio_Spruce_comp_1'] + db['ratio_Birch_comp_1'] + db['ratio_Alder_comp_1'] + db['ratio_Aspen_comp_1'] + db['ratio_Oak_comp_1']\n",
    "db['ratio_Sr_comp_2'] = db['ratio_Pine_comp_2'] + db['ratio_Spruce_comp_2'] + db['ratio_Birch_comp_2'] + db['ratio_Alder_comp_2'] + db['ratio_Aspen_comp_2'] + db['ratio_Oak_comp_2']\n",
    "\n",
    "# Clean used dataset\n",
    "comp_0 = clean\n",
    "comp_1 = clean\n",
    "comp_2 = clean\n",
    "db['ratio_Pine_comp_0'] = clean\n",
    "db['ratio_Pine_comp_1'] = clean\n",
    "db['ratio_Pine_comp_2'] = clean\n",
    "db['ratio_Spruce_comp_0'] = clean\n",
    "db['ratio_Spruce_comp_1'] = clean\n",
    "db['ratio_Spruce_comp_2'] = clean\n",
    "db['ratio_Birch_comp_0'] = clean\n",
    "db['ratio_Birch_comp_1'] = clean\n",
    "db['ratio_Birch_comp_2'] = clean\n",
    "db['ratio_Alder_comp_0'] = clean\n",
    "db['ratio_Alder_comp_1'] = clean\n",
    "db['ratio_Alder_comp_2'] = clean\n",
    "db['ratio_Aspen_comp_0'] = clean\n",
    "db['ratio_Aspen_comp_1'] = clean\n",
    "db['ratio_Aspen_comp_2'] = clean\n",
    "db['ratio_Oak_comp_0'] = clean\n",
    "db['ratio_Oak_comp_1'] = clean\n",
    "db['ratio_Oak_comp_2'] = clean"
   ]
  },
  {
   "cell_type": "code",
   "execution_count": 38,
   "id": "6b83f21e-0bef-4c00-ae84-eca6965ee497",
   "metadata": {},
   "outputs": [],
   "source": [
    "# Transpose of NumPy array\n",
    "\n",
    "db['ratio_Sr_comp_0'] = np.transpose(db['ratio_Sr_comp_0'])\n",
    "db['ratio_Sr_comp_1'] = np.transpose(db['ratio_Sr_comp_1'])\n",
    "db['ratio_Sr_comp_2'] = np.transpose(db['ratio_Sr_comp_2'])\n",
    "db['ratio_Cs_comp_0'] = np.transpose(db['ratio_Cs_comp_0'])\n",
    "db['ratio_Cs_comp_1'] = np.transpose(db['ratio_Cs_comp_1'])\n",
    "db['ratio_Cs_comp_2'] = np.transpose(db['ratio_Cs_comp_2'])"
   ]
  },
  {
   "cell_type": "code",
   "execution_count": 39,
   "id": "d1828259",
   "metadata": {},
   "outputs": [],
   "source": [
    "# Calculate RN stock in tree\n",
    "\n",
    "# Est. activity consentration RN\n",
    "db['pred_Sr_bark'] = db['pred_Sr_wood'] * db['ratio_Sr_comp_0']\n",
    "db['pred_Cs_bark'] = db['pred_Cs_wood'] * db['ratio_Cs_comp_0']\n",
    "\n",
    "db['pred_Sr_br'] = db['pred_Sr_wood'] * db['ratio_Sr_comp_1']\n",
    "db['pred_Cs_br'] = db['pred_Cs_wood'] * db['ratio_Cs_comp_1']\n",
    "\n",
    "db['pred_Sr_f'] = db['pred_Sr_wood'] * db['ratio_Sr_comp_2']\n",
    "db['pred_Cs_f'] = db['pred_Cs_wood'] * db['ratio_Cs_comp_2']\n",
    "\n",
    "# Clean used dataset from local storage\n",
    "db['ratio_Sr_comp_0'] = clean\n",
    "db['ratio_Sr_comp_1'] = clean\n",
    "db['ratio_Sr_comp_2'] = clean\n",
    "db['ratio_Cs_comp_0'] = clean\n",
    "db['ratio_Cs_comp_1'] = clean\n",
    "db['ratio_Cs_comp_2'] = clean\n",
    "\n",
    "#Est. RN stock in different above-ground parts of trees (kBq/sq.m)\n",
    "db['stock_Sr_stem_wood'] = db['pred_Sr_wood']*(db['pred_my_allStem'] - db['pred_my_stemBark'])/10000\n",
    "db['stock_Sr_stem_bark'] = db['pred_Sr_bark']*db['pred_my_stemBark']/10000\n",
    "db['stock_Sr_br'] = db['pred_Sr_br']*db['pred_my_br']/10000\n",
    "db['stock_Sr_f'] = db['pred_Sr_f']*db['pred_my_f']/10000\n",
    "db['stock_Sr_AG'] = db['stock_Sr_stem_wood'] + db['stock_Sr_stem_bark'] + db['stock_Sr_br'] + db['stock_Sr_f']\n",
    "db['stock_Cs_stem_wood'] = db['pred_Cs_wood']*(db['pred_my_allStem'] - db['pred_my_stemBark'])/10000\n",
    "db['stock_Cs_stem_bark'] = db['pred_Cs_bark']*db['pred_my_stemBark']/10000\n",
    "db['stock_Cs_br'] = db['pred_Cs_br']*db['pred_my_br']/10000\n",
    "db['stock_Cs_f'] = db['pred_Cs_f']*db['pred_my_f']/10000\n",
    "db['stock_Cs_AG'] = db['stock_Cs_stem_wood'] + db['stock_Cs_stem_bark'] + db['stock_Cs_br'] + db['stock_Cs_f']\n",
    "\n",
    "db['final_stock_Sr_stem_wood'] = db['stock_Sr_stem_wood'].reshape(db['X_A'][:, :, 0].shape)\n",
    "db['final_stock_Sr_stem_bark'] = db['stock_Sr_stem_bark'].reshape(db['X_A'][:, :, 0].shape)\n",
    "db['final_stock_Sr_br'] = db['stock_Sr_br'].reshape(db['X_A'][:, :, 0].shape)\n",
    "db['final_stock_Sr_f'] = db['stock_Sr_f'].reshape(db['X_A'][:, :, 0].shape)\n",
    "db['final_stock_Sr_AG'] = db['stock_Sr_AG'].reshape(db['X_A'][:, :, 0].shape)\n",
    "db['final_stock_Cs_stem_wood'] = db['stock_Cs_stem_wood'].reshape(db['X_A'][:, :, 0].shape)\n",
    "db['final_stock_Cs_stem_bark'] = db['stock_Cs_stem_bark'].reshape(db['X_A'][:, :, 0].shape)\n",
    "db['final_stock_Cs_br'] = db['stock_Cs_br'].reshape(db['X_A'][:, :, 0].shape)\n",
    "db['final_stock_Cs_f'] = db['stock_Cs_f'].reshape(db['X_A'][:, :, 0].shape)\n",
    "db['final_stock_Cs_AG'] = db['stock_Cs_AG'].reshape(db['X_A'][:, :, 0].shape)\n",
    "\n",
    "# Clean used dataset from local storage\n",
    "db['pred_Sr_bark'] = clean\n",
    "db['pred_Cs_bark'] = clean\n",
    "db['pred_Sr_br'] = clean\n",
    "db['pred_Cs_br'] = clean\n",
    "db['pred_Sr_f'] = clean\n",
    "db['pred_Cs_f'] = clean\n",
    "db['stock_Sr_stem_wood'] = clean\n",
    "db['stock_Sr_stem_bark'] = clean\n",
    "db['stock_Sr_br'] = clean\n",
    "db['stock_Sr_f'] = clean\n",
    "db['stock_Sr_AG'] = clean\n",
    "db['stock_Cs_stem_wood'] = clean\n",
    "db['stock_Cs_stem_bark'] = clean\n",
    "db['stock_Cs_br'] = clean\n",
    "db['stock_Cs_f'] = clean\n",
    "db['stock_Cs_AG'] = clean"
   ]
  },
  {
   "cell_type": "markdown",
   "id": "04111a49-e7f3-4b69-84f8-4ceb2a4c42c9",
   "metadata": {
    "tags": []
   },
   "source": [
    "# ***Estimation Pine forest litter parameters***"
   ]
  },
  {
   "cell_type": "code",
   "execution_count": 40,
   "id": "f15abc7c-4f36-43d4-a627-594a1f165964",
   "metadata": {},
   "outputs": [],
   "source": [
    "# Est. of forest floor litter in Pine stands use XGBoost model\n",
    "\n",
    "# Prepeare data\n",
    "db['litter_forecast_X'] = np.c_[db['output_H2'], db['output_D2'], db['output_G2']]"
   ]
  },
  {
   "cell_type": "code",
   "execution_count": 41,
   "id": "0977bb49-8c87-47d5-8ae9-cdc7e33e8ec1",
   "metadata": {},
   "outputs": [
    {
     "name": "stdout",
     "output_type": "stream",
     "text": [
      "[15:36:45] WARNING: /croot/xgboost-split_1675457761144/work/src/learner.cc:888: Found JSON model saved before XGBoost 1.6, please save the model using current version again. The support for old JSON model will be discontinued in XGBoost 2.3.\n"
     ]
    }
   ],
   "source": [
    "# Load XGBooost models\n",
    "xgb_model_Litter = xgb.XGBRegressor()\n",
    "xgb_model_Litter.load_model('./models/litter_model/XGB_model_litter_biomass.json')\n",
    "\n",
    "#Predict forest litter biomass\n",
    "db['pred_Litter_biomass'] = xgb_model_Litter.predict(db['litter_forecast_X'], ntree_limit=xgb_model_Litter.best_ntree_limit)"
   ]
  },
  {
   "cell_type": "code",
   "execution_count": 42,
   "id": "bd204ce6-5c53-4605-a3da-133274746dee",
   "metadata": {},
   "outputs": [],
   "source": [
    "# Estimation of RN inventory  (kBq/sq.m)\n",
    "\n",
    "db['litter_Sr_L'] = db['pred_Litter_biomass'] * 0.00258 * db['pred_Sr_wood']\n",
    "db['litter_Sr_F'] = db['pred_Litter_biomass'] * 0.00303 * db['pred_Sr_wood']\n",
    "db['litter_Sr_H'] = db['pred_Litter_biomass'] * 0.00602 * db['pred_Sr_wood']\n",
    "\n",
    "db['litter_Cs_L'] = db['pred_Litter_biomass'] * 0.00235 * db['pred_Cs_wood']\n",
    "db['litter_Cs_F'] = db['pred_Litter_biomass'] * 0.00311 * db['pred_Cs_wood']\n",
    "db['litter_Cs_H'] = db['pred_Litter_biomass'] * 0.00727 * db['pred_Cs_wood']\n",
    "\n",
    "db['Fuel_litter_Sr'] = db['litter_Sr_L'] + db['litter_Sr_F']\n",
    "db['Fuel_litter_Cs'] = db['litter_Cs_L'] + db['litter_Cs_F']\n",
    "\n",
    "db['Total_litter_Sr'] = db['litter_Sr_L'] + db['litter_Sr_F'] + db['litter_Sr_H']\n",
    "db['Total_litter_Cs'] = db['litter_Cs_L'] + db['litter_Cs_F'] + db['litter_Cs_H']\n",
    "\n",
    "# Clear data set\n",
    "db['litter_forecast_X'] = clean\n",
    "\n",
    "db['litter_Sr_L'] = clean\n",
    "db['litter_Sr_F'] = clean\n",
    "db['litter_Sr_H'] = clean\n",
    "\n",
    "db['litter_Cs_L'] = clean\n",
    "db['litter_Cs_F'] = clean\n",
    "db['litter_Cs_H'] = clean"
   ]
  },
  {
   "cell_type": "code",
   "execution_count": 43,
   "id": "4bf6eb81-ca68-43d0-8b3a-43d959504cd0",
   "metadata": {},
   "outputs": [],
   "source": [
    "# Reshape our predict maps for forest litter\n",
    "db['final_Litter_biomass'] = db['pred_Litter_biomass'].reshape(db['X_A'][:, :, 0].shape)\n",
    "db['final_Fuel_litter_Sr'] = db['Fuel_litter_Sr'].reshape(db['X_A'][:, :, 0].shape)\n",
    "db['final_Fuel_litter_Cs'] = db['Fuel_litter_Cs'].reshape(db['X_A'][:, :, 0].shape)\n",
    "db['final_Total_litter_Sr'] = db['Total_litter_Sr'].reshape(db['X_A'][:, :, 0].shape)\n",
    "db['final_Total_litter_Cs'] = db['Total_litter_Cs'].reshape(db['X_A'][:, :, 0].shape)"
   ]
  },
  {
   "cell_type": "markdown",
   "id": "14d8e55d-0f95-414b-a205-09c5a9e5693f",
   "metadata": {},
   "source": [
    "# ***Save all rasters***"
   ]
  },
  {
   "cell_type": "code",
   "execution_count": 44,
   "id": "baf05485-1614-49bf-ab72-aae6955ad759",
   "metadata": {},
   "outputs": [],
   "source": [
    "# Function for save output rasters with results (for maps)\n",
    "def save_map (file_location, layer):\n",
    "    with rasterio.open(\n",
    "        file_location,\n",
    "        'w',\n",
    "        driver='GTiff',\n",
    "        height=layer.shape[0],\n",
    "        width=layer.shape[1],\n",
    "        count=1,\n",
    "        dtype=np.float32,\n",
    "        transform=af_transf\n",
    "    ) as dest_file:\n",
    "        dest_file.write(layer, 1)\n",
    "    dest_file.close()    "
   ]
  },
  {
   "cell_type": "code",
   "execution_count": 45,
   "id": "596b7e81-24d2-4794-bbc4-6bbbee808b86",
   "metadata": {},
   "outputs": [
    {
     "name": "stdout",
     "output_type": "stream",
     "text": [
      " *** All rasters saved *** \n"
     ]
    }
   ],
   "source": [
    "# Save forest parameters to map / single-band raster\n",
    "# forest stand indicators\n",
    "save_map (f'./output_rasters/01_DBH_cm_{year}.tif', db['final_D2'])\n",
    "save_map (f'./output_rasters/02_H_m_{year}.tif', db['final_H2'])\n",
    "save_map (f'./output_rasters/03_G_or_BA_sq_m_ha{year}.tif', db['final_G2'])\n",
    "save_map (f'./output_rasters/04_classical_GS_cub_m_ha_{year}.tif', db['final_GS2'])\n",
    "save_map (f'./output_rasters/05_my_GS_cub_m_ha_{year}.tif', db['final_my_GS'])\n",
    "# above-ground biomass\n",
    "save_map (f'./output_rasters/06_all_stem_biomass_t_ha_{year}.tif', db['final_my_allStem'])\n",
    "save_map (f'./output_rasters/07_stem_bark_biomass_t_ha_{year}.tif', db['final_my_stemBark'])\n",
    "save_map (f'./output_rasters/08_branch_biomass_t_ha_{year}.tif', db['final_my_br'])\n",
    "save_map (f'./output_rasters/09_foliage_biomass_t_ha_{year}.tif', db['final_my_f'])\n",
    "save_map (f'./output_rasters/10_AG_biomass_t_ha_{year}.tif', db['final_my_AG_biomass'])\n",
    "# RN activity concentration in woods\n",
    "save_map (f'./output_rasters/11_Sr_content_in_wood_Bq_kg_{year}.tif', db['final_Sr_wood'])\n",
    "save_map (f'./output_rasters/12_Cs_content_in_wood_Bq_kg_{year}.tif', db['final_Cs_wood'])\n",
    "# Propobility is not exceeding the permissible levels for woood\n",
    "save_map (f'./output_rasters/13_P_Sr_content>PL_(0-1)_{year}.tif', db['final_Part_wood_to_PL_Sr'])\n",
    "save_map (f'./output_rasters/14_P_Cs_content>PL_(0-1)_{year}.tif', db['final_Part_wood_to_PL_Cs'])\n",
    "# Doses\n",
    "save_map (f'./output_rasters/15_Sr_in_dose_µGy_h_{year}.tif', db['final_Sr_in_dose'])\n",
    "save_map (f'./output_rasters/16_Cs_in_dose_µGy_h_{year}.tif', db['final_Cs_in_dose'])\n",
    "save_map (f'./output_rasters/17_Internal dose_µGy_h_{year}.tif', db['final_In_dose'])\n",
    "save_map (f'./output_rasters/18_Ex_dose_µGy_h_{year}.tif', db['final_Ex_dose'])\n",
    "save_map (f'./output_rasters/19_Total_dose_µGy_h_{year}.tif', db['final_Total_dose'])\n",
    "save_map (f'./output_rasters/20_Part_internal_dose_(%)_{year}.tif', db['final_Part_in_dose'])\n",
    "# RN inventory in above-ground biomass components\n",
    "save_map (f'./output_rasters/21_D_activity_Sr_stem_wood_kBq_sq_m_{year}.tif', db['final_stock_Sr_stem_wood'])\n",
    "save_map (f'./output_rasters/22_D_activity_Sr_bark_wood_kBq_sq_m_{year}.tif', db['final_stock_Sr_stem_bark'])\n",
    "save_map (f'./output_rasters/23_D_activity_Sr_branch_kBq_sq_m_{year}.tif', db['final_stock_Sr_br'])\n",
    "save_map (f'./output_rasters/24_D_activity_Sr_foliage_kBq_sq_m_{year}.tif', db['final_stock_Sr_f'])\n",
    "save_map (f'./output_rasters/25_D_activity_Sr_AG_kBq_sq_m_{year}.tif', db['final_stock_Sr_AG'])\n",
    "save_map (f'./output_rasters/26_D_activity_Cs_stem_wood_kBq_sq_m_{year}.tif', db['final_stock_Cs_stem_wood'])\n",
    "save_map (f'./output_rasters/27_D_activity_Cs_stem_bark_kBq_sq_m_{year}.tif', db['final_stock_Cs_stem_bark'])\n",
    "save_map (f'./output_rasters/29_D_activity_Cs_branch_kBq_sq_m_{year}.tif', db['final_stock_Cs_br'])\n",
    "save_map (f'./output_rasters/30_D_activity_Cs_foliage_kBq_sq_m{year}.tif', db['final_stock_Cs_f'])\n",
    "save_map (f'./output_rasters/31_D_activity_Cs_AG_kBq_sq_m_{year}.tif', db['final_stock_Cs_AG'])\n",
    "# Forest litter\n",
    "save_map (f'./output_rasters/32_Litter_biomass_kg_sq_m_(only_Pine)_{year}.tif', db['final_Litter_biomass'])\n",
    "save_map (f'./output_rasters/33_Fuel_litter_activity_Sr_kBq_sq_m_(only_Pine)_{year}.tif', db['final_Fuel_litter_Sr'])\n",
    "save_map (f'./output_rasters/34_Fuel_litter_activity_Cs_kBq_sq_m_(only_Pine)_{year}.tif', db['final_Fuel_litter_Cs'])\n",
    "save_map (f'./output_rasters/35_Total_litter_activity_Sr_kBq_sq_m_(only_Pine)_{year}.tif', db['final_Total_litter_Sr'])\n",
    "save_map (f'./output_rasters/36_Total_litter_activity_Cs_kBq_sq_m_(only_Pine)_{year}.tif', db['final_Total_litter_Cs'])\n",
    "\n",
    "print(' *** All rasters saved *** ')"
   ]
  },
  {
   "cell_type": "code",
   "execution_count": null,
   "id": "39b02bd3-a601-44c7-99b0-08c23dde1ad2",
   "metadata": {},
   "outputs": [],
   "source": []
  }
 ],
 "metadata": {
  "kernelspec": {
   "display_name": "Python 3 (ipykernel)",
   "language": "python",
   "name": "python3"
  },
  "language_info": {
   "codemirror_mode": {
    "name": "ipython",
    "version": 3
   },
   "file_extension": ".py",
   "mimetype": "text/x-python",
   "name": "python",
   "nbconvert_exporter": "python",
   "pygments_lexer": "ipython3",
   "version": "3.9.12"
  }
 },
 "nbformat": 4,
 "nbformat_minor": 5
}
