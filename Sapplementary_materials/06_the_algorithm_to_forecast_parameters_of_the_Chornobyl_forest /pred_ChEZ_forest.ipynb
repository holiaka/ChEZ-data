{
 "cells": [
  {
   "cell_type": "markdown",
   "id": "5c1d32a2-a2be-4f33-812a-0cd5dda5b181",
   "metadata": {},
   "source": [
    "# *MAIN INPUT INFORMATION FOR FORMATE OUTPUT RASTERS*"
   ]
  },
  {
   "cell_type": "code",
   "execution_count": null,
   "id": "29e082b3-7b47-4201-83df-c76742f68bf7",
   "metadata": {
    "tags": []
   },
   "outputs": [],
   "source": [
    "#  RN contamination of trunk wood\n",
    "PL_Sr = int(input('Enter the permissible level for Sr-90 activity concentration in trunk wood (Bq/kg):'))\n",
    "PL_Cs = int(input('Enter the permissible level for Cs-137 activity concentration in trunk wood (Bq/kg):'))\n",
    "\n",
    "\n",
    "# Enter the year for which you want to get indicators (from 2020 to 2050)\n",
    "year = int(input('Enter the year for which you want to receive indicators (from 2020 to 2050):'))\n",
    "if year>2019 and year<2051 :\n",
    "    print('\\n************** \\n Ok! \\n**************\\n')\n",
    "else:\n",
    "    print('\\n************** \\n Error! \\n**************\\n')"
   ]
  },
  {
   "cell_type": "markdown",
   "id": "1ee163fe-0930-469c-9104-e578df8b4022",
   "metadata": {
    "tags": []
   },
   "source": [
    "# *Prepare all input data*\n",
    "# Load modules and raster data"
   ]
  },
  {
   "cell_type": "code",
   "execution_count": null,
   "id": "5c2cbd7a",
   "metadata": {
    "tags": []
   },
   "outputs": [],
   "source": [
    "# Import Python print function and division\n",
    "from __future__ import print_function, division\n",
    "\n",
    "# Import klepto, GDAL, NumPy, and matplotlib\n",
    "import klepto\n",
    "from osgeo import gdal, gdal_array\n",
    "import numpy as np\n",
    "import matplotlib.pyplot as plt\n",
    "%matplotlib inline\n",
    "\n",
    "# Create local storage using 'klepto'\n",
    "db = klepto.archives.dir_archive('db', serialized=True, cached=False)\n",
    "\n",
    "# Tell GDAL to throw Python exceptions, and register all drivers\n",
    "gdal.UseExceptions()\n",
    "gdal.AllRegister()"
   ]
  },
  {
   "cell_type": "code",
   "execution_count": null,
   "id": "ed9a5caa-8186-4f91-adf1-b4d9f8f0f237",
   "metadata": {
    "scrolled": true
   },
   "outputs": [],
   "source": [
    "# Read our raster`s bands/channels\n",
    "\"\"\"\n",
    "Raster bands includes:\n",
    "0: Sr-90 density contamination of soil, \n",
    "1: Cs-137 density contamination of soil, \n",
    "2: ambient equivalent dose rate (ADER),\n",
    "3: species ID, \n",
    "4: origin ID, \n",
    "5: stand age, \n",
    "6: stand height, \n",
    "7: stand DBH, \n",
    "8: relative stock,\n",
    "9: soil fertility ID, \n",
    "11: the humidity of the soil \n",
    "\"\"\"\n",
    "img_ds = gdal.Open('./input_raster/clip_comb_bands.tif', gdal.GA_ReadOnly)\n",
    "\n",
    "# Copy the transformation to a variable\n",
    "GT_input = img_ds.GetGeoTransform()\n",
    "\n",
    "img = np.zeros((img_ds.RasterYSize, img_ds.RasterXSize, img_ds.RasterCount),\n",
    "               gdal_array.GDALTypeCodeToNumericTypeCode(img_ds.GetRasterBand(1).DataType))\n",
    "for b in range(img.shape[2]):\n",
    "    img[:, :, b] = img_ds.GetRasterBand(b + 1).ReadAsArray()\n",
    "\n",
    "# Clear up RAM\n",
    "img_ds = ''"
   ]
  },
  {
   "cell_type": "code",
   "execution_count": null,
   "id": "1bfa0861-6bed-43f3-8112-be12ef61200d",
   "metadata": {
    "scrolled": true
   },
   "outputs": [],
   "source": [
    "# Show bands\n",
    "plt.subplot(121)\n",
    "plt.imshow(img[:, :, 0], cmap=plt.cm.Greys_r)\n",
    "plt.title('Sr-90_kBq/sq.m')\n",
    "\n",
    "plt.subplot(122)\n",
    "plt.imshow(img[:, :, 1], cmap=plt.cm.Greys_r)\n",
    "plt.title('Cs-137_kBq/sq.m')\n",
    "\n",
    "plt.show()"
   ]
  },
  {
   "cell_type": "markdown",
   "id": "8b7dcb57-2e99-4d4a-9f6a-06fdc5a1c2b3",
   "metadata": {},
   "source": [
    "# Estimation of SI (Site index)"
   ]
  },
  {
   "cell_type": "code",
   "execution_count": null,
   "id": "d9ecdfb0",
   "metadata": {},
   "outputs": [],
   "source": [
    "# Select bands for est. SI\n",
    "\n",
    "db['X_SI'] = img[:, :, [3, 4, 5, 6]]\n",
    "\n",
    "print('Our X matrix is sized: {sz}'.format(sz=db['X_SI'].shape))"
   ]
  },
  {
   "cell_type": "code",
   "execution_count": null,
   "id": "526efc8e-fcd5-4c9a-a49f-27bbf083f90c",
   "metadata": {},
   "outputs": [],
   "source": [
    "#  Importing the main library for building model and its analysis\n",
    "\n",
    "import xgboost as xgb\n",
    "import pandas as pd"
   ]
  },
  {
   "cell_type": "code",
   "execution_count": null,
   "id": "90e727d6-a51f-43c2-9469-9ce604054af0",
   "metadata": {},
   "outputs": [],
   "source": [
    "# Load learned model\n",
    "xgb_model_SI = xgb.XGBRegressor()\n",
    "\n",
    "xgb_model_SI.load_model('./models/growing_model/XGB_model_SI.txt')"
   ]
  },
  {
   "cell_type": "code",
   "execution_count": null,
   "id": "8367b868-2983-42dd-90cf-c5693165d065",
   "metadata": {},
   "outputs": [],
   "source": [
    "# Show all parameters of XGBoost model\n",
    "\n",
    "print(xgb_model_SI)"
   ]
  },
  {
   "cell_type": "code",
   "execution_count": null,
   "id": "493c6689-e6fe-4b02-9b5e-810273087f25",
   "metadata": {},
   "outputs": [],
   "source": [
    "# Take our full image, ignore the Fmask band, and reshape into long 2d array (nrow * ncol, nband) for classification\n",
    "db['new_shape_X_SI'] = (db['X_SI'].shape[0] * db['X_SI'].shape[1], db['X_SI'].shape[2])\n",
    "\n",
    "db['array_X_SI'] = db['X_SI'].reshape(db['new_shape_X_SI'])\n",
    "print('Reshaped from {o} to {n}'.format(o=db['X_SI'].shape,\n",
    "                                        n=db['array_X_SI'].shape))"
   ]
  },
  {
   "cell_type": "code",
   "execution_count": null,
   "id": "258309d2-3ec1-4787-bf2f-1298274db14c",
   "metadata": {},
   "outputs": [],
   "source": [
    "# Create predict values for each pixels for Site index\n",
    "db['pred_SI'] = xgb_model_SI.predict(db['array_X_SI'], ntree_limit=xgb_model_SI.best_ntree_limit)\n",
    "\n",
    "# Reshape our predict map\n",
    "db['output_pred_SI'] = db['pred_SI'].reshape(db['X_SI'][:, :, 0].shape)"
   ]
  },
  {
   "cell_type": "markdown",
   "id": "bc2bd773-46cb-4e79-a92c-0017d6973b82",
   "metadata": {},
   "source": [
    "# Save prediction SI map"
   ]
  },
  {
   "cell_type": "code",
   "execution_count": null,
   "id": "a119bdf2-3230-4d65-a79f-c8e3a0bf9801",
   "metadata": {},
   "outputs": [],
   "source": [
    "# Load \"rasterio\" library\n",
    "import rasterio"
   ]
  },
  {
   "cell_type": "code",
   "execution_count": null,
   "id": "cc13346e-3d62-4f72-a1d1-2dee115561a2",
   "metadata": {},
   "outputs": [],
   "source": [
    "# Save output raster\n",
    "from affine import Affine\n",
    "af_transf = Affine.from_gdal(*GT_input)\n",
    "\n",
    "with rasterio.open(\n",
    "    './output_rasters/01_SI_map.tif',\n",
    "    'w',\n",
    "    driver='GTiff',\n",
    "    height=db['output_pred_SI'].shape[0],\n",
    "    width=db['output_pred_SI'].shape[1],\n",
    "    count=1,\n",
    "    dtype=np.float32,\n",
    "    transform=af_transf\n",
    ") as dest_file:\n",
    "    dest_file.write(db['output_pred_SI'], 1)\n",
    "dest_file.close()"
   ]
  },
  {
   "cell_type": "markdown",
   "id": "bde4d420-1be7-459f-a9fd-8b9be987e951",
   "metadata": {
    "tags": []
   },
   "source": [
    "# Calculate forest parameters"
   ]
  },
  {
   "cell_type": "code",
   "execution_count": null,
   "id": "9f08ad79-7dfd-4975-87e9-4b4b893f7ae7",
   "metadata": {},
   "outputs": [],
   "source": [
    "# Calculate stands probobly parameters when RS/P = 1\n",
    "\n",
    "# Formate array data for species_ID and origin_ID:\n",
    "db['X_Sp_Or'] = img[:, :, [3, 4]]    \n",
    "\n",
    "db['new_shape_norm_X_Sp_Or'] = (db['X_Sp_Or'].shape[0] * db['X_Sp_Or'].shape[1], db['X_Sp_Or'].shape[2])\n",
    "db['array_norm_X_Sp_Or'] = db['X_Sp_Or'].reshape(db['new_shape_norm_X_Sp_Or'])\n",
    "    \n",
    "# Formate array data for A:\n",
    "db['X_A'] = img[:, :, [5]]    \n",
    "\n",
    "db['new_shape_norm_X_A'] = (db['X_A'].shape[0] * db['X_A'].shape[1], db['X_A'].shape[2])\n",
    "db['array_norm_X_A'] = db['X_A'].reshape(db['new_shape_norm_X_A'])"
   ]
  },
  {
   "cell_type": "code",
   "execution_count": null,
   "id": "eadb0edd-dbcf-4a52-a759-5485163ce361",
   "metadata": {},
   "outputs": [],
   "source": [
    "# Unit array data for est. forest normal stand parameters \n",
    "db['X_norm_FP'] = np.c_[db['array_norm_X_Sp_Or'], db['pred_SI'], db['array_norm_X_A']]"
   ]
  },
  {
   "cell_type": "code",
   "execution_count": null,
   "id": "e2d5649a-a8b8-49ea-a0f6-4e5c6909a887",
   "metadata": {},
   "outputs": [],
   "source": [
    "# Show of united colomns\n",
    "print(db['X_norm_FP'])"
   ]
  },
  {
   "cell_type": "code",
   "execution_count": null,
   "id": "98b640f9-2b9d-4190-a068-1743dec32464",
   "metadata": {},
   "outputs": [],
   "source": [
    "# Load learned XGBoost models for est parameters of normal forest stands\n",
    "xgb_model_D = xgb.XGBRegressor()\n",
    "xgb_model_D.load_model('./models/growing_model/XGB_model_ln_D_THR_data.txt')\n",
    "\n",
    "xgb_model_H = xgb.XGBRegressor()\n",
    "xgb_model_H.load_model('./models/growing_model/XGB_model_ln_H_THR_data.txt')\n",
    "\n",
    "xgb_model_G = xgb.XGBRegressor()\n",
    "xgb_model_G.load_model('./models/growing_model/XGB_model_ln_G_THR_data.txt')\n",
    "\n",
    "xgb_model_GS = xgb.XGBRegressor()\n",
    "xgb_model_GS.load_model('./models/growing_model/XGB_model_ln_GS_THR_data.txt')"
   ]
  },
  {
   "cell_type": "code",
   "execution_count": null,
   "id": "ec60a940-854a-488b-91ae-44799ee4bd5b",
   "metadata": {},
   "outputs": [],
   "source": [
    "# Create predict values for parameters as normal forest stands\n",
    "db['pred_ln_D1'] = xgb_model_D.predict(db['X_norm_FP'], ntree_limit=xgb_model_D.best_ntree_limit)\n",
    "\n",
    "db['pred_ln_H1'] = xgb_model_H.predict(db['X_norm_FP'], ntree_limit=xgb_model_H.best_ntree_limit)\n",
    "\n",
    "db['pred_ln_G1'] = xgb_model_G.predict(db['X_norm_FP'], ntree_limit=xgb_model_G.best_ntree_limit)\n",
    "\n",
    "db['pred_ln_GS1'] = xgb_model_GS.predict(db['X_norm_FP'], ntree_limit=xgb_model_GS.best_ntree_limit)\n",
    "\n",
    "db['pred_D1'] = np.exp(db['pred_ln_D1'])\n",
    "\n",
    "db['pred_H1'] = np.exp(db['pred_ln_H1'])\n",
    "\n",
    "db['pred_G1'] = np.exp(db['pred_ln_G1'])\n",
    "\n",
    "db['pred_GS1'] = np.exp(db['pred_ln_GS1'])"
   ]
  },
  {
   "cell_type": "code",
   "execution_count": 1,
   "id": "d272a0de-7e3c-436b-8f78-730937c90b33",
   "metadata": {},
   "outputs": [
    {
     "ename": "NameError",
     "evalue": "name 'img' is not defined",
     "output_type": "error",
     "traceback": [
      "\u001b[0;31m---------------------------------------------------------------------------\u001b[0m",
      "\u001b[0;31mNameError\u001b[0m                                 Traceback (most recent call last)",
      "Input \u001b[0;32mIn [1]\u001b[0m, in \u001b[0;36m<cell line: 2>\u001b[0;34m()\u001b[0m\n\u001b[1;32m      1\u001b[0m \u001b[38;5;66;03m# Ration between empirical and normal values of forest indicators\u001b[39;00m\n\u001b[0;32m----> 2\u001b[0m db[\u001b[38;5;124m'\u001b[39m\u001b[38;5;124mD\u001b[39m\u001b[38;5;124m'\u001b[39m] \u001b[38;5;241m=\u001b[39m \u001b[43mimg\u001b[49m[:, :, [\u001b[38;5;241m7\u001b[39m]]\n\u001b[1;32m      3\u001b[0m db[\u001b[38;5;124m'\u001b[39m\u001b[38;5;124mnew_shape_D\u001b[39m\u001b[38;5;124m'\u001b[39m] \u001b[38;5;241m=\u001b[39m (db[\u001b[38;5;124m'\u001b[39m\u001b[38;5;124mD\u001b[39m\u001b[38;5;124m'\u001b[39m]\u001b[38;5;241m.\u001b[39mshape[\u001b[38;5;241m0\u001b[39m] \u001b[38;5;241m*\u001b[39m db[\u001b[38;5;124m'\u001b[39m\u001b[38;5;124mD\u001b[39m\u001b[38;5;124m'\u001b[39m]\u001b[38;5;241m.\u001b[39mshape[\u001b[38;5;241m1\u001b[39m], db[\u001b[38;5;124m'\u001b[39m\u001b[38;5;124mD\u001b[39m\u001b[38;5;124m'\u001b[39m]\u001b[38;5;241m.\u001b[39mshape[\u001b[38;5;241m2\u001b[39m])\n\u001b[1;32m      4\u001b[0m db[\u001b[38;5;124m'\u001b[39m\u001b[38;5;124marray_D\u001b[39m\u001b[38;5;124m'\u001b[39m] \u001b[38;5;241m=\u001b[39m db[\u001b[38;5;124m'\u001b[39m\u001b[38;5;124mD\u001b[39m\u001b[38;5;124m'\u001b[39m]\u001b[38;5;241m.\u001b[39mreshape(db[\u001b[38;5;124m'\u001b[39m\u001b[38;5;124mnew_shape_D\u001b[39m\u001b[38;5;124m'\u001b[39m])\n",
      "\u001b[0;31mNameError\u001b[0m: name 'img' is not defined"
     ]
    }
   ],
   "source": [
    "# Ration between empirical and normal values of forest indicators\n",
    "db['D'] = img[:, :, [7]]\n",
    "db['new_shape_D'] = (db['D'].shape[0] * db['D'].shape[1], db['D'].shape[2])\n",
    "db['array_D'] = db['D'].reshape(db['new_shape_D'])\n",
    "db['ratio_D'] = np.divide(db['array_D'][:,0], db['pred_D1'])\n",
    "\n",
    "db['H'] = img[:, :, [6]]\n",
    "db['new_shape_H'] = (db['H'].shape[0] * db['H'].shape[1], db['H'].shape[2])\n",
    "db['array_H'] = db['H'].reshape(db['new_shape_H'])\n",
    "db['ratio_H'] = np.divide(db['array_H'][:,0], db['pred_H1'])\n",
    "\n",
    "db['P'] = img[:, :, [8]] # relative stocking\n",
    "db['new_shape_P'] = (db['P'].shape[0] * db['P'].shape[1], db['P'].shape[2])\n",
    "db['array_P'] = db['P'].reshape(db['new_shape_P'])\n",
    "\n",
    "db['G'] = np.multiply(db['array_P'][:,0], db['pred_G1'])\n",
    "db['GS'] = np.multiply(db['array_P'][:,0], db['pred_GS1'])"
   ]
  },
  {
   "cell_type": "code",
   "execution_count": null,
   "id": "b7495721-7567-4f9b-8034-8be686c6507d",
   "metadata": {},
   "outputs": [],
   "source": [
    "# Calculate forest  parameters for years\n",
    "a_stand = year-2016\n",
    "\n",
    "A_forecast = array_norm_X_A[:,0]+a_stand # stand age\n",
    "FP_forecast = np.c_[array_norm_X_Sp_Or, pred_SI, A_forecast]\n",
    "\n",
    "# Create predict values for parameters as normal forest stands\n",
    "pred_ln_D2 = xgb_model_D.predict(FP_forecast, ntree_limit=xgb_model_D.best_ntree_limit)\n",
    "\n",
    "pred_ln_H2 = xgb_model_H.predict(FP_forecast, ntree_limit=xgb_model_H.best_ntree_limit)\n",
    "\n",
    "pred_ln_G2 = xgb_model_G.predict(FP_forecast, ntree_limit=xgb_model_G.best_ntree_limit)\n",
    "\n",
    "pred_ln_GS2 = xgb_model_GS.predict(FP_forecast, ntree_limit=xgb_model_GS.best_ntree_limit)\n",
    "\n",
    "pred_D2 = np.exp(pred_ln_D2)\n",
    "\n",
    "pred_H2 = np.exp(pred_ln_H2)\n",
    "\n",
    "pred_G2 = np.exp(pred_ln_G2)\n",
    "\n",
    "pred_GS2 = np.exp(pred_ln_GS2)"
   ]
  },
  {
   "cell_type": "code",
   "execution_count": null,
   "id": "fd0f7249-e955-455b-9fec-f6bde56c79fa",
   "metadata": {},
   "outputs": [],
   "source": [
    "# Output results for forest stand parameters\n",
    "output_D2 = np.multiply(ratio_D, pred_D2)\n",
    "output_H2 = np.multiply(ratio_H, pred_H2)\n",
    "output_G2 = np.multiply(array_P[:,0], pred_G2)\n",
    "output_GS2 = np.multiply(array_P[:,0], pred_GS2)"
   ]
  },
  {
   "cell_type": "code",
   "execution_count": null,
   "id": "bdece26e-397d-43f8-a1f7-4c0d93d9855a",
   "metadata": {},
   "outputs": [],
   "source": [
    "# Est. biomass use my models\n",
    "\n",
    "# Prepeare data\n",
    "biomass_forecast_X = np.c_[array_norm_X_Sp_Or, output_H2, output_D2, output_G2]"
   ]
  },
  {
   "cell_type": "code",
   "execution_count": null,
   "id": "6f2eb9ac-d646-4cc9-9e10-373dbfbbe373",
   "metadata": {},
   "outputs": [],
   "source": [
    "# Load XGBooost models\n",
    "xgb_model_GS = xgb.XGBRegressor()\n",
    "xgb_model_allStem = xgb.XGBRegressor()\n",
    "xgb_model_stemBark = xgb.XGBRegressor()\n",
    "xgb_model_br = xgb.XGBRegressor()\n",
    "xgb_model_f = xgb.XGBRegressor()\n",
    "xgb_model_GS.load_model('./models/biomass_model/xgb_model_LN_GS.json')\n",
    "xgb_model_allStem.load_model('./models/biomass_model/xgb_model_LN_M_all_stem.json')\n",
    "xgb_model_stemBark.load_model('./models/biomass_model/xgb_model_LN_M_branch.json')\n",
    "xgb_model_br.load_model('./models/biomass_model/xgb_model_LN_M_branch.json')\n",
    "xgb_model_f.load_model('./models/biomass_model/xgb_model_LN_M_stem_bark.json')\n",
    "\n",
    "#Predict parameters\n",
    "pred_my_ln_GS = xgb_model_GS.predict(biomass_forecast_X, ntree_limit=xgb_model_GS.best_ntree_limit)\n",
    "pred_my_ln_allStem = xgb_model_allStem.predict(biomass_forecast_X, ntree_limit=xgb_model_allStem.best_ntree_limit)\n",
    "pred_my_ln_stemBark = xgb_model_stemBark.predict(biomass_forecast_X, ntree_limit=xgb_model_stemBark.best_ntree_limit)\n",
    "pred_my_ln_br = xgb_model_br.predict(biomass_forecast_X, ntree_limit=xgb_model_br.best_ntree_limit)\n",
    "pred_my_ln_f = xgb_model_f.predict(biomass_forecast_X, ntree_limit=xgb_model_f.best_ntree_limit)"
   ]
  },
  {
   "cell_type": "code",
   "execution_count": null,
   "id": "2e032fff-262d-40a1-a64b-f19d8d984a96",
   "metadata": {},
   "outputs": [],
   "source": [
    "# Convert predicted parameters to real values\n",
    "pred_my_GS = np.exp(pred_my_ln_GS)\n",
    "pred_my_allStem = np.exp(pred_my_ln_allStem)\n",
    "pred_my_stemBark = np.exp(pred_my_ln_stemBark)\n",
    "pred_my_br = np.exp(pred_my_ln_br)\n",
    "pred_my_f = np.exp(pred_my_ln_f)"
   ]
  },
  {
   "cell_type": "code",
   "execution_count": null,
   "id": "a75dea6b-e24f-4562-80ab-24d3886cb245",
   "metadata": {},
   "outputs": [],
   "source": [
    "# Calculating the sum of above-ground biomass using the XGBoost algorithm\n",
    "pred_my_AG_biomass = pred_my_allStem + pred_my_br + pred_my_f"
   ]
  },
  {
   "cell_type": "code",
   "execution_count": null,
   "id": "d7e8a485-0714-4d3a-9f81-6c777b593745",
   "metadata": {},
   "outputs": [],
   "source": [
    "# Reshape our predict maps for forest parameters\n",
    "final_D2 = output_D2.reshape(X_A[:, :, 0].shape)\n",
    "final_H2 = output_H2.reshape(X_A[:, :, 0].shape)\n",
    "final_G2 = output_G2.reshape(X_A[:, :, 0].shape)\n",
    "final_GS2 = output_GS2.reshape(X_A[:, :, 0].shape)\n",
    "\n",
    "final_my_GS = pred_my_GS.reshape(X_A[:, :, 0].shape)\n",
    "final_my_allStem = pred_my_allStem.reshape(X_A[:, :, 0].shape)\n",
    "final_my_stemBark = pred_my_stemBark.reshape(X_A[:, :, 0].shape)\n",
    "final_my_br = pred_my_br.reshape(X_A[:, :, 0].shape)\n",
    "final_my_f = pred_my_f.reshape(X_A[:, :, 0].shape)\n",
    "final_my_AG_biomass = pred_my_AG_biomass.reshape(X_A[:, :, 0].shape)"
   ]
  },
  {
   "cell_type": "markdown",
   "id": "6c8c1aa8-a46d-4264-b2d4-686bf4fae8a4",
   "metadata": {},
   "source": [
    "# *Preporation RN data*"
   ]
  },
  {
   "cell_type": "code",
   "execution_count": null,
   "id": "7484d0e9-797f-4c30-a093-6affec509ec3",
   "metadata": {},
   "outputs": [],
   "source": [
    "# RN decay\n",
    "# calculation \n",
    "decay_time = year-2020\n",
    "decay_Sr = 1*2**(-decay_time/28.91)\n",
    "decay_Cs = 1*2**(-decay_time/30.08)"
   ]
  },
  {
   "cell_type": "code",
   "execution_count": null,
   "id": "6436f6b5-1c91-4582-8866-9ce5762e7f87",
   "metadata": {},
   "outputs": [],
   "source": [
    "# Convert into array RN bands\n",
    "X_RN = img[:, :, [0, 1, 2]]\n",
    "\n",
    "# Take our full image, ignore the Fmask band, and reshape into long 2d array (nrow * ncol, nband) for classification\n",
    "new_shape_X_RN = (X_RN.shape[0] * X_RN.shape[1], X_RN.shape[2])\n",
    "\n",
    "array_X_RN = X_RN.reshape(new_shape_X_RN)\n",
    "print('Reshaped from {o} to {n}'.format(o=X_RN.shape,\n",
    "                                        n=array_X_RN.shape))"
   ]
  },
  {
   "cell_type": "code",
   "execution_count": null,
   "id": "b7e90e80-d7d1-49ae-8456-758c0ad7ad81",
   "metadata": {},
   "outputs": [],
   "source": [
    "# Calculation of RN concentration and AEDR as of \"year\"\n",
    "output_Sr = array_X_RN[:,0] * decay_Sr\n",
    "output_Cs = array_X_RN[:,1] * decay_Cs\n",
    "output_AEDR = ((array_X_RN[:,2]-0.1) * decay_Cs)+0.1"
   ]
  },
  {
   "cell_type": "code",
   "execution_count": null,
   "id": "564832fd-23cd-4e19-8f10-d5bf65a6a0c7",
   "metadata": {},
   "outputs": [],
   "source": [
    "# Calculation of RN concentration in trunk wood as of \"year\"\n",
    "\n",
    "X_Sp = img[:, :, [3]] # select species band\n",
    "new_shape_X_Sp = (X_Sp.shape[0] * X_Sp.shape[1], X_Sp.shape[2])\n",
    "array_X_Sp= X_Sp.reshape(new_shape_X_Sp)\n",
    "\n",
    "X_Fsoil = img[:, :, [9]] # select soil fertility band\n",
    "new_shape_X_Fsoil = (X_Fsoil.shape[0] * X_Fsoil.shape[1], X_Fsoil.shape[2])\n",
    "array_X_Fsoil= X_Fsoil.reshape(new_shape_X_Fsoil)\n",
    "              \n",
    "# Created array for predict of RN activity concentration of stem wood\n",
    "Wood_AC_Sr_forecast_X = np.c_[array_X_Sp, output_D2, array_X_Fsoil, output_AEDR, output_Sr]\n",
    "Wood_AC_Cs_forecast_X = np.c_[array_X_Sp, output_D2, output_H2, output_G2, A_forecast, array_X_Fsoil, output_AEDR]\n",
    "\n",
    "# Load XGBooost models\n",
    "xgb_model_ln_Sr_wood = xgb.XGBRegressor()\n",
    "xgb_model_ln_Cs_wood = xgb.XGBRegressor()\n",
    "\n",
    "xgb_model_ln_Sr_wood.load_model('./models/RN_models/xgb_model_LN_Sr_without_geo(D).txt')\n",
    "xgb_model_ln_Cs_wood.load_model('./models/RN_models/xgb_model_LN_Cs_without_geo.txt')\n",
    "\n",
    "# Predict parameters\n",
    "pred_ln_Sr_wood = xgb_model_ln_Sr_wood.predict(Wood_AC_Sr_forecast_X, ntree_limit=xgb_model_ln_Sr_wood.best_ntree_limit)\n",
    "pred_ln_Cs_wood = xgb_model_ln_Cs_wood.predict(Wood_AC_Cs_forecast_X, ntree_limit=xgb_model_ln_Cs_wood.best_ntree_limit)"
   ]
  },
  {
   "cell_type": "code",
   "execution_count": null,
   "id": "cddd510f-f9e4-4fcd-b6b1-aa5d309ef832",
   "metadata": {},
   "outputs": [],
   "source": [
    "# Preprocessing RN and AEDR data before transfer into raster\n",
    "\n",
    "# Convert predicted parameters to real values\n",
    "pred_Sr_wood = np.exp(pred_ln_Sr_wood)\n",
    "pred_Cs_wood = np.exp(pred_ln_Cs_wood)\n",
    "\n",
    "# Reshape our predict maps for RN contaminated of stem wood\n",
    "final_Sr_wood = pred_Sr_wood.reshape(X_A[:, :, 0].shape)\n",
    "final_Cs_wood = pred_Cs_wood.reshape(X_A[:, :, 0].shape)"
   ]
  },
  {
   "cell_type": "code",
   "execution_count": null,
   "id": "9e33eefa-ff52-417b-a444-7c3d911005f1",
   "metadata": {},
   "outputs": [],
   "source": [
    "# Assessment of radiation doses to tree trunk wood\n",
    "\n",
    "# load \"math\" and \"stat\" libraries\n",
    "from scipy.stats import norm\n",
    "import math\n",
    "\n",
    "# preprocessing\n",
    "massTree=pred_my_allStem*1000/(output_G2/((math.pi*(output_D2/100)**2)/4))\n",
    "Sr_in_doses = (0.000594*massTree**0.01435)*pred_Sr_wood\n",
    "Cs_in_doses = (0.0001764**massTree**0.0934)*pred_Cs_wood\n",
    "In_doses = Sr_in_doses + Cs_in_doses\n",
    "Ex_doses = output_AEDR\n",
    "Total_dose = In_doses + Ex_doses\n",
    "Part_in_dose = In_doses / Total_dose * 100\n",
    "\n",
    "final_Sr_in_doses = Sr_in_doses.reshape(X_A[:, :, 0].shape)\n",
    "final_Cs_in_doses = Cs_in_doses.reshape(X_A[:, :, 0].shape)\n",
    "final_In_doses = In_doses.reshape(X_A[:, :, 0].shape)\n",
    "final_Ex_doses = Ex_doses.reshape(X_A[:, :, 0].shape)\n",
    "final_Total_dose = Total_dose.reshape(X_A[:, :, 0].shape)\n",
    "final_Part_in_dose = Part_in_dose.reshape(X_A[:, :, 0].shape)"
   ]
  },
  {
   "cell_type": "code",
   "execution_count": null,
   "id": "edbb4014-af7d-47f3-93df-7b73e2c4209f",
   "metadata": {},
   "outputs": [],
   "source": [
    "# Prediction of the trees/woods portion that is not exceeding the permissible levels of wood contamination\n",
    "# for Sr-90\n",
    "ratio_Sr_wood = pred_Sr_wood/PL_Sr\n",
    "Z_scope_Sr_wood = np.log(ratio_Sr_wood)/np.log(1.6)\n",
    "Part_wood_to_PL_Sr = norm(loc = 0 , scale = 1).cdf(Z_scope_Sr_wood)\n",
    "\n",
    "# for Cs-137\n",
    "ratio_Cs_wood = pred_Cs_wood/PL_Cs\n",
    "Z_scope_Cs_wood = np.log(ratio_Cs_wood)/np.log(1.6)\n",
    "Part_wood_to_PL_Cs = norm(loc = 0 , scale = 1).cdf(Z_scope_Cs_wood)\n",
    "\n",
    "# final output values\n",
    "final_Part_wood_to_PL_Sr = Part_wood_to_PL_Sr.reshape(X_A[:, :, 0].shape)\n",
    "final_Part_wood_to_PL_Cs = Part_wood_to_PL_Cs.reshape(X_A[:, :, 0].shape)"
   ]
  },
  {
   "cell_type": "code",
   "execution_count": null,
   "id": "c2538646-63bf-4bb7-ab0d-31f3b131f289",
   "metadata": {},
   "outputs": [],
   "source": [
    "# Clean up RAM\n",
    "clean = []\n",
    "\n",
    "X_SI = clean\n",
    "new_shape_X_SI = clean\n",
    "array_X_SI = clean \n",
    "\n",
    "X_Sp_Or = clean\n",
    "new_shape_norm_X_Sp_Or = clean\n",
    "array_norm_X_Sp_Or = clean\n",
    "new_shape_norm_X_A = clean\n",
    "\n",
    "pred_ln_D1 = clean\n",
    "pred_ln_H1 = clean\n",
    "pred_ln_G1 = clean\n",
    "pred_ln_GS1 = clean\n",
    "\n",
    "D = clean\n",
    "new_shape_D = clean\n",
    "array_D = clean\n",
    "ratio_D = clean\n",
    "H = clean\n",
    "new_shape_H = clean\n",
    "array_H = clean\n",
    "ratio_H = clean\n",
    "P = clean\n",
    "new_shape_P = clean\n",
    "array_P = clean\n",
    "G = clean\n",
    "GS = clean\n",
    "\n",
    "FP_forecast = clean\n",
    "\n",
    "pred_ln_D2 = clean\n",
    "pred_ln_H2 = clean\n",
    "pred_ln_G2 = clean\n",
    "pred_ln_GS2 = clean\n",
    "pred_D2 = clean\n",
    "pred_H2 = clean\n",
    "pred_G2 = clean\n",
    "pred_GS2 = clean\n",
    "\n",
    "biomass_forecast_X = clean\n",
    "\n",
    "pred_my_ln_GS = clean\n",
    "pred_my_ln_allStem = clean\n",
    "pred_my_ln_stemBark = clean\n",
    "pred_my_ln_br = clean\n",
    "pred_my_ln_f = clean\n",
    "\n",
    "X_RN = clean\n",
    "new_shape_X_RN = clean\n",
    "array_X_RN = clean\n",
    "output_Sr = clean\n",
    "output_Cs = clean\n",
    "output_AEDR = clean\n",
    "\n",
    "X_Sp = clean\n",
    "new_shape_X_Sp = clean\n",
    "X_Fsoil = clean\n",
    "new_shape_X_Fsoil = clean\n",
    "array_X_Fsoil = clean\n",
    "\n",
    "\n",
    "Wood_AC_Sr_forecast_X = clean\n",
    "Wood_AC_Cs_forecast_X = clean\n",
    "\n",
    "massTree = clean\n",
    "Sr_in_doses = clean\n",
    "Cs_in_doses = clean\n",
    "In_doses = clean\n",
    "Ex_doses = clean\n",
    "Total_dose = clean\n",
    "Part_in_dose = clean\n",
    "\n",
    "ratio_Sr_wood = clean\n",
    "Z_scope_Sr_wood = clean\n",
    "Part_wood_to_PL_Sr = clean\n",
    "ratio_Cs_wood = clean\n",
    "Z_scope_Cs_wood = clean\n",
    "Part_wood_to_PL_Cs = clean"
   ]
  },
  {
   "cell_type": "markdown",
   "id": "d0ea2ed8",
   "metadata": {},
   "source": [
    "# Est. of RN stock in AG biomass"
   ]
  },
  {
   "cell_type": "code",
   "execution_count": null,
   "id": "92ac0d16-29c9-46f6-96b0-00e70bb05aff",
   "metadata": {},
   "outputs": [],
   "source": [
    "# Reclassfication species_ID\n",
    "neg_invers_array_X_Sp = array_X_Sp * -1"
   ]
  },
  {
   "cell_type": "code",
   "execution_count": null,
   "id": "56512593-427c-48d9-95d9-3992d3dd0355",
   "metadata": {},
   "outputs": [],
   "source": [
    "# Ratio between RN activity concentration in biomass component and trunk wood ([trunk bark, branch, foliage])\n",
    "ratio_Cs_Pine = [3, 3, 5]\n",
    "ratio_Sr_Pine = [4, 3.5, 3]\n",
    "ratio_Cs_Spruce = [3, 3, 5]\n",
    "ratio_Sr_Spruce = [4, 3.5, 3]\n",
    "ratio_Cs_Birch = [2, 2, 3]\n",
    "ratio_Sr_Birch = [6, 5, 7]\n",
    "ratio_Cs_Alder = [1.8, 2, 3]\n",
    "ratio_Sr_Alder = [2, 2, 2.5]\n",
    "ratio_Cs_Aspen = [1.8, 2, 3]\n",
    "ratio_Sr_Aspen = [2, 2, 2.5]\n",
    "ratio_Cs_Oak = [4, 1.5, 6.5]\n",
    "ratio_Sr_Oak = [11, 4, 3.5]\n",
    "\n",
    "# The inverse of species ID \n",
    "species_name = [0, -1, -2, -3, -4, -5]"
   ]
  },
  {
   "cell_type": "code",
   "execution_count": null,
   "id": "d568c2b9-5c74-4c91-bc7e-4ae597f467a1",
   "metadata": {},
   "outputs": [],
   "source": [
    "# Func. for full reclassification data\n",
    "def est_ratio (ratio_data, raster, species):\n",
    "    for i in range(len(ratio_data)):\n",
    "        global a\n",
    "        a=ratio_data\n",
    "        globals()[f'comp_{i}'] = np.where(raster == species, ratio_data[i], 0)      "
   ]
  },
  {
   "cell_type": "code",
   "execution_count": null,
   "id": "9e98fbe8-65dd-4055-a6b3-bbeab18c579e",
   "metadata": {
    "scrolled": true
   },
   "outputs": [],
   "source": [
    "# Calc. ratio for RN in different components\n",
    "# for Cs-137\n",
    "est_ratio(ratio_Cs_Pine, neg_invers_array_X_Sp, 0)\n",
    "ratio_Pine_comp_0 = comp_0\n",
    "ratio_Pine_comp_1 = comp_1\n",
    "ratio_Pine_comp_2 = comp_2\n",
    "\n",
    "est_ratio(ratio_Cs_Spruce, neg_invers_array_X_Sp, -1)\n",
    "ratio_Spruce_comp_0 = comp_0\n",
    "ratio_Spruce_comp_1 = comp_1\n",
    "ratio_Spruce_comp_2 = comp_2\n",
    "\n",
    "est_ratio(ratio_Cs_Birch, neg_invers_array_X_Sp, -2)\n",
    "ratio_Birch_comp_0 = comp_0\n",
    "ratio_Birch_comp_1 = comp_1\n",
    "ratio_Birch_comp_2 = comp_2\n",
    "\n",
    "est_ratio(ratio_Cs_Alder, neg_invers_array_X_Sp, -3)\n",
    "ratio_Alder_comp_0 = comp_0\n",
    "ratio_Alder_comp_1 = comp_1\n",
    "ratio_Alder_comp_2 = comp_2\n",
    "\n",
    "est_ratio(ratio_Cs_Aspen, neg_invers_array_X_Sp, -4)\n",
    "ratio_Aspen_comp_0  = comp_0\n",
    "ratio_Aspen_comp_1 = comp_1\n",
    "ratio_Aspen_comp_2 = comp_2\n",
    "\n",
    "est_ratio(ratio_Cs_Oak, neg_invers_array_X_Sp, -5)\n",
    "ratio_Oak_comp_0 = comp_0\n",
    "ratio_Oak_comp_1 = comp_1\n",
    "ratio_Oak_comp_2 = comp_2\n",
    "\n",
    "ratio_Cs_comp_0 = ratio_Pine_comp_0 + ratio_Spruce_comp_0 + ratio_Birch_comp_0 + ratio_Alder_comp_0 + ratio_Aspen_comp_0 + ratio_Oak_comp_0\n",
    "ratio_Cs_comp_1 = ratio_Pine_comp_1 + ratio_Spruce_comp_1 + ratio_Birch_comp_1 + ratio_Alder_comp_1 + ratio_Aspen_comp_1 + ratio_Oak_comp_1\n",
    "ratio_Cs_comp_2 = ratio_Pine_comp_2 + ratio_Spruce_comp_2 + ratio_Birch_comp_2 + ratio_Alder_comp_2 + ratio_Aspen_comp_2 + ratio_Oak_comp_2\n",
    "\n",
    "# for Sr-90\n",
    "est_ratio(ratio_Sr_Pine, neg_invers_array_X_Sp, 0)\n",
    "ratio_Pine_comp_0 = comp_0\n",
    "ratio_Pine_comp_1 = comp_1\n",
    "ratio_Pine_comp_2 = comp_2\n",
    "\n",
    "est_ratio(ratio_Sr_Spruce, neg_invers_array_X_Sp, -1)\n",
    "ratio_Spruce_comp_0 = comp_0\n",
    "ratio_Spruce_comp_1 = comp_1\n",
    "ratio_Spruce_comp_2 = comp_2\n",
    "\n",
    "est_ratio(ratio_Sr_Birch, neg_invers_array_X_Sp, -2)\n",
    "ratio_Birch_comp_0 = comp_0\n",
    "ratio_Birch_comp_1 = comp_1\n",
    "ratio_Birch_comp_2 = comp_2\n",
    "\n",
    "est_ratio(ratio_Sr_Alder, neg_invers_array_X_Sp, -3)\n",
    "ratio_Alder_comp_0 = comp_0\n",
    "ratio_Alder_comp_1 = comp_1\n",
    "ratio_Alder_comp_2 = comp_2\n",
    "\n",
    "est_ratio(ratio_Sr_Aspen, neg_invers_array_X_Sp, -4)\n",
    "ratio_Aspen_comp_1  = comp_0\n",
    "ratio_Aspen_comp_1 = comp_1\n",
    "ratio_Aspen_comp_2 = comp_2\n",
    "\n",
    "est_ratio(ratio_Sr_Oak, neg_invers_array_X_Sp, -5)\n",
    "ratio_Oak_comp_0 = comp_0\n",
    "ratio_Oak_comp_1 = comp_1\n",
    "ratio_Oak_comp_2 = comp_2\n",
    "\n",
    "ratio_Sr_comp_0 = ratio_Pine_comp_0 + ratio_Spruce_comp_0 + ratio_Birch_comp_0 + ratio_Alder_comp_0 + ratio_Aspen_comp_0 + ratio_Oak_comp_0\n",
    "ratio_Sr_comp_1 = ratio_Pine_comp_1 + ratio_Spruce_comp_1 + ratio_Birch_comp_1 + ratio_Alder_comp_1 + ratio_Aspen_comp_1 + ratio_Oak_comp_1\n",
    "ratio_Sr_comp_2 = ratio_Pine_comp_2 + ratio_Spruce_comp_2 + ratio_Birch_comp_2 + ratio_Alder_comp_2 + ratio_Aspen_comp_2 + ratio_Oak_comp_2\n",
    "\n",
    "# Clean used dataset\n",
    "comp_0 = clean\n",
    "comp_1 = clean\n",
    "comp_2 = clean\n",
    "ratio_Pine_comp_0 = clean\n",
    "ratio_Pine_comp_1 = clean\n",
    "ratio_Pine_comp_2 = clean\n",
    "ratio_Spruce_comp_0 = clean\n",
    "ratio_Spruce_comp_1 = clean\n",
    "ratio_Spruce_comp_2 = clean\n",
    "ratio_Birch_comp_0 = clean\n",
    "ratio_Birch_comp_1 = clean\n",
    "ratio_Birch_comp_2 = clean\n",
    "ratio_Alder_comp_0 = clean\n",
    "ratio_Alder_comp_1 = clean\n",
    "ratio_Alder_comp_2 = clean\n",
    "ratio_Aspen_comp_0  = clean\n",
    "ratio_Aspen_comp_1 = clean\n",
    "ratio_Aspen_comp_2 = clean\n",
    "ratio_Oak_comp_0 = clean\n",
    "ratio_Oak_comp_1 = clean\n",
    "ratio_Oak_comp_2 = clean"
   ]
  },
  {
   "cell_type": "code",
   "execution_count": null,
   "id": "6b83f21e-0bef-4c00-ae84-eca6965ee497",
   "metadata": {},
   "outputs": [],
   "source": [
    "# Transpose of NumPy array\n",
    "\n",
    "ratio_Sr_comp_0 = np.transpose(ratio_Sr_comp_0)\n",
    "ratio_Sr_comp_1 = np.transpose(ratio_Sr_comp_1)\n",
    "ratio_Sr_comp_2 = np.transpose(ratio_Sr_comp_2)\n",
    "ratio_Cs_comp_0 = np.transpose(ratio_Cs_comp_0)\n",
    "ratio_Cs_comp_1 = np.transpose(ratio_Cs_comp_1)\n",
    "ratio_Cs_comp_2 = np.transpose(ratio_Cs_comp_2)"
   ]
  },
  {
   "cell_type": "code",
   "execution_count": null,
   "id": "d1828259",
   "metadata": {},
   "outputs": [],
   "source": [
    "# Calculate RN stock in tree\n",
    "\n",
    "# Est. activity consentration RN\n",
    "pred_Sr_bark = pred_Sr_wood * ratio_Sr_comp_0\n",
    "pred_Cs_bark = pred_Cs_wood * ratio_Cs_comp_0\n",
    "\n",
    "pred_Sr_br = pred_Sr_wood * ratio_Sr_comp_1\n",
    "pred_Cs_br = pred_Cs_wood * ratio_Cs_comp_1\n",
    "\n",
    "pred_Sr_f = pred_Sr_wood * ratio_Sr_comp_2\n",
    "pred_Cs_f = pred_Cs_wood * ratio_Cs_comp_2\n",
    "\n",
    "# Clean used dataset\n",
    "ratio_Sr_comp_0 = clean\n",
    "ratio_Sr_comp_1 = clean\n",
    "ratio_Sr_comp_2 = clean\n",
    "ratio_Cs_comp_0 = clean\n",
    "ratio_Cs_comp_1 = clean\n",
    "ratio_Cs_comp_2 = clean\n",
    "\n",
    "#Est. RN stock in different above-ground parts of trees (kBq/sq.m)\n",
    "stock_Sr_stem_wood = pred_Sr_wood*(pred_my_allStem - pred_my_stemBark)/10000\n",
    "stock_Sr_stem_bark = pred_Sr_bark*pred_my_stemBark/10000\n",
    "stock_Sr_br = pred_Sr_br*pred_my_br/10000\n",
    "stock_Sr_f = pred_Sr_f*pred_my_f/10000\n",
    "stock_Sr_AG = stock_Sr_stem_wood + stock_Sr_stem_bark + stock_Sr_br + stock_Sr_f\n",
    "stock_Cs_stem_wood = pred_Cs_wood*(pred_my_allStem - pred_my_stemBark)/10000\n",
    "stock_Cs_stem_bark = pred_Cs_bark*pred_my_stemBark/10000\n",
    "stock_Cs_br = pred_Cs_br*pred_my_br/10000\n",
    "stock_Cs_f = pred_Cs_f*pred_my_f/10000\n",
    "stock_Cs_AG = stock_Cs_stem_wood + stock_Cs_stem_bark + stock_Cs_br + stock_Cs_f\n",
    "\n",
    "final_stock_Sr_stem_wood = stock_Sr_stem_wood.reshape(X_A[:, :, 0].shape)\n",
    "final_stock_Sr_stem_bark = stock_Sr_stem_bark.reshape(X_A[:, :, 0].shape)\n",
    "final_stock_Sr_br = stock_Sr_br.reshape(X_A[:, :, 0].shape)\n",
    "final_stock_Sr_f = stock_Sr_f.reshape(X_A[:, :, 0].shape)\n",
    "final_stock_Sr_AG = stock_Sr_AG.reshape(X_A[:, :, 0].shape)\n",
    "final_stock_Cs_stem_wood = stock_Cs_stem_wood.reshape(X_A[:, :, 0].shape)\n",
    "final_stock_Cs_stem_bark = stock_Cs_stem_bark.reshape(X_A[:, :, 0].shape)\n",
    "final_stock_Cs_br = stock_Cs_br.reshape(X_A[:, :, 0].shape)\n",
    "final_stock_Cs_f = stock_Cs_f.reshape(X_A[:, :, 0].shape)\n",
    "final_stock_Cs_AG = stock_Cs_AG.reshape(X_A[:, :, 0].shape)\n",
    "\n",
    "# Clean used dataset\n",
    "pred_Sr_bark = clean\n",
    "pred_Cs_bark = clean\n",
    "pred_Sr_br = clean\n",
    "pred_Cs_br = clean\n",
    "pred_Sr_f = clean\n",
    "pred_Cs_f = clean\n",
    "stock_Sr_stem_wood = clean\n",
    "stock_Sr_stem_bark = clean\n",
    "stock_Sr_br = clean\n",
    "stock_Sr_f = clean\n",
    "stock_Sr_AG = clean\n",
    "stock_Cs_stem_wood = clean\n",
    "stock_Cs_stem_bark = clean\n",
    "stock_Cs_br = clean\n",
    "stock_Cs_f = clean\n",
    "stock_Cs_AG = clean"
   ]
  },
  {
   "cell_type": "markdown",
   "id": "04111a49-e7f3-4b69-84f8-4ceb2a4c42c9",
   "metadata": {
    "tags": []
   },
   "source": [
    "# ***Estimation Pine forest litter parameters***"
   ]
  },
  {
   "cell_type": "code",
   "execution_count": null,
   "id": "f15abc7c-4f36-43d4-a627-594a1f165964",
   "metadata": {},
   "outputs": [],
   "source": [
    "# Est. of forest floor litter in Pine stands use XGBoost model\n",
    "\n",
    "# Prepeare data\n",
    "litter_forecast_X = np.c_[output_H2, output_D2, output_G2]"
   ]
  },
  {
   "cell_type": "code",
   "execution_count": null,
   "id": "0977bb49-8c87-47d5-8ae9-cdc7e33e8ec1",
   "metadata": {},
   "outputs": [],
   "source": [
    "# Load XGBooost models\n",
    "xgb_model_Litter = xgb.XGBRegressor()\n",
    "xgb_model_Litter.load_model('./models/litter_model/XGB_model_litter_biomass.json')\n",
    "\n",
    "#Predict forest litter biomass\n",
    "pred_Litter_biomass = xgb_model_Litter.predict(litter_forecast_X, ntree_limit=xgb_model_Litter.best_ntree_limit)"
   ]
  },
  {
   "cell_type": "code",
   "execution_count": null,
   "id": "bd204ce6-5c53-4605-a3da-133274746dee",
   "metadata": {},
   "outputs": [],
   "source": [
    "# Estimation of RN inventory  (kBq/sq.m)\n",
    "\n",
    "litter_Sr_L = pred_Litter_biomass * 0.00258 * pred_Sr_wood\n",
    "litter_Sr_F = pred_Litter_biomass * 0.00303 * pred_Sr_wood\n",
    "litter_Sr_H = pred_Litter_biomass * 0.00602 * pred_Sr_wood\n",
    "\n",
    "litter_Cs_L = pred_Litter_biomass * 0.00235 * pred_Cs_wood\n",
    "litter_Cs_F = pred_Litter_biomass * 0.00311 * pred_Cs_wood\n",
    "litter_Cs_H = pred_Litter_biomass * 0.00727 * pred_Cs_wood\n",
    "\n",
    "Fuel_litter_Sr = litter_Sr_L + litter_Sr_F\n",
    "Fuel_litter_Cs = litter_Cs_L + litter_Cs_F\n",
    "\n",
    "Total_litter_Sr = litter_Sr_L + litter_Sr_F + litter_Sr_H\n",
    "Total_litter_Cs = litter_Cs_L + litter_Cs_F + litter_Cs_H\n",
    "\n",
    "# Clear data set\n",
    "litter_forecast_X = clean\n",
    "\n",
    "litter_Sr_L = clean\n",
    "litter_Sr_F = clean\n",
    "litter_Sr_H = clean\n",
    "\n",
    "litter_Cs_L = clean\n",
    "litter_Cs_F = clean\n",
    "litter_Cs_H = clean"
   ]
  },
  {
   "cell_type": "code",
   "execution_count": null,
   "id": "4bf6eb81-ca68-43d0-8b3a-43d959504cd0",
   "metadata": {},
   "outputs": [],
   "source": [
    "# Reshape our predict maps for forest litter\n",
    "final_Litter_biomass = pred_Litter_biomass.reshape(X_A[:, :, 0].shape)\n",
    "final_Fuel_litter_Sr = Fuel_litter_Sr.reshape(X_A[:, :, 0].shape)\n",
    "final_Fuel_litter_Cs = Fuel_litter_Cs.reshape(X_A[:, :, 0].shape)\n",
    "final_Total_litter_Sr = Total_litter_Sr.reshape(X_A[:, :, 0].shape)\n",
    "final_Total_litter_Cs = Total_litter_Cs.reshape(X_A[:, :, 0].shape)"
   ]
  },
  {
   "cell_type": "markdown",
   "id": "14d8e55d-0f95-414b-a205-09c5a9e5693f",
   "metadata": {},
   "source": [
    "# ***Save all rasters***"
   ]
  },
  {
   "cell_type": "code",
   "execution_count": null,
   "id": "baf05485-1614-49bf-ab72-aae6955ad759",
   "metadata": {},
   "outputs": [],
   "source": [
    "# Function for save output rasters with results (for maps)\n",
    "def save_map (file_location, layer):\n",
    "    with rasterio.open(\n",
    "        file_location,\n",
    "        'w',\n",
    "        driver='GTiff',\n",
    "        height=layer.shape[0],\n",
    "        width=layer.shape[1],\n",
    "        count=1,\n",
    "        dtype=np.float32,\n",
    "        transform=af_transf\n",
    "    ) as dest_file:\n",
    "        dest_file.write(layer, 1)\n",
    "    dest_file.close()    "
   ]
  },
  {
   "cell_type": "code",
   "execution_count": null,
   "id": "596b7e81-24d2-4794-bbc4-6bbbee808b86",
   "metadata": {},
   "outputs": [],
   "source": [
    "# Save forest parameters to map / single-band raster\n",
    "# forest stand indicators\n",
    "save_map (f'./output_rasters/01_DBH_cm_{year}.tif', final_D2)\n",
    "save_map (f'./output_rasters/02_H_m_{year}.tif', final_H2)\n",
    "save_map (f'./output_rasters/03_G_or_BA_sq_m_ha{year}.tif', final_G2)\n",
    "save_map (f'./output_rasters/04_classical_GS_cub_m_ha_{year}.tif', final_GS2)\n",
    "save_map (f'./output_rasters/05_my_GS_cub_m_ha_{year}.tif', final_my_GS)\n",
    "# above-ground biomass\n",
    "save_map (f'./output_rasters/06_all_stem_biomass_t_ha_{year}.tif', final_my_allStem)\n",
    "save_map (f'./output_rasters/07_stem_bark_biomass_t_ha_{year}.tif', final_my_stemBark)\n",
    "save_map (f'./output_rasters/08_branch_biomass_t_ha_{year}.tif', final_my_br)\n",
    "save_map (f'./output_rasters/09_foliage_biomass_t_ha_{year}.tif', final_my_f)\n",
    "save_map (f'./output_rasters/10_AG_biomass_t_ha_{year}.tif', final_my_AG_biomass)\n",
    "# RN activity concentration in woods\n",
    "save_map (f'./output_rasters/11_Sr_content_in_wood_Bq_kg_{year}.tif', final_Sr_wood)\n",
    "save_map (f'./output_rasters/12_Cs_content_in_wood_Bq_kg_{year}.tif', final_Cs_wood)\n",
    "# Propobility is not exceeding the permissible levels for woood\n",
    "save_map (f'./output_rasters/13_P_Sr_content>PL_(0-1)_{year}.tif', final_Part_wood_to_PL_Sr)\n",
    "save_map (f'./output_rasters/14_P_Cs_content>PL_(0-1)_{year}.tif', final_Part_wood_to_PL_Cs)\n",
    "# Doses\n",
    "save_map (f'./output_rasters/15_Sr_in_dose_µGy_h_{year}.tif', final_Sr_in_doses)\n",
    "save_map (f'./output_rasters/16_Cs_in_dose_µGy_h_{year}.tif', final_Cs_in_doses)\n",
    "save_map (f'./output_rasters/17_Internal dose_µGy_h_{year}.tif', final_In_doses)\n",
    "save_map (f'./output_rasters/18_Ex_dose_µGy_h_{year}.tif', final_Ex_doses)\n",
    "save_map (f'./output_rasters/19_Sr_Total_dose_µGy_h_{year}.tif', final_Total_dose)\n",
    "save_map (f'./output_rasters/20_Cs_Part_internal_dose_(%)_{year}.tif', final_Part_in_dose)\n",
    "# RN inventory in above-ground biomass components\n",
    "save_map (f'./output_rasters/21_D_activity_Sr_stem_wood_kBq_sq_m_{year}.tif', final_stock_Sr_stem_wood)\n",
    "save_map (f'./output_rasters/22_D_activity_Sr_bark_wood_kBq_sq_m_{year}.tif', final_stock_Sr_stem_bark)\n",
    "save_map (f'./output_rasters/23_D_activity_Sr_branch_kBq_sq_m_{year}.tif', final_stock_Sr_br)\n",
    "save_map (f'./output_rasters/24_D_activity_Sr_foliage_kBq_sq_m_{year}.tif', final_stock_Sr_f)\n",
    "save_map (f'./output_rasters/25_D_activity_Sr_AG_kBq_sq_m_{year}.tif', final_stock_Sr_AG)\n",
    "save_map (f'./output_rasters/26_D_activity_Cs_stem_wood_kBq_sq_m_{year}.tif', final_stock_Cs_stem_wood)\n",
    "save_map (f'./output_rasters/27_D_activity_Cs_stem_bark_kBq_sq_m_{year}.tif', final_stock_Cs_stem_bark)\n",
    "save_map (f'./output_rasters/29_D_activity_Cs_branch_kBq_sq_m_{year}.tif', final_stock_Cs_br)\n",
    "save_map (f'./output_rasters/30_D_activity_Cs_foliage_kBq_sq_m{year}.tif', final_stock_Cs_f)\n",
    "save_map (f'./output_rasters/31_D_activity_Cs_AG_kBq_sq_m_{year}.tif', final_stock_Cs_AG)\n",
    "# Forest litter\n",
    "save_map (f'./output_rasters/32_Litter_biomass_kg_sq_m_(only_Pine)_{year}.tif', final_Litter_biomass)\n",
    "save_map (f'./output_rasters/33_Fuel_litter_activity_Sr_kBq_sq_m_(only_Pine)_{year}.tif', final_Fuel_litter_Sr)\n",
    "save_map (f'./output_rasters/34_Fuel_litter_activity_Cs_kBq_sq_m_(only_Pine)_{year}.tif', final_Fuel_litter_Cs)\n",
    "save_map (f'./output_rasters/35_Total_litter_activity_Sr_kBq_sq_m_(only_Pine)_{year}.tif', final_Total_litter_Sr)\n",
    "save_map (f'./output_rasters/36_Total_litter_activity_Cs_kBq_sq_m_(only_Pine)_{year}.tif', final_Total_litter_Cs)\n",
    "\n",
    "print(' *** All rasters saved *** ')"
   ]
  }
 ],
 "metadata": {
  "kernelspec": {
   "display_name": "Python 3 (ipykernel)",
   "language": "python",
   "name": "python3"
  },
  "language_info": {
   "codemirror_mode": {
    "name": "ipython",
    "version": 3
   },
   "file_extension": ".py",
   "mimetype": "text/x-python",
   "name": "python",
   "nbconvert_exporter": "python",
   "pygments_lexer": "ipython3",
   "version": "3.9.12"
  }
 },
 "nbformat": 4,
 "nbformat_minor": 5
}
