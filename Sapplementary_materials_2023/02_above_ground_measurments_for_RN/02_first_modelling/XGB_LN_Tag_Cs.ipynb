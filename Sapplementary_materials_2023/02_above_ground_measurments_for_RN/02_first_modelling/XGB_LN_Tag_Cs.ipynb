{
 "cells": [
  {
   "cell_type": "markdown",
   "id": "endangered-albany",
   "metadata": {
    "jp-MarkdownHeadingCollapsed": true,
    "tags": []
   },
   "source": [
    "# ***Processing of data on Tag Cs-137 in stem woody biomass for forest sites***"
   ]
  },
  {
   "cell_type": "markdown",
   "id": "clinical-optimum",
   "metadata": {},
   "source": [
    "# Load all data from .xlsx file"
   ]
  },
  {
   "cell_type": "code",
   "execution_count": 1,
   "id": "patient-permit",
   "metadata": {
    "scrolled": true
   },
   "outputs": [],
   "source": [
    "# Import main libraries\n",
    "import numpy as np\n",
    "import matplotlib.pyplot as plt\n",
    "import pandas as pd"
   ]
  },
  {
   "cell_type": "code",
   "execution_count": 3,
   "id": "recent-acquisition",
   "metadata": {},
   "outputs": [
    {
     "data": {
      "text/html": [
       "<div>\n",
       "<style scoped>\n",
       "    .dataframe tbody tr th:only-of-type {\n",
       "        vertical-align: middle;\n",
       "    }\n",
       "\n",
       "    .dataframe tbody tr th {\n",
       "        vertical-align: top;\n",
       "    }\n",
       "\n",
       "    .dataframe thead th {\n",
       "        text-align: right;\n",
       "    }\n",
       "</style>\n",
       "<table border=\"1\" class=\"dataframe\">\n",
       "  <thead>\n",
       "    <tr style=\"text-align: right;\">\n",
       "      <th></th>\n",
       "      <th>Ідентифікатор</th>\n",
       "      <th>Site #</th>\n",
       "      <th>Species</th>\n",
       "      <th>Species_ID</th>\n",
       "      <th>Ntrees at site</th>\n",
       "      <th>% composition</th>\n",
       "      <th>D_cm</th>\n",
       "      <th>H_m</th>\n",
       "      <th>G_m2_ha</th>\n",
       "      <th>N_ha</th>\n",
       "      <th>...</th>\n",
       "      <th>T_ag_Cs</th>\n",
       "      <th>ln_T_ag_Cs</th>\n",
       "      <th>T_ag_Sr</th>\n",
       "      <th>ln_T_ag_Sr</th>\n",
       "      <th>AEDR_count</th>\n",
       "      <th>AEDR_mean</th>\n",
       "      <th>AEDR_median</th>\n",
       "      <th>AEDR_std</th>\n",
       "      <th>Distance_km</th>\n",
       "      <th>Azimuth</th>\n",
       "    </tr>\n",
       "  </thead>\n",
       "  <tbody>\n",
       "    <tr>\n",
       "      <th>0</th>\n",
       "      <td>214</td>\n",
       "      <td>095_2021</td>\n",
       "      <td>Pine</td>\n",
       "      <td>0</td>\n",
       "      <td>40</td>\n",
       "      <td>100.000000</td>\n",
       "      <td>9.173331</td>\n",
       "      <td>8.917017</td>\n",
       "      <td>26.454278</td>\n",
       "      <td>4000</td>\n",
       "      <td>...</td>\n",
       "      <td>0.009303</td>\n",
       "      <td>-4.677466</td>\n",
       "      <td>17.136062</td>\n",
       "      <td>2.841185</td>\n",
       "      <td>30</td>\n",
       "      <td>0.141667</td>\n",
       "      <td>0.14</td>\n",
       "      <td>0.009339</td>\n",
       "      <td>51.395430</td>\n",
       "      <td>246</td>\n",
       "    </tr>\n",
       "    <tr>\n",
       "      <th>1</th>\n",
       "      <td>472</td>\n",
       "      <td>060_2021</td>\n",
       "      <td>Robinia</td>\n",
       "      <td>5</td>\n",
       "      <td>39</td>\n",
       "      <td>42.287838</td>\n",
       "      <td>10.248202</td>\n",
       "      <td>20.161437</td>\n",
       "      <td>12.869754</td>\n",
       "      <td>1560</td>\n",
       "      <td>...</td>\n",
       "      <td>0.015607</td>\n",
       "      <td>-4.160037</td>\n",
       "      <td>6.328208</td>\n",
       "      <td>1.845017</td>\n",
       "      <td>21</td>\n",
       "      <td>10.249524</td>\n",
       "      <td>10.20</td>\n",
       "      <td>0.923954</td>\n",
       "      <td>33.428831</td>\n",
       "      <td>254</td>\n",
       "    </tr>\n",
       "    <tr>\n",
       "      <th>2</th>\n",
       "      <td>218</td>\n",
       "      <td>096_2021</td>\n",
       "      <td>Birch</td>\n",
       "      <td>2</td>\n",
       "      <td>35</td>\n",
       "      <td>100.000000</td>\n",
       "      <td>17.188036</td>\n",
       "      <td>20.614192</td>\n",
       "      <td>32.488588</td>\n",
       "      <td>1400</td>\n",
       "      <td>...</td>\n",
       "      <td>0.016439</td>\n",
       "      <td>-4.108084</td>\n",
       "      <td>0.800387</td>\n",
       "      <td>-0.222660</td>\n",
       "      <td>26</td>\n",
       "      <td>0.381538</td>\n",
       "      <td>0.39</td>\n",
       "      <td>0.044522</td>\n",
       "      <td>54.895591</td>\n",
       "      <td>247</td>\n",
       "    </tr>\n",
       "    <tr>\n",
       "      <th>3</th>\n",
       "      <td>430</td>\n",
       "      <td>051_2021</td>\n",
       "      <td>Pine</td>\n",
       "      <td>0</td>\n",
       "      <td>24</td>\n",
       "      <td>100.000000</td>\n",
       "      <td>22.133120</td>\n",
       "      <td>13.684873</td>\n",
       "      <td>36.940844</td>\n",
       "      <td>960</td>\n",
       "      <td>...</td>\n",
       "      <td>0.018700</td>\n",
       "      <td>-3.979215</td>\n",
       "      <td>4.799847</td>\n",
       "      <td>1.568584</td>\n",
       "      <td>31</td>\n",
       "      <td>0.552581</td>\n",
       "      <td>0.56</td>\n",
       "      <td>0.071300</td>\n",
       "      <td>17.571824</td>\n",
       "      <td>265</td>\n",
       "    </tr>\n",
       "    <tr>\n",
       "      <th>4</th>\n",
       "      <td>204</td>\n",
       "      <td>092_2021</td>\n",
       "      <td>Birch</td>\n",
       "      <td>2</td>\n",
       "      <td>41</td>\n",
       "      <td>100.000000</td>\n",
       "      <td>28.217794</td>\n",
       "      <td>27.000746</td>\n",
       "      <td>25.643676</td>\n",
       "      <td>410</td>\n",
       "      <td>...</td>\n",
       "      <td>0.019196</td>\n",
       "      <td>-3.953053</td>\n",
       "      <td>2.440077</td>\n",
       "      <td>0.892029</td>\n",
       "      <td>34</td>\n",
       "      <td>0.204412</td>\n",
       "      <td>0.20</td>\n",
       "      <td>0.017689</td>\n",
       "      <td>51.095388</td>\n",
       "      <td>246</td>\n",
       "    </tr>\n",
       "  </tbody>\n",
       "</table>\n",
       "<p>5 rows × 51 columns</p>\n",
       "</div>"
      ],
      "text/plain": [
       "   Ідентифікатор    Site #  Species  Species_ID  Ntrees at site  \\\n",
       "0            214  095_2021     Pine           0              40   \n",
       "1            472  060_2021  Robinia           5              39   \n",
       "2            218  096_2021    Birch           2              35   \n",
       "3            430  051_2021     Pine           0              24   \n",
       "4            204  092_2021    Birch           2              41   \n",
       "\n",
       "   % composition       D_cm        H_m    G_m2_ha  N_ha  ...   T_ag_Cs  \\\n",
       "0     100.000000   9.173331   8.917017  26.454278  4000  ...  0.009303   \n",
       "1      42.287838  10.248202  20.161437  12.869754  1560  ...  0.015607   \n",
       "2     100.000000  17.188036  20.614192  32.488588  1400  ...  0.016439   \n",
       "3     100.000000  22.133120  13.684873  36.940844   960  ...  0.018700   \n",
       "4     100.000000  28.217794  27.000746  25.643676   410  ...  0.019196   \n",
       "\n",
       "   ln_T_ag_Cs    T_ag_Sr  ln_T_ag_Sr  AEDR_count  AEDR_mean  AEDR_median  \\\n",
       "0   -4.677466  17.136062    2.841185          30   0.141667         0.14   \n",
       "1   -4.160037   6.328208    1.845017          21  10.249524        10.20   \n",
       "2   -4.108084   0.800387   -0.222660          26   0.381538         0.39   \n",
       "3   -3.979215   4.799847    1.568584          31   0.552581         0.56   \n",
       "4   -3.953053   2.440077    0.892029          34   0.204412         0.20   \n",
       "\n",
       "   AEDR_std  Distance_km  Azimuth  \n",
       "0  0.009339    51.395430      246  \n",
       "1  0.923954    33.428831      254  \n",
       "2  0.044522    54.895591      247  \n",
       "3  0.071300    17.571824      265  \n",
       "4  0.017689    51.095388      246  \n",
       "\n",
       "[5 rows x 51 columns]"
      ]
     },
     "execution_count": 3,
     "metadata": {},
     "output_type": "execute_result"
    }
   ],
   "source": [
    "# Load biomass dataset\n",
    "site_data = '/home/dima/Desktop/JupyterLab/GIS and ML algoritms/4_RN_content_in_wood/Unit_site_data.xlsx'\n",
    "df = pd.read_excel(site_data, sheet_name='RN_filtration_data')\n",
    "df.head()"
   ]
  },
  {
   "cell_type": "code",
   "execution_count": 5,
   "id": "consistent-mayor",
   "metadata": {
    "tags": []
   },
   "outputs": [
    {
     "data": {
      "text/html": [
       "<div>\n",
       "<style scoped>\n",
       "    .dataframe tbody tr th:only-of-type {\n",
       "        vertical-align: middle;\n",
       "    }\n",
       "\n",
       "    .dataframe tbody tr th {\n",
       "        vertical-align: top;\n",
       "    }\n",
       "\n",
       "    .dataframe thead th {\n",
       "        text-align: right;\n",
       "    }\n",
       "</style>\n",
       "<table border=\"1\" class=\"dataframe\">\n",
       "  <thead>\n",
       "    <tr style=\"text-align: right;\">\n",
       "      <th></th>\n",
       "      <th>Species</th>\n",
       "      <th>Species_ID</th>\n",
       "      <th>% composition</th>\n",
       "      <th>D_cm</th>\n",
       "      <th>H_m</th>\n",
       "      <th>G_m2_ha</th>\n",
       "      <th>Origin</th>\n",
       "      <th>Origin_ID</th>\n",
       "      <th>A_year</th>\n",
       "      <th>D_live_cm</th>\n",
       "      <th>H_live_m</th>\n",
       "      <th>G_live_m2_ha</th>\n",
       "      <th>F_Soil_ID</th>\n",
       "      <th>M_Soil</th>\n",
       "      <th>AEDR_mean</th>\n",
       "      <th>Distance_km</th>\n",
       "      <th>Azimuth</th>\n",
       "      <th>ln_T_ag_Cs</th>\n",
       "      <th>ln_T_ag_Sr</th>\n",
       "    </tr>\n",
       "  </thead>\n",
       "  <tbody>\n",
       "    <tr>\n",
       "      <th>0</th>\n",
       "      <td>Pine</td>\n",
       "      <td>0</td>\n",
       "      <td>100.000000</td>\n",
       "      <td>9.173331</td>\n",
       "      <td>8.917017</td>\n",
       "      <td>26.454278</td>\n",
       "      <td>n</td>\n",
       "      <td>0</td>\n",
       "      <td>20</td>\n",
       "      <td>9.173331</td>\n",
       "      <td>8.917017</td>\n",
       "      <td>26.454278</td>\n",
       "      <td>3</td>\n",
       "      <td>2</td>\n",
       "      <td>0.141667</td>\n",
       "      <td>51.395430</td>\n",
       "      <td>246</td>\n",
       "      <td>-4.677466</td>\n",
       "      <td>2.841185</td>\n",
       "    </tr>\n",
       "    <tr>\n",
       "      <th>1</th>\n",
       "      <td>Robinia</td>\n",
       "      <td>5</td>\n",
       "      <td>42.287838</td>\n",
       "      <td>10.248202</td>\n",
       "      <td>20.161437</td>\n",
       "      <td>12.869754</td>\n",
       "      <td>n</td>\n",
       "      <td>0</td>\n",
       "      <td>40</td>\n",
       "      <td>13.518680</td>\n",
       "      <td>22.091551</td>\n",
       "      <td>30.433701</td>\n",
       "      <td>3</td>\n",
       "      <td>3</td>\n",
       "      <td>10.249524</td>\n",
       "      <td>33.428831</td>\n",
       "      <td>254</td>\n",
       "      <td>-4.160037</td>\n",
       "      <td>1.845017</td>\n",
       "    </tr>\n",
       "    <tr>\n",
       "      <th>2</th>\n",
       "      <td>Birch</td>\n",
       "      <td>2</td>\n",
       "      <td>100.000000</td>\n",
       "      <td>17.188036</td>\n",
       "      <td>20.614192</td>\n",
       "      <td>32.488588</td>\n",
       "      <td>n</td>\n",
       "      <td>0</td>\n",
       "      <td>30</td>\n",
       "      <td>17.188036</td>\n",
       "      <td>20.614192</td>\n",
       "      <td>32.488588</td>\n",
       "      <td>2</td>\n",
       "      <td>3</td>\n",
       "      <td>0.381538</td>\n",
       "      <td>54.895591</td>\n",
       "      <td>247</td>\n",
       "      <td>-4.108084</td>\n",
       "      <td>-0.222660</td>\n",
       "    </tr>\n",
       "    <tr>\n",
       "      <th>3</th>\n",
       "      <td>Pine</td>\n",
       "      <td>0</td>\n",
       "      <td>100.000000</td>\n",
       "      <td>22.133120</td>\n",
       "      <td>13.684873</td>\n",
       "      <td>36.940844</td>\n",
       "      <td>n</td>\n",
       "      <td>0</td>\n",
       "      <td>20</td>\n",
       "      <td>22.133120</td>\n",
       "      <td>13.684873</td>\n",
       "      <td>36.940844</td>\n",
       "      <td>2</td>\n",
       "      <td>2</td>\n",
       "      <td>0.552581</td>\n",
       "      <td>17.571824</td>\n",
       "      <td>265</td>\n",
       "      <td>-3.979215</td>\n",
       "      <td>1.568584</td>\n",
       "    </tr>\n",
       "    <tr>\n",
       "      <th>4</th>\n",
       "      <td>Birch</td>\n",
       "      <td>2</td>\n",
       "      <td>100.000000</td>\n",
       "      <td>28.217794</td>\n",
       "      <td>27.000746</td>\n",
       "      <td>25.643676</td>\n",
       "      <td>a</td>\n",
       "      <td>1</td>\n",
       "      <td>57</td>\n",
       "      <td>28.217794</td>\n",
       "      <td>27.000746</td>\n",
       "      <td>25.643676</td>\n",
       "      <td>2</td>\n",
       "      <td>2</td>\n",
       "      <td>0.204412</td>\n",
       "      <td>51.095388</td>\n",
       "      <td>246</td>\n",
       "      <td>-3.953053</td>\n",
       "      <td>0.892029</td>\n",
       "    </tr>\n",
       "  </tbody>\n",
       "</table>\n",
       "</div>"
      ],
      "text/plain": [
       "   Species  Species_ID  % composition       D_cm        H_m    G_m2_ha Origin  \\\n",
       "0     Pine           0     100.000000   9.173331   8.917017  26.454278      n   \n",
       "1  Robinia           5      42.287838  10.248202  20.161437  12.869754      n   \n",
       "2    Birch           2     100.000000  17.188036  20.614192  32.488588      n   \n",
       "3     Pine           0     100.000000  22.133120  13.684873  36.940844      n   \n",
       "4    Birch           2     100.000000  28.217794  27.000746  25.643676      a   \n",
       "\n",
       "   Origin_ID  A_year  D_live_cm   H_live_m  G_live_m2_ha  F_Soil_ID  M_Soil  \\\n",
       "0          0      20   9.173331   8.917017     26.454278          3       2   \n",
       "1          0      40  13.518680  22.091551     30.433701          3       3   \n",
       "2          0      30  17.188036  20.614192     32.488588          2       3   \n",
       "3          0      20  22.133120  13.684873     36.940844          2       2   \n",
       "4          1      57  28.217794  27.000746     25.643676          2       2   \n",
       "\n",
       "   AEDR_mean  Distance_km  Azimuth  ln_T_ag_Cs  ln_T_ag_Sr  \n",
       "0   0.141667    51.395430      246   -4.677466    2.841185  \n",
       "1  10.249524    33.428831      254   -4.160037    1.845017  \n",
       "2   0.381538    54.895591      247   -4.108084   -0.222660  \n",
       "3   0.552581    17.571824      265   -3.979215    1.568584  \n",
       "4   0.204412    51.095388      246   -3.953053    0.892029  "
      ]
     },
     "execution_count": 5,
     "metadata": {},
     "output_type": "execute_result"
    }
   ],
   "source": [
    "# Selecting main working parameters\n",
    "select = pd.DataFrame(df, columns= ['Species', 'Species_ID', '% composition', 'D_cm', 'H_m', 'G_m2_ha',\n",
    "                                    'Origin', 'Origin_ID','A_year', 'D_live_cm', 'H_live_m', 'G_live_m2_ha',\n",
    "                                    'F_Soil_ID', 'M_Soil', 'AEDR_mean', 'Distance_km', 'Azimuth',\n",
    "                                    'ln_T_ag_Cs', 'ln_T_ag_Sr'])\n",
    "'''\n",
    "In \"Species_ID\" column: \"0\" is Pine, \"1\" is Spruce, \"2\" is Birch, \"3\" is Alder, \"4\" is Aspen, \"5\" is Oak/Red oak/Robinia\n",
    "In \"Origin_ID\" column: \"0\" is nutural stand, \"1\" is artificial stand\n",
    "'''\n",
    "\n",
    "# Show the first five columns\n",
    "select.head()"
   ]
  },
  {
   "cell_type": "markdown",
   "id": "eb489ae8-33d0-488c-80c0-792a62e6c213",
   "metadata": {},
   "source": [
    "# Pre-analysis of parameters"
   ]
  },
  {
   "cell_type": "code",
   "execution_count": 6,
   "id": "dynamic-commission",
   "metadata": {
    "tags": []
   },
   "outputs": [
    {
     "name": "stdout",
     "output_type": "stream",
     "text": [
      "<class 'pandas.core.frame.DataFrame'>\n",
      "RangeIndex: 209 entries, 0 to 208\n",
      "Data columns (total 19 columns):\n",
      " #   Column         Non-Null Count  Dtype  \n",
      "---  ------         --------------  -----  \n",
      " 0   Species        209 non-null    object \n",
      " 1   Species_ID     209 non-null    int64  \n",
      " 2   % composition  209 non-null    float64\n",
      " 3   D_cm           209 non-null    float64\n",
      " 4   H_m            209 non-null    float64\n",
      " 5   G_m2_ha        209 non-null    float64\n",
      " 6   Origin         209 non-null    object \n",
      " 7   Origin_ID      209 non-null    int64  \n",
      " 8   A_year         209 non-null    int64  \n",
      " 9   D_live_cm      209 non-null    float64\n",
      " 10  H_live_m       209 non-null    float64\n",
      " 11  G_live_m2_ha   209 non-null    float64\n",
      " 12  F_Soil_ID      209 non-null    int64  \n",
      " 13  M_Soil         209 non-null    int64  \n",
      " 14  AEDR_mean      209 non-null    float64\n",
      " 15  Distance_km    209 non-null    float64\n",
      " 16  Azimuth        209 non-null    int64  \n",
      " 17  ln_T_ag_Cs     209 non-null    float64\n",
      " 18  ln_T_ag_Sr     209 non-null    float64\n",
      "dtypes: float64(11), int64(6), object(2)\n",
      "memory usage: 31.1+ KB\n"
     ]
    }
   ],
   "source": [
    "# Information on all columns of data frame\n",
    "select.info()"
   ]
  },
  {
   "cell_type": "code",
   "execution_count": 7,
   "id": "stable-distributor",
   "metadata": {
    "scrolled": true
   },
   "outputs": [
    {
     "name": "stderr",
     "output_type": "stream",
     "text": [
      "/tmp/ipykernel_13510/2351458816.py:2: FutureWarning: Indexing with multiple keys (implicitly converted to a tuple of keys) will be deprecated, use a list instead.\n",
      "  df.groupby([\"Species\",\"Origin\"])['ln_T_ag_Cs', 'ln_T_ag_Sr'].describe()\n"
     ]
    },
    {
     "data": {
      "text/html": [
       "<div>\n",
       "<style scoped>\n",
       "    .dataframe tbody tr th:only-of-type {\n",
       "        vertical-align: middle;\n",
       "    }\n",
       "\n",
       "    .dataframe tbody tr th {\n",
       "        vertical-align: top;\n",
       "    }\n",
       "\n",
       "    .dataframe thead tr th {\n",
       "        text-align: left;\n",
       "    }\n",
       "\n",
       "    .dataframe thead tr:last-of-type th {\n",
       "        text-align: right;\n",
       "    }\n",
       "</style>\n",
       "<table border=\"1\" class=\"dataframe\">\n",
       "  <thead>\n",
       "    <tr>\n",
       "      <th></th>\n",
       "      <th></th>\n",
       "      <th colspan=\"8\" halign=\"left\">ln_T_ag_Cs</th>\n",
       "      <th colspan=\"8\" halign=\"left\">ln_T_ag_Sr</th>\n",
       "    </tr>\n",
       "    <tr>\n",
       "      <th></th>\n",
       "      <th></th>\n",
       "      <th>count</th>\n",
       "      <th>mean</th>\n",
       "      <th>std</th>\n",
       "      <th>min</th>\n",
       "      <th>25%</th>\n",
       "      <th>50%</th>\n",
       "      <th>75%</th>\n",
       "      <th>max</th>\n",
       "      <th>count</th>\n",
       "      <th>mean</th>\n",
       "      <th>std</th>\n",
       "      <th>min</th>\n",
       "      <th>25%</th>\n",
       "      <th>50%</th>\n",
       "      <th>75%</th>\n",
       "      <th>max</th>\n",
       "    </tr>\n",
       "    <tr>\n",
       "      <th>Species</th>\n",
       "      <th>Origin</th>\n",
       "      <th></th>\n",
       "      <th></th>\n",
       "      <th></th>\n",
       "      <th></th>\n",
       "      <th></th>\n",
       "      <th></th>\n",
       "      <th></th>\n",
       "      <th></th>\n",
       "      <th></th>\n",
       "      <th></th>\n",
       "      <th></th>\n",
       "      <th></th>\n",
       "      <th></th>\n",
       "      <th></th>\n",
       "      <th></th>\n",
       "      <th></th>\n",
       "    </tr>\n",
       "  </thead>\n",
       "  <tbody>\n",
       "    <tr>\n",
       "      <th>Alder</th>\n",
       "      <th>n</th>\n",
       "      <td>13.0</td>\n",
       "      <td>-0.621091</td>\n",
       "      <td>1.079748</td>\n",
       "      <td>-2.054670</td>\n",
       "      <td>-1.409349</td>\n",
       "      <td>-0.890892</td>\n",
       "      <td>0.599227</td>\n",
       "      <td>1.107047</td>\n",
       "      <td>13.0</td>\n",
       "      <td>1.114066</td>\n",
       "      <td>0.639805</td>\n",
       "      <td>-0.169130</td>\n",
       "      <td>0.519859</td>\n",
       "      <td>1.340031</td>\n",
       "      <td>1.537968</td>\n",
       "      <td>1.797310</td>\n",
       "    </tr>\n",
       "    <tr>\n",
       "      <th>Aspen</th>\n",
       "      <th>n</th>\n",
       "      <td>9.0</td>\n",
       "      <td>-0.930356</td>\n",
       "      <td>1.335868</td>\n",
       "      <td>-2.444532</td>\n",
       "      <td>-1.853749</td>\n",
       "      <td>-1.029875</td>\n",
       "      <td>-0.638032</td>\n",
       "      <td>1.550281</td>\n",
       "      <td>9.0</td>\n",
       "      <td>2.833696</td>\n",
       "      <td>0.588208</td>\n",
       "      <td>1.974979</td>\n",
       "      <td>2.415378</td>\n",
       "      <td>2.710312</td>\n",
       "      <td>3.171806</td>\n",
       "      <td>3.759708</td>\n",
       "    </tr>\n",
       "    <tr>\n",
       "      <th rowspan=\"2\" valign=\"top\">Birch</th>\n",
       "      <th>a</th>\n",
       "      <td>8.0</td>\n",
       "      <td>-1.368259</td>\n",
       "      <td>1.159050</td>\n",
       "      <td>-3.953053</td>\n",
       "      <td>-1.514361</td>\n",
       "      <td>-0.852832</td>\n",
       "      <td>-0.709916</td>\n",
       "      <td>-0.491440</td>\n",
       "      <td>8.0</td>\n",
       "      <td>2.786797</td>\n",
       "      <td>0.988082</td>\n",
       "      <td>0.892029</td>\n",
       "      <td>2.550472</td>\n",
       "      <td>2.901584</td>\n",
       "      <td>3.129783</td>\n",
       "      <td>4.317885</td>\n",
       "    </tr>\n",
       "    <tr>\n",
       "      <th>n</th>\n",
       "      <td>37.0</td>\n",
       "      <td>-0.974789</td>\n",
       "      <td>1.208183</td>\n",
       "      <td>-4.108084</td>\n",
       "      <td>-1.510900</td>\n",
       "      <td>-0.731341</td>\n",
       "      <td>-0.121966</td>\n",
       "      <td>1.534340</td>\n",
       "      <td>37.0</td>\n",
       "      <td>2.280120</td>\n",
       "      <td>0.815141</td>\n",
       "      <td>-0.222660</td>\n",
       "      <td>2.002500</td>\n",
       "      <td>2.420262</td>\n",
       "      <td>2.634974</td>\n",
       "      <td>4.658771</td>\n",
       "    </tr>\n",
       "    <tr>\n",
       "      <th rowspan=\"2\" valign=\"top\">Oak</th>\n",
       "      <th>a</th>\n",
       "      <td>4.0</td>\n",
       "      <td>0.459802</td>\n",
       "      <td>0.941560</td>\n",
       "      <td>-0.873043</td>\n",
       "      <td>0.264561</td>\n",
       "      <td>0.685171</td>\n",
       "      <td>0.880412</td>\n",
       "      <td>1.341910</td>\n",
       "      <td>4.0</td>\n",
       "      <td>1.587438</td>\n",
       "      <td>1.180045</td>\n",
       "      <td>0.746804</td>\n",
       "      <td>0.947736</td>\n",
       "      <td>1.136723</td>\n",
       "      <td>1.776425</td>\n",
       "      <td>3.329504</td>\n",
       "    </tr>\n",
       "    <tr>\n",
       "      <th>n</th>\n",
       "      <td>3.0</td>\n",
       "      <td>-0.696460</td>\n",
       "      <td>1.273862</td>\n",
       "      <td>-1.788996</td>\n",
       "      <td>-1.396061</td>\n",
       "      <td>-1.003126</td>\n",
       "      <td>-0.150191</td>\n",
       "      <td>0.702743</td>\n",
       "      <td>3.0</td>\n",
       "      <td>1.267692</td>\n",
       "      <td>0.632918</td>\n",
       "      <td>0.552561</td>\n",
       "      <td>1.023670</td>\n",
       "      <td>1.494779</td>\n",
       "      <td>1.625258</td>\n",
       "      <td>1.755738</td>\n",
       "    </tr>\n",
       "    <tr>\n",
       "      <th rowspan=\"2\" valign=\"top\">Pine</th>\n",
       "      <th>a</th>\n",
       "      <td>79.0</td>\n",
       "      <td>-0.144123</td>\n",
       "      <td>1.041337</td>\n",
       "      <td>-3.061180</td>\n",
       "      <td>-0.727265</td>\n",
       "      <td>0.206989</td>\n",
       "      <td>0.546915</td>\n",
       "      <td>1.651960</td>\n",
       "      <td>79.0</td>\n",
       "      <td>2.593975</td>\n",
       "      <td>0.845816</td>\n",
       "      <td>-0.113856</td>\n",
       "      <td>2.135296</td>\n",
       "      <td>2.743032</td>\n",
       "      <td>3.102508</td>\n",
       "      <td>4.114105</td>\n",
       "    </tr>\n",
       "    <tr>\n",
       "      <th>n</th>\n",
       "      <td>51.0</td>\n",
       "      <td>-0.987805</td>\n",
       "      <td>1.466318</td>\n",
       "      <td>-4.677466</td>\n",
       "      <td>-2.436234</td>\n",
       "      <td>-0.539482</td>\n",
       "      <td>0.294468</td>\n",
       "      <td>1.198582</td>\n",
       "      <td>51.0</td>\n",
       "      <td>2.196393</td>\n",
       "      <td>0.947430</td>\n",
       "      <td>0.391017</td>\n",
       "      <td>1.612218</td>\n",
       "      <td>1.988582</td>\n",
       "      <td>3.155912</td>\n",
       "      <td>3.895456</td>\n",
       "    </tr>\n",
       "    <tr>\n",
       "      <th>Red oak</th>\n",
       "      <th>a</th>\n",
       "      <td>3.0</td>\n",
       "      <td>-0.579268</td>\n",
       "      <td>1.040146</td>\n",
       "      <td>-1.253902</td>\n",
       "      <td>-1.178204</td>\n",
       "      <td>-1.102506</td>\n",
       "      <td>-0.241951</td>\n",
       "      <td>0.618604</td>\n",
       "      <td>3.0</td>\n",
       "      <td>2.351417</td>\n",
       "      <td>0.608020</td>\n",
       "      <td>1.649582</td>\n",
       "      <td>2.167897</td>\n",
       "      <td>2.686212</td>\n",
       "      <td>2.702334</td>\n",
       "      <td>2.718456</td>\n",
       "    </tr>\n",
       "    <tr>\n",
       "      <th>Robinia</th>\n",
       "      <th>n</th>\n",
       "      <td>1.0</td>\n",
       "      <td>-4.160037</td>\n",
       "      <td>NaN</td>\n",
       "      <td>-4.160037</td>\n",
       "      <td>-4.160037</td>\n",
       "      <td>-4.160037</td>\n",
       "      <td>-4.160037</td>\n",
       "      <td>-4.160037</td>\n",
       "      <td>1.0</td>\n",
       "      <td>1.845017</td>\n",
       "      <td>NaN</td>\n",
       "      <td>1.845017</td>\n",
       "      <td>1.845017</td>\n",
       "      <td>1.845017</td>\n",
       "      <td>1.845017</td>\n",
       "      <td>1.845017</td>\n",
       "    </tr>\n",
       "    <tr>\n",
       "      <th>Spruce</th>\n",
       "      <th>a</th>\n",
       "      <td>1.0</td>\n",
       "      <td>-2.405881</td>\n",
       "      <td>NaN</td>\n",
       "      <td>-2.405881</td>\n",
       "      <td>-2.405881</td>\n",
       "      <td>-2.405881</td>\n",
       "      <td>-2.405881</td>\n",
       "      <td>-2.405881</td>\n",
       "      <td>1.0</td>\n",
       "      <td>1.807111</td>\n",
       "      <td>NaN</td>\n",
       "      <td>1.807111</td>\n",
       "      <td>1.807111</td>\n",
       "      <td>1.807111</td>\n",
       "      <td>1.807111</td>\n",
       "      <td>1.807111</td>\n",
       "    </tr>\n",
       "  </tbody>\n",
       "</table>\n",
       "</div>"
      ],
      "text/plain": [
       "               ln_T_ag_Cs                                                    \\\n",
       "                    count      mean       std       min       25%       50%   \n",
       "Species Origin                                                                \n",
       "Alder   n            13.0 -0.621091  1.079748 -2.054670 -1.409349 -0.890892   \n",
       "Aspen   n             9.0 -0.930356  1.335868 -2.444532 -1.853749 -1.029875   \n",
       "Birch   a             8.0 -1.368259  1.159050 -3.953053 -1.514361 -0.852832   \n",
       "        n            37.0 -0.974789  1.208183 -4.108084 -1.510900 -0.731341   \n",
       "Oak     a             4.0  0.459802  0.941560 -0.873043  0.264561  0.685171   \n",
       "        n             3.0 -0.696460  1.273862 -1.788996 -1.396061 -1.003126   \n",
       "Pine    a            79.0 -0.144123  1.041337 -3.061180 -0.727265  0.206989   \n",
       "        n            51.0 -0.987805  1.466318 -4.677466 -2.436234 -0.539482   \n",
       "Red oak a             3.0 -0.579268  1.040146 -1.253902 -1.178204 -1.102506   \n",
       "Robinia n             1.0 -4.160037       NaN -4.160037 -4.160037 -4.160037   \n",
       "Spruce  a             1.0 -2.405881       NaN -2.405881 -2.405881 -2.405881   \n",
       "\n",
       "                                   ln_T_ag_Sr                                \\\n",
       "                     75%       max      count      mean       std       min   \n",
       "Species Origin                                                                \n",
       "Alder   n       0.599227  1.107047       13.0  1.114066  0.639805 -0.169130   \n",
       "Aspen   n      -0.638032  1.550281        9.0  2.833696  0.588208  1.974979   \n",
       "Birch   a      -0.709916 -0.491440        8.0  2.786797  0.988082  0.892029   \n",
       "        n      -0.121966  1.534340       37.0  2.280120  0.815141 -0.222660   \n",
       "Oak     a       0.880412  1.341910        4.0  1.587438  1.180045  0.746804   \n",
       "        n      -0.150191  0.702743        3.0  1.267692  0.632918  0.552561   \n",
       "Pine    a       0.546915  1.651960       79.0  2.593975  0.845816 -0.113856   \n",
       "        n       0.294468  1.198582       51.0  2.196393  0.947430  0.391017   \n",
       "Red oak a      -0.241951  0.618604        3.0  2.351417  0.608020  1.649582   \n",
       "Robinia n      -4.160037 -4.160037        1.0  1.845017       NaN  1.845017   \n",
       "Spruce  a      -2.405881 -2.405881        1.0  1.807111       NaN  1.807111   \n",
       "\n",
       "                                                        \n",
       "                     25%       50%       75%       max  \n",
       "Species Origin                                          \n",
       "Alder   n       0.519859  1.340031  1.537968  1.797310  \n",
       "Aspen   n       2.415378  2.710312  3.171806  3.759708  \n",
       "Birch   a       2.550472  2.901584  3.129783  4.317885  \n",
       "        n       2.002500  2.420262  2.634974  4.658771  \n",
       "Oak     a       0.947736  1.136723  1.776425  3.329504  \n",
       "        n       1.023670  1.494779  1.625258  1.755738  \n",
       "Pine    a       2.135296  2.743032  3.102508  4.114105  \n",
       "        n       1.612218  1.988582  3.155912  3.895456  \n",
       "Red oak a       2.167897  2.686212  2.702334  2.718456  \n",
       "Robinia n       1.845017  1.845017  1.845017  1.845017  \n",
       "Spruce  a       1.807111  1.807111  1.807111  1.807111  "
      ]
     },
     "execution_count": 7,
     "metadata": {},
     "output_type": "execute_result"
    }
   ],
   "source": [
    "# Discribe statistic of forest sites by species and origin\n",
    "df.groupby([\"Species\",\"Origin\"])['ln_T_ag_Cs', 'ln_T_ag_Sr'].describe()"
   ]
  },
  {
   "cell_type": "code",
   "execution_count": 9,
   "id": "16e38eb8-f0a2-45ac-844b-c2f8b067d265",
   "metadata": {},
   "outputs": [
    {
     "name": "stdout",
     "output_type": "stream",
     "text": [
      "     Species  Species_ID  % composition       D_cm        H_m    G_m2_ha  \\\n",
      "0       Pine           0     100.000000   9.173331   8.917017  26.454278   \n",
      "1    Robinia           5      42.287838  10.248202  20.161437  12.869754   \n",
      "2      Birch           2     100.000000  17.188036  20.614192  32.488588   \n",
      "3       Pine           0     100.000000  22.133120  13.684873  36.940844   \n",
      "4      Birch           2     100.000000  28.217794  27.000746  25.643676   \n",
      "..       ...         ...            ...        ...        ...        ...   \n",
      "204     Pine           0     100.000000  13.411189  13.346519  28.256274   \n",
      "205    Birch           2      28.448276   1.914854   4.359681   0.259356   \n",
      "206    Aspen           4      99.930119  11.401754  14.676282  17.972410   \n",
      "207     Pine           0      96.284658  16.557714  17.797635  32.733666   \n",
      "208     Pine           0     100.000000  13.427365  16.722719  48.177280   \n",
      "\n",
      "    Origin  Origin_ID  A_year  D_live_cm   H_live_m  G_live_m2_ha  F_Soil_ID  \\\n",
      "0        n          0      20   9.173331   8.917017     26.454278          3   \n",
      "1        n          0      40  13.518680  22.091551     30.433701          3   \n",
      "2        n          0      30  17.188036  20.614192     32.488588          2   \n",
      "3        n          0      20  22.133120  13.684873     36.940844          2   \n",
      "4        a          1      57  28.217794  27.000746     25.643676          2   \n",
      "..     ...        ...     ...        ...        ...           ...        ...   \n",
      "204      a          1      45  13.411189  13.346519     28.256274          1   \n",
      "205      n          0      15   1.874874   4.195343      0.911674          3   \n",
      "206      n          0      25  11.278298  14.669348     17.984979          2   \n",
      "207      a          1      40  16.245074  17.716334     33.996762          2   \n",
      "208      a          1      60  13.427365  16.722719     48.177280          1   \n",
      "\n",
      "     M_Soil  AEDR_mean  Distance_km  Azimuth  ln_T_ag_Cs  ln_T_ag_Sr  \n",
      "0         2   0.141667    51.395430      246   -4.677466    2.841185  \n",
      "1         3  10.249524    33.428831      254   -4.160037    1.845017  \n",
      "2         3   0.381538    54.895591      247   -4.108084   -0.222660  \n",
      "3         2   0.552581    17.571824      265   -3.979215    1.568584  \n",
      "4         2   0.204412    51.095388      246   -3.953053    0.892029  \n",
      "..      ...        ...          ...      ...         ...         ...  \n",
      "204       2   9.277941     4.538803      266    1.422467    3.177301  \n",
      "205       3   0.480938    11.826929       55    1.534340    2.301556  \n",
      "206       3  20.051250     5.190617      265    1.550281    2.192562  \n",
      "207       2   2.182143    57.241684      247    1.605836    2.184734  \n",
      "208       2   0.633333     7.376963       84    1.651960    3.784314  \n",
      "\n",
      "[209 rows x 19 columns]\n"
     ]
    }
   ],
   "source": [
    "# Delete empty rows from the working column in a dataframe\n",
    "nan_value = float(\"NaN\")\n",
    "select.replace(\"\", nan_value, inplace=True)\n",
    "select.dropna(subset = [\"ln_T_ag_Cs\"], inplace=True) # IMPOTANT - input name of column\n",
    "print(select)"
   ]
  },
  {
   "cell_type": "code",
   "execution_count": 10,
   "id": "signed-county",
   "metadata": {},
   "outputs": [
    {
     "data": {
      "text/html": [
       "<div>\n",
       "<style scoped>\n",
       "    .dataframe tbody tr th:only-of-type {\n",
       "        vertical-align: middle;\n",
       "    }\n",
       "\n",
       "    .dataframe tbody tr th {\n",
       "        vertical-align: top;\n",
       "    }\n",
       "\n",
       "    .dataframe thead th {\n",
       "        text-align: right;\n",
       "    }\n",
       "</style>\n",
       "<table border=\"1\" class=\"dataframe\">\n",
       "  <thead>\n",
       "    <tr style=\"text-align: right;\">\n",
       "      <th></th>\n",
       "      <th>Species_ID</th>\n",
       "      <th>% composition</th>\n",
       "      <th>D_cm</th>\n",
       "      <th>H_m</th>\n",
       "      <th>G_m2_ha</th>\n",
       "      <th>Origin_ID</th>\n",
       "      <th>A_year</th>\n",
       "      <th>D_live_cm</th>\n",
       "      <th>H_live_m</th>\n",
       "      <th>G_live_m2_ha</th>\n",
       "      <th>F_Soil_ID</th>\n",
       "      <th>M_Soil</th>\n",
       "      <th>AEDR_mean</th>\n",
       "      <th>Distance_km</th>\n",
       "      <th>Azimuth</th>\n",
       "      <th>ln_T_ag_Cs</th>\n",
       "      <th>ln_T_ag_Sr</th>\n",
       "    </tr>\n",
       "  </thead>\n",
       "  <tbody>\n",
       "    <tr>\n",
       "      <th>count</th>\n",
       "      <td>209.000000</td>\n",
       "      <td>209.000000</td>\n",
       "      <td>209.000000</td>\n",
       "      <td>209.000000</td>\n",
       "      <td>209.000000</td>\n",
       "      <td>209.000000</td>\n",
       "      <td>209.000000</td>\n",
       "      <td>209.000000</td>\n",
       "      <td>209.000000</td>\n",
       "      <td>209.000000</td>\n",
       "      <td>209.000000</td>\n",
       "      <td>209.000000</td>\n",
       "      <td>209.000000</td>\n",
       "      <td>209.000000</td>\n",
       "      <td>209.000000</td>\n",
       "      <td>209.000000</td>\n",
       "      <td>209.000000</td>\n",
       "    </tr>\n",
       "    <tr>\n",
       "      <th>mean</th>\n",
       "      <td>1.057416</td>\n",
       "      <td>94.337925</td>\n",
       "      <td>17.770981</td>\n",
       "      <td>16.978858</td>\n",
       "      <td>30.000765</td>\n",
       "      <td>0.454545</td>\n",
       "      <td>47.464115</td>\n",
       "      <td>17.555614</td>\n",
       "      <td>16.999369</td>\n",
       "      <td>31.436810</td>\n",
       "      <td>1.918660</td>\n",
       "      <td>2.220096</td>\n",
       "      <td>2.526858</td>\n",
       "      <td>14.640059</td>\n",
       "      <td>174.296651</td>\n",
       "      <td>-0.640088</td>\n",
       "      <td>2.317915</td>\n",
       "    </tr>\n",
       "    <tr>\n",
       "      <th>std</th>\n",
       "      <td>1.524339</td>\n",
       "      <td>14.155594</td>\n",
       "      <td>8.921738</td>\n",
       "      <td>6.832292</td>\n",
       "      <td>15.907971</td>\n",
       "      <td>0.499125</td>\n",
       "      <td>24.724635</td>\n",
       "      <td>8.470174</td>\n",
       "      <td>6.783414</td>\n",
       "      <td>15.470759</td>\n",
       "      <td>0.634039</td>\n",
       "      <td>0.692944</td>\n",
       "      <td>4.756383</td>\n",
       "      <td>12.363729</td>\n",
       "      <td>99.912885</td>\n",
       "      <td>1.288804</td>\n",
       "      <td>0.931775</td>\n",
       "    </tr>\n",
       "    <tr>\n",
       "      <th>min</th>\n",
       "      <td>0.000000</td>\n",
       "      <td>20.805369</td>\n",
       "      <td>1.914854</td>\n",
       "      <td>2.704460</td>\n",
       "      <td>0.259356</td>\n",
       "      <td>0.000000</td>\n",
       "      <td>10.000000</td>\n",
       "      <td>1.874874</td>\n",
       "      <td>2.704460</td>\n",
       "      <td>0.656684</td>\n",
       "      <td>1.000000</td>\n",
       "      <td>0.000000</td>\n",
       "      <td>0.110000</td>\n",
       "      <td>3.998568</td>\n",
       "      <td>9.000000</td>\n",
       "      <td>-4.677466</td>\n",
       "      <td>-0.222660</td>\n",
       "    </tr>\n",
       "    <tr>\n",
       "      <th>25%</th>\n",
       "      <td>0.000000</td>\n",
       "      <td>96.775081</td>\n",
       "      <td>11.601519</td>\n",
       "      <td>12.401789</td>\n",
       "      <td>17.519173</td>\n",
       "      <td>0.000000</td>\n",
       "      <td>30.000000</td>\n",
       "      <td>12.307179</td>\n",
       "      <td>12.193980</td>\n",
       "      <td>20.938452</td>\n",
       "      <td>2.000000</td>\n",
       "      <td>2.000000</td>\n",
       "      <td>0.460000</td>\n",
       "      <td>6.562497</td>\n",
       "      <td>56.000000</td>\n",
       "      <td>-1.390832</td>\n",
       "      <td>1.734814</td>\n",
       "    </tr>\n",
       "    <tr>\n",
       "      <th>50%</th>\n",
       "      <td>0.000000</td>\n",
       "      <td>100.000000</td>\n",
       "      <td>16.817809</td>\n",
       "      <td>17.466646</td>\n",
       "      <td>30.845307</td>\n",
       "      <td>0.000000</td>\n",
       "      <td>45.000000</td>\n",
       "      <td>16.780740</td>\n",
       "      <td>17.365162</td>\n",
       "      <td>31.800484</td>\n",
       "      <td>2.000000</td>\n",
       "      <td>2.000000</td>\n",
       "      <td>0.756000</td>\n",
       "      <td>9.203749</td>\n",
       "      <td>189.000000</td>\n",
       "      <td>-0.504711</td>\n",
       "      <td>2.420262</td>\n",
       "    </tr>\n",
       "    <tr>\n",
       "      <th>75%</th>\n",
       "      <td>2.000000</td>\n",
       "      <td>100.000000</td>\n",
       "      <td>22.264253</td>\n",
       "      <td>21.414562</td>\n",
       "      <td>42.817263</td>\n",
       "      <td>1.000000</td>\n",
       "      <td>60.000000</td>\n",
       "      <td>22.023624</td>\n",
       "      <td>21.604236</td>\n",
       "      <td>43.193896</td>\n",
       "      <td>2.000000</td>\n",
       "      <td>3.000000</td>\n",
       "      <td>2.401667</td>\n",
       "      <td>20.865459</td>\n",
       "      <td>261.000000</td>\n",
       "      <td>0.338120</td>\n",
       "      <td>2.967019</td>\n",
       "    </tr>\n",
       "    <tr>\n",
       "      <th>max</th>\n",
       "      <td>5.000000</td>\n",
       "      <td>100.000000</td>\n",
       "      <td>52.228464</td>\n",
       "      <td>34.048688</td>\n",
       "      <td>66.922093</td>\n",
       "      <td>1.000000</td>\n",
       "      <td>150.000000</td>\n",
       "      <td>41.664506</td>\n",
       "      <td>33.436497</td>\n",
       "      <td>71.679126</td>\n",
       "      <td>3.000000</td>\n",
       "      <td>4.000000</td>\n",
       "      <td>36.591739</td>\n",
       "      <td>57.286577</td>\n",
       "      <td>342.000000</td>\n",
       "      <td>1.651960</td>\n",
       "      <td>4.658771</td>\n",
       "    </tr>\n",
       "  </tbody>\n",
       "</table>\n",
       "</div>"
      ],
      "text/plain": [
       "       Species_ID  % composition        D_cm         H_m     G_m2_ha  \\\n",
       "count  209.000000     209.000000  209.000000  209.000000  209.000000   \n",
       "mean     1.057416      94.337925   17.770981   16.978858   30.000765   \n",
       "std      1.524339      14.155594    8.921738    6.832292   15.907971   \n",
       "min      0.000000      20.805369    1.914854    2.704460    0.259356   \n",
       "25%      0.000000      96.775081   11.601519   12.401789   17.519173   \n",
       "50%      0.000000     100.000000   16.817809   17.466646   30.845307   \n",
       "75%      2.000000     100.000000   22.264253   21.414562   42.817263   \n",
       "max      5.000000     100.000000   52.228464   34.048688   66.922093   \n",
       "\n",
       "        Origin_ID      A_year   D_live_cm    H_live_m  G_live_m2_ha  \\\n",
       "count  209.000000  209.000000  209.000000  209.000000    209.000000   \n",
       "mean     0.454545   47.464115   17.555614   16.999369     31.436810   \n",
       "std      0.499125   24.724635    8.470174    6.783414     15.470759   \n",
       "min      0.000000   10.000000    1.874874    2.704460      0.656684   \n",
       "25%      0.000000   30.000000   12.307179   12.193980     20.938452   \n",
       "50%      0.000000   45.000000   16.780740   17.365162     31.800484   \n",
       "75%      1.000000   60.000000   22.023624   21.604236     43.193896   \n",
       "max      1.000000  150.000000   41.664506   33.436497     71.679126   \n",
       "\n",
       "        F_Soil_ID      M_Soil   AEDR_mean  Distance_km     Azimuth  \\\n",
       "count  209.000000  209.000000  209.000000   209.000000  209.000000   \n",
       "mean     1.918660    2.220096    2.526858    14.640059  174.296651   \n",
       "std      0.634039    0.692944    4.756383    12.363729   99.912885   \n",
       "min      1.000000    0.000000    0.110000     3.998568    9.000000   \n",
       "25%      2.000000    2.000000    0.460000     6.562497   56.000000   \n",
       "50%      2.000000    2.000000    0.756000     9.203749  189.000000   \n",
       "75%      2.000000    3.000000    2.401667    20.865459  261.000000   \n",
       "max      3.000000    4.000000   36.591739    57.286577  342.000000   \n",
       "\n",
       "       ln_T_ag_Cs  ln_T_ag_Sr  \n",
       "count  209.000000  209.000000  \n",
       "mean    -0.640088    2.317915  \n",
       "std      1.288804    0.931775  \n",
       "min     -4.677466   -0.222660  \n",
       "25%     -1.390832    1.734814  \n",
       "50%     -0.504711    2.420262  \n",
       "75%      0.338120    2.967019  \n",
       "max      1.651960    4.658771  "
      ]
     },
     "execution_count": 10,
     "metadata": {},
     "output_type": "execute_result"
    }
   ],
   "source": [
    "# Descriptive statistics of main parameters\n",
    "select.describe()"
   ]
  },
  {
   "cell_type": "code",
   "execution_count": 11,
   "id": "stunning-chassis",
   "metadata": {
    "tags": []
   },
   "outputs": [
    {
     "data": {
      "image/png": "[encoded data removed]",
      "text/plain": [
       "<Figure size 720x720 with 2 Axes>"
      ]
     },
     "metadata": {
      "needs_background": "light"
     },
     "output_type": "display_data"
    }
   ],
   "source": [
    "# Correlation matrix\n",
    "\n",
    "import seaborn as sns # for correlation heatmap\n",
    "\n",
    "def correlation_heatmap(train):\n",
    "    correlations = train.corr()\n",
    "\n",
    "    fig, ax = plt.subplots(figsize=(10,10))\n",
    "    sns.heatmap(correlations, vmax=1.0, center=0, fmt='.2f', cmap=\"YlGnBu\",\n",
    "                square=True, linewidths=.5, annot=True, cbar_kws={\"shrink\": .70}\n",
    "                )\n",
    "    plt.show();\n",
    "    \n",
    "correlation_heatmap(select)"
   ]
  },
  {
   "cell_type": "markdown",
   "id": "dramatic-imaging",
   "metadata": {},
   "source": [
    "# Selecting working columns for the XGBoost algorithms"
   ]
  },
  {
   "cell_type": "code",
   "execution_count": 12,
   "id": "embedded-burst",
   "metadata": {},
   "outputs": [],
   "source": [
    "# We select independent variables and predicting parameter \n",
    "X = pd.DataFrame(select, columns= ['Species_ID','D_cm', 'H_m', 'G_m2_ha', 'A_year',\n",
    "                                    'Origin_ID', 'F_Soil_ID', 'M_Soil'])\n",
    "y = pd.DataFrame(select, columns= ['ln_T_ag_Cs'])"
   ]
  },
  {
   "cell_type": "code",
   "execution_count": 13,
   "id": "atomic-shoulder",
   "metadata": {},
   "outputs": [
    {
     "name": "stdin",
     "output_type": "stream",
     "text": [
      "Choose an option - Add a synthetic column with random values!!! (Yes or No): No\n"
     ]
    },
    {
     "name": "stdout",
     "output_type": "stream",
     "text": [
      "Selected \"No\"!!! A new column with random values was not created.\n"
     ]
    }
   ],
   "source": [
    "# Add to 'X' data colection new colomns with sintetic/random data: selest \"Yes\" or \"No\".\n",
    "question=input(\"Choose an option - Add a synthetic column with random values!!! (Yes or No):\")\n",
    "\n",
    "if question == 'Yes':\n",
    "    count = y.count()\n",
    "    norm_value = np.random.normal(10, 2, size=count)\n",
    "    X['Random_col'] = norm_value\n",
    "    print('Selected \"Yes\"!!! A new column with random values was created.')\n",
    "elif question == 'No':\n",
    "    print('Selected \"No\"!!! A new column with random values was not created.')\n",
    "else:\n",
    "    print('Error!!! Typed no corectly text!!!')"
   ]
  },
  {
   "cell_type": "code",
   "execution_count": 14,
   "id": "sophisticated-eleven",
   "metadata": {},
   "outputs": [
    {
     "data": {
      "text/html": [
       "<div>\n",
       "<style scoped>\n",
       "    .dataframe tbody tr th:only-of-type {\n",
       "        vertical-align: middle;\n",
       "    }\n",
       "\n",
       "    .dataframe tbody tr th {\n",
       "        vertical-align: top;\n",
       "    }\n",
       "\n",
       "    .dataframe thead th {\n",
       "        text-align: right;\n",
       "    }\n",
       "</style>\n",
       "<table border=\"1\" class=\"dataframe\">\n",
       "  <thead>\n",
       "    <tr style=\"text-align: right;\">\n",
       "      <th></th>\n",
       "      <th>Species_ID</th>\n",
       "      <th>D_cm</th>\n",
       "      <th>H_m</th>\n",
       "      <th>G_m2_ha</th>\n",
       "      <th>A_year</th>\n",
       "      <th>Origin_ID</th>\n",
       "      <th>F_Soil_ID</th>\n",
       "      <th>M_Soil</th>\n",
       "    </tr>\n",
       "  </thead>\n",
       "  <tbody>\n",
       "    <tr>\n",
       "      <th>0</th>\n",
       "      <td>0</td>\n",
       "      <td>9.173331</td>\n",
       "      <td>8.917017</td>\n",
       "      <td>26.454278</td>\n",
       "      <td>20</td>\n",
       "      <td>0</td>\n",
       "      <td>3</td>\n",
       "      <td>2</td>\n",
       "    </tr>\n",
       "    <tr>\n",
       "      <th>1</th>\n",
       "      <td>5</td>\n",
       "      <td>10.248202</td>\n",
       "      <td>20.161437</td>\n",
       "      <td>12.869754</td>\n",
       "      <td>40</td>\n",
       "      <td>0</td>\n",
       "      <td>3</td>\n",
       "      <td>3</td>\n",
       "    </tr>\n",
       "    <tr>\n",
       "      <th>2</th>\n",
       "      <td>2</td>\n",
       "      <td>17.188036</td>\n",
       "      <td>20.614192</td>\n",
       "      <td>32.488588</td>\n",
       "      <td>30</td>\n",
       "      <td>0</td>\n",
       "      <td>2</td>\n",
       "      <td>3</td>\n",
       "    </tr>\n",
       "    <tr>\n",
       "      <th>3</th>\n",
       "      <td>0</td>\n",
       "      <td>22.133120</td>\n",
       "      <td>13.684873</td>\n",
       "      <td>36.940844</td>\n",
       "      <td>20</td>\n",
       "      <td>0</td>\n",
       "      <td>2</td>\n",
       "      <td>2</td>\n",
       "    </tr>\n",
       "    <tr>\n",
       "      <th>4</th>\n",
       "      <td>2</td>\n",
       "      <td>28.217794</td>\n",
       "      <td>27.000746</td>\n",
       "      <td>25.643676</td>\n",
       "      <td>57</td>\n",
       "      <td>1</td>\n",
       "      <td>2</td>\n",
       "      <td>2</td>\n",
       "    </tr>\n",
       "  </tbody>\n",
       "</table>\n",
       "</div>"
      ],
      "text/plain": [
       "   Species_ID       D_cm        H_m    G_m2_ha  A_year  Origin_ID  F_Soil_ID  \\\n",
       "0           0   9.173331   8.917017  26.454278      20          0          3   \n",
       "1           5  10.248202  20.161437  12.869754      40          0          3   \n",
       "2           2  17.188036  20.614192  32.488588      30          0          2   \n",
       "3           0  22.133120  13.684873  36.940844      20          0          2   \n",
       "4           2  28.217794  27.000746  25.643676      57          1          2   \n",
       "\n",
       "   M_Soil  \n",
       "0       2  \n",
       "1       3  \n",
       "2       3  \n",
       "3       2  \n",
       "4       2  "
      ]
     },
     "execution_count": 14,
     "metadata": {},
     "output_type": "execute_result"
    }
   ],
   "source": [
    "# Columns in \"X\" data collections\n",
    "X.head()"
   ]
  },
  {
   "cell_type": "code",
   "execution_count": 15,
   "id": "seeing-oakland",
   "metadata": {},
   "outputs": [
    {
     "data": {
      "text/html": [
       "<div>\n",
       "<style scoped>\n",
       "    .dataframe tbody tr th:only-of-type {\n",
       "        vertical-align: middle;\n",
       "    }\n",
       "\n",
       "    .dataframe tbody tr th {\n",
       "        vertical-align: top;\n",
       "    }\n",
       "\n",
       "    .dataframe thead th {\n",
       "        text-align: right;\n",
       "    }\n",
       "</style>\n",
       "<table border=\"1\" class=\"dataframe\">\n",
       "  <thead>\n",
       "    <tr style=\"text-align: right;\">\n",
       "      <th></th>\n",
       "      <th>ln_T_ag_Cs</th>\n",
       "    </tr>\n",
       "  </thead>\n",
       "  <tbody>\n",
       "    <tr>\n",
       "      <th>0</th>\n",
       "      <td>-4.677466</td>\n",
       "    </tr>\n",
       "    <tr>\n",
       "      <th>1</th>\n",
       "      <td>-4.160037</td>\n",
       "    </tr>\n",
       "    <tr>\n",
       "      <th>2</th>\n",
       "      <td>-4.108084</td>\n",
       "    </tr>\n",
       "    <tr>\n",
       "      <th>3</th>\n",
       "      <td>-3.979215</td>\n",
       "    </tr>\n",
       "    <tr>\n",
       "      <th>4</th>\n",
       "      <td>-3.953053</td>\n",
       "    </tr>\n",
       "  </tbody>\n",
       "</table>\n",
       "</div>"
      ],
      "text/plain": [
       "   ln_T_ag_Cs\n",
       "0   -4.677466\n",
       "1   -4.160037\n",
       "2   -4.108084\n",
       "3   -3.979215\n",
       "4   -3.953053"
      ]
     },
     "execution_count": 15,
     "metadata": {},
     "output_type": "execute_result"
    }
   ],
   "source": [
    "# Columns in \"y\" data collections\n",
    "y.head()"
   ]
  },
  {
   "cell_type": "markdown",
   "id": "peripheral-colombia",
   "metadata": {
    "tags": []
   },
   "source": [
    "# Create first XGBoost model for estimate varibiality of output stats"
   ]
  },
  {
   "cell_type": "code",
   "execution_count": 16,
   "id": "disturbed-registration",
   "metadata": {},
   "outputs": [],
   "source": [
    "#  Importing the main library for building model and its analysis\n",
    "import xgboost as xgb\n",
    "from scipy.stats import uniform, randint\n",
    "from sklearn.metrics import mean_squared_error, r2_score, mean_absolute_error\n",
    "from sklearn.model_selection import cross_val_score, KFold, RandomizedSearchCV, train_test_split\n",
    "from sklearn.datasets import make_classification"
   ]
  },
  {
   "cell_type": "code",
   "execution_count": 17,
   "id": "marked-trustee",
   "metadata": {},
   "outputs": [],
   "source": [
    "# K-Folds cross-validation for estimation \"quality\" of input data for building model\n",
    "X_kfold = pd.DataFrame(X).to_numpy()\n",
    "y_kfold = pd.DataFrame(y).to_numpy()"
   ]
  },
  {
   "cell_type": "code",
   "execution_count": 18,
   "id": "professional-humor",
   "metadata": {
    "tags": []
   },
   "outputs": [],
   "source": [
    "# Function for comparing datasets on homogeneity \n",
    "def display_scores(scores):\n",
    "    print(\"    Scores: {0}\\n    Mean: {1:.3f}\\n    Std: {2:.3f}\".format(scores, np.mean(scores), np.std(scores)))"
   ]
  },
  {
   "cell_type": "code",
   "execution_count": 19,
   "id": "authorized-pilot",
   "metadata": {},
   "outputs": [
    {
     "name": "stdout",
     "output_type": "stream",
     "text": [
      "R square (R2): \n",
      "\n",
      "    Scores: [0.12730710385832822, 0.1480170256704253, 0.13683820406673786]\n",
      "    Mean: 0.137\n",
      "    Std: 0.008\n",
      "\n",
      " --------------------\n",
      "Root-mean-square error (RMSE): \n",
      "\n",
      "    Scores: [1.30833308 1.13086976 1.12989393]\n",
      "    Mean: 1.190\n",
      "    Std: 0.084\n",
      "\n",
      " --------------------\n",
      "Mean absolute error (MAE): \n",
      "\n",
      "    Scores: [1.0227924912328146, 0.8406032662031389, 0.9720830456334072]\n",
      "    Mean: 0.945\n",
      "    Std: 0.077\n",
      "\n",
      " --------------------\n"
     ]
    }
   ],
   "source": [
    "# Output results of K-Folds cross-validation for XGBoost model\n",
    "kfold = KFold(n_splits=3, shuffle=True)\n",
    "scores = []\n",
    "for train_index, test_index in kfold.split(X_kfold):   \n",
    "    X_train, X_test = X_kfold[train_index], X_kfold[test_index]\n",
    "    y_train, y_test = y_kfold[train_index], y_kfold[test_index]\n",
    "\n",
    "    xgb_model = xgb.XGBRegressor(objective=\"reg:squarederror\")\n",
    "    xgb_model.fit(X_train, y_train)\n",
    "    \n",
    "    y_pred = xgb_model.predict(X_test)\n",
    "    \n",
    "    scores.append(r2_score(y_test, y_pred))\n",
    "    \n",
    "print('R square (R2): \\n')\n",
    "display_scores((scores))\n",
    "print('\\n', 20*'-')\n",
    "\n",
    "\n",
    "scores = []\n",
    "for train_index, test_index in kfold.split(X_kfold):   \n",
    "    X_train, X_test = X_kfold[train_index], X_kfold[test_index]\n",
    "    y_train, y_test = y_kfold[train_index], y_kfold[test_index]\n",
    "\n",
    "    xgb_model = xgb.XGBRegressor(objective=\"reg:squarederror\")\n",
    "    xgb_model.fit(X_train, y_train)\n",
    "    \n",
    "    y_pred = xgb_model.predict(X_test)\n",
    "      \n",
    "    scores.append(mean_squared_error(y_test, y_pred))\n",
    "    \n",
    "print('Root-mean-square error (RMSE): \\n')\n",
    "display_scores(np.sqrt(scores))\n",
    "print('\\n', 20*'-')\n",
    "\n",
    "scores = []\n",
    "for train_index, test_index in kfold.split(X_kfold):   \n",
    "    X_train, X_test = X_kfold[train_index], X_kfold[test_index]\n",
    "    y_train, y_test = y_kfold[train_index], y_kfold[test_index]\n",
    "\n",
    "    xgb_model = xgb.XGBRegressor(objective=\"reg:squarederror\")\n",
    "    xgb_model.fit(X_train, y_train)\n",
    "    \n",
    "    y_pred = xgb_model.predict(X_test)\n",
    "    \n",
    "    scores.append(mean_absolute_error(y_test, y_pred))\n",
    "\n",
    "print('Mean absolute error (MAE): \\n')\n",
    "display_scores((scores))\n",
    "print('\\n', 20*'-')"
   ]
  },
  {
   "cell_type": "markdown",
   "id": "residential-banana",
   "metadata": {},
   "source": [
    "# Find optimal hyperparameters for XGBoost model"
   ]
  },
  {
   "cell_type": "code",
   "execution_count": 20,
   "id": "7c28e7d3-2d4f-47ec-924a-a2db6425b98e",
   "metadata": {},
   "outputs": [],
   "source": [
    "# Create function for present of hyperparameters and main scores\n",
    "def report_best_scores(results, n_top=3):\n",
    "    for i in range(1, n_top + 1):\n",
    "        candidates = np.flatnonzero(results['rank_test_score'] == i)\n",
    "        for candidate in candidates:\n",
    "            print(\"Model with rank: {0}\".format(i))\n",
    "            print(\"Mean validation score: {0:.3f} (std: {1:.3f})\".format(\n",
    "                  results['mean_test_score'][candidate],\n",
    "                  results['std_test_score'][candidate]))\n",
    "            print(\"Parameters: {0}\".format(results['params'][candidate]))\n",
    "            global hps\n",
    "            hps =  results['params'][candidate]\n",
    "            print(\"\")"
   ]
  },
  {
   "cell_type": "code",
   "execution_count": 22,
   "id": "fifteen-description",
   "metadata": {},
   "outputs": [
    {
     "name": "stdout",
     "output_type": "stream",
     "text": [
      "Fitting 5 folds for each of 3 candidates, totalling 15 fits\n",
      "Model with rank: 1\n",
      "Mean validation score: -17.087 (std: 6.757)\n",
      "Parameters: {'colsample_bytree': 0.7042028910152139, 'gamma': 0.131144588945935, 'learning_rate': 0.14899377812267037, 'max_depth': 4, 'n_estimators': 50, 'subsample': 0.3269126599094067}\n",
      "\n"
     ]
    }
   ],
   "source": [
    "# Tuning XGBoost parameters\n",
    "xgb_model = xgb.XGBRegressor(objective=\"reg:squarederror\", eval_metric=\"rmse\")\n",
    "params = {\n",
    "    \"colsample_bytree\": uniform(0.05, 0.9),\n",
    "    \"gamma\": uniform(0, 0.5),\n",
    "    \"learning_rate\": uniform(0.01, 0.3), # default 0.1 \n",
    "    \"max_depth\": randint(2, 5), # default 3\n",
    "    \"n_estimators\": randint(50, 200), # default 100\n",
    "    \"subsample\": uniform(0.3, 0.7)\n",
    "}\n",
    "\n",
    "search = RandomizedSearchCV(xgb_model, param_distributions=params, n_iter=5000, cv=5, verbose=1, n_jobs=1, return_train_score=True)\n",
    "\n",
    "search.fit(X, y)\n",
    "\n",
    "report_best_scores(search.cv_results_, 1)"
   ]
  },
  {
   "cell_type": "code",
   "execution_count": 23,
   "id": "outdoor-treat",
   "metadata": {
    "tags": []
   },
   "outputs": [
    {
     "name": "stdout",
     "output_type": "stream",
     "text": [
      "{'mean_fit_time': array([0.54722047, 0.40378256, 0.2149724 ]), 'std_fit_time': array([0.10678138, 0.02005938, 0.02497771]), 'mean_score_time': array([0.01081128, 0.0093143 , 0.01168032]), 'std_score_time': array([0.00137013, 0.00093519, 0.00225988]), 'param_colsample_bytree': masked_array(data=[0.7869821061258238, 0.5942925529584822,\n",
      "                   0.7042028910152139],\n",
      "             mask=[False, False, False],\n",
      "       fill_value='?',\n",
      "            dtype=object), 'param_gamma': masked_array(data=[0.37410231764335306, 0.22370846745123324,\n",
      "                   0.131144588945935],\n",
      "             mask=[False, False, False],\n",
      "       fill_value='?',\n",
      "            dtype=object), 'param_learning_rate': masked_array(data=[0.1405569507177254, 0.19015085112098157,\n",
      "                   0.14899377812267037],\n",
      "             mask=[False, False, False],\n",
      "       fill_value='?',\n",
      "            dtype=object), 'param_max_depth': masked_array(data=[3, 3, 4],\n",
      "             mask=[False, False, False],\n",
      "       fill_value='?',\n",
      "            dtype=object), 'param_n_estimators': masked_array(data=[117, 121, 50],\n",
      "             mask=[False, False, False],\n",
      "       fill_value='?',\n",
      "            dtype=object), 'param_subsample': masked_array(data=[0.849244821637078, 0.6663727197257354,\n",
      "                   0.3269126599094067],\n",
      "             mask=[False, False, False],\n",
      "       fill_value='?',\n",
      "            dtype=object), 'params': [{'colsample_bytree': 0.7869821061258238, 'gamma': 0.37410231764335306, 'learning_rate': 0.1405569507177254, 'max_depth': 3, 'n_estimators': 117, 'subsample': 0.849244821637078}, {'colsample_bytree': 0.5942925529584822, 'gamma': 0.22370846745123324, 'learning_rate': 0.19015085112098157, 'max_depth': 3, 'n_estimators': 121, 'subsample': 0.6663727197257354}, {'colsample_bytree': 0.7042028910152139, 'gamma': 0.131144588945935, 'learning_rate': 0.14899377812267037, 'max_depth': 4, 'n_estimators': 50, 'subsample': 0.3269126599094067}], 'split0_test_score': array([-8.48755508, -8.54222247, -7.80298638]), 'split1_test_score': array([-11.04792331, -11.31257583, -10.96268514]), 'split2_test_score': array([-18.77474945, -21.87814683, -20.2617035 ]), 'split3_test_score': array([-35.31566658, -41.73304783, -26.34005791]), 'split4_test_score': array([-23.5003326 , -23.75182776, -20.06527366]), 'mean_test_score': array([-19.4252454 , -21.44356414, -17.08654132]), 'std_test_score': array([ 9.58485849, 11.7154738 ,  6.75674592]), 'rank_test_score': array([2, 3, 1], dtype=int32), 'split0_train_score': array([0.84186313, 0.90612341, 0.76207924]), 'split1_train_score': array([0.93187933, 0.9547515 , 0.8219832 ]), 'split2_train_score': array([0.93686926, 0.96144485, 0.83985576]), 'split3_train_score': array([0.9347141 , 0.95107737, 0.8346055 ]), 'split4_train_score': array([0.91688009, 0.93797445, 0.81066609]), 'mean_train_score': array([0.91244118, 0.94227432, 0.81383796]), 'std_train_score': array([0.03597672, 0.01962682, 0.02779779])}\n"
     ]
    }
   ],
   "source": [
    "# All output data for XGBoost models after tuning parameters\n",
    "print(search.cv_results_)"
   ]
  },
  {
   "cell_type": "code",
   "execution_count": 24,
   "id": "857a5057-d093-40c7-a0d0-3ee7220483ba",
   "metadata": {},
   "outputs": [
    {
     "name": "stdout",
     "output_type": "stream",
     "text": [
      "Colsample_bytree: 0.7042028910152139\n",
      "Gamma: 0.131144588945935\n",
      "Learning_rate: 0.14899377812267037\n",
      "Max_depth: 4\n",
      "N_estimators: 50\n",
      "Subsample: 0.3269126599094067\n"
     ]
    }
   ],
   "source": [
    "# Overwrite hyperparameters data for the next step/stage\n",
    "p1 = hps['colsample_bytree']     # colsample_bytree\n",
    "print('Colsample_bytree: ' + str(p1))\n",
    "\n",
    "p2 = hps['gamma']                # gamma\n",
    "print('Gamma: ' + str(p2))\n",
    "\n",
    "p3 = hps['learning_rate']        # learning_rate\n",
    "print('Learning_rate: ' + str(p3))\n",
    "\n",
    "p4 = hps['max_depth']            # max_depth\n",
    "print('Max_depth: ' + str(p4))\n",
    "\n",
    "p5 = hps['n_estimators']         # n_estimators\n",
    "print('N_estimators: ' + str(p5))\n",
    "\n",
    "p6 = hps['subsample']            # subsample\n",
    "print('Subsample: ' + str(p6))"
   ]
  },
  {
   "cell_type": "markdown",
   "id": "d0375db3-3f54-44ae-8852-a2d349985444",
   "metadata": {
    "tags": []
   },
   "source": [
    "# Creating a basic XGBoost model"
   ]
  },
  {
   "cell_type": "code",
   "execution_count": 25,
   "id": "encouraging-arizona",
   "metadata": {},
   "outputs": [],
   "source": [
    "# Create DMatrix (is an internal data structure) \n",
    "data_dmatrix = xgb.DMatrix(data=X,label=y)"
   ]
  },
  {
   "cell_type": "code",
   "execution_count": 26,
   "id": "italian-compatibility",
   "metadata": {
    "tags": []
   },
   "outputs": [],
   "source": [
    "# Generate test and training samples\n",
    "from sklearn.model_selection import train_test_split\n",
    "X_train, X_test, y_train, y_test = train_test_split(X, y, test_size=0.3)"
   ]
  },
  {
   "cell_type": "code",
   "execution_count": 29,
   "id": "connected-preparation",
   "metadata": {
    "tags": []
   },
   "outputs": [],
   "source": [
    "# Implementation of the scikit-learn API for XGBoost regression\n",
    "xgb_model = xgb.XGBRegressor(objective='reg:squarederror', colsample_bytree=p1, gamma=p2, learning_rate=p3, \n",
    "                          max_depth=p4, n_estimators=p5, subsample=p6, eval_metric=[\"rmse\"])"
   ]
  },
  {
   "cell_type": "code",
   "execution_count": 30,
   "id": "7e1a4e07-cefc-4575-a9ae-e61c1c748809",
   "metadata": {},
   "outputs": [
    {
     "name": "stdout",
     "output_type": "stream",
     "text": [
      "XGBRegressor(base_score=None, booster=None, callbacks=None,\n",
      "             colsample_bylevel=None, colsample_bynode=None,\n",
      "             colsample_bytree=0.7042028910152139, early_stopping_rounds=None,\n",
      "             enable_categorical=False, eval_metric=['rmse'],\n",
      "             gamma=0.131144588945935, gpu_id=None, grow_policy=None,\n",
      "             importance_type=None, interaction_constraints=None,\n",
      "             learning_rate=0.14899377812267037, max_bin=None,\n",
      "             max_cat_to_onehot=None, max_delta_step=None, max_depth=4,\n",
      "             max_leaves=None, min_child_weight=None, missing=nan,\n",
      "             monotone_constraints=None, n_estimators=50, n_jobs=None,\n",
      "             num_parallel_tree=None, predictor=None, random_state=None,\n",
      "             reg_alpha=None, reg_lambda=None, ...)\n"
     ]
    }
   ],
   "source": [
    "# Show all parameters of XGBoost model\n",
    "print(xgb_model)"
   ]
  },
  {
   "cell_type": "code",
   "execution_count": 31,
   "id": "electronic-witness",
   "metadata": {
    "tags": []
   },
   "outputs": [
    {
     "name": "stdout",
     "output_type": "stream",
     "text": [
      "[0]\tvalidation_0-rmse:1.55239\tvalidation_1-rmse:1.65137\n",
      "[1]\tvalidation_0-rmse:1.41587\tvalidation_1-rmse:1.56952\n",
      "[2]\tvalidation_0-rmse:1.28464\tvalidation_1-rmse:1.50167\n",
      "[3]\tvalidation_0-rmse:1.19932\tvalidation_1-rmse:1.46005\n",
      "[4]\tvalidation_0-rmse:1.14091\tvalidation_1-rmse:1.39107\n",
      "[5]\tvalidation_0-rmse:1.07375\tvalidation_1-rmse:1.36010\n",
      "[6]\tvalidation_0-rmse:1.01811\tvalidation_1-rmse:1.33630\n",
      "[7]\tvalidation_0-rmse:0.98141\tvalidation_1-rmse:1.32532\n",
      "[8]\tvalidation_0-rmse:0.94606\tvalidation_1-rmse:1.31412\n",
      "[9]\tvalidation_0-rmse:0.91656\tvalidation_1-rmse:1.28300\n",
      "[10]\tvalidation_0-rmse:0.87898\tvalidation_1-rmse:1.28036\n",
      "[11]\tvalidation_0-rmse:0.84615\tvalidation_1-rmse:1.27109\n"
     ]
    },
    {
     "name": "stderr",
     "output_type": "stream",
     "text": [
      "/home/dima/anaconda3/lib/python3.9/site-packages/xgboost/sklearn.py:793: UserWarning: `early_stopping_rounds` in `fit` method is deprecated for better compatibility with scikit-learn, use `early_stopping_rounds` in constructor or`set_params` instead.\n",
      "  warnings.warn(\n"
     ]
    },
    {
     "name": "stdout",
     "output_type": "stream",
     "text": [
      "[12]\tvalidation_0-rmse:0.83258\tvalidation_1-rmse:1.23965\n",
      "[13]\tvalidation_0-rmse:0.80092\tvalidation_1-rmse:1.22049\n",
      "[14]\tvalidation_0-rmse:0.78802\tvalidation_1-rmse:1.21977\n",
      "[15]\tvalidation_0-rmse:0.78461\tvalidation_1-rmse:1.22110\n",
      "[16]\tvalidation_0-rmse:0.75971\tvalidation_1-rmse:1.21974\n",
      "[17]\tvalidation_0-rmse:0.75314\tvalidation_1-rmse:1.23231\n",
      "[18]\tvalidation_0-rmse:0.73458\tvalidation_1-rmse:1.23338\n",
      "[19]\tvalidation_0-rmse:0.72626\tvalidation_1-rmse:1.23339\n",
      "[20]\tvalidation_0-rmse:0.71727\tvalidation_1-rmse:1.24082\n",
      "[21]\tvalidation_0-rmse:0.71026\tvalidation_1-rmse:1.23108\n",
      "[22]\tvalidation_0-rmse:0.69241\tvalidation_1-rmse:1.21995\n",
      "[23]\tvalidation_0-rmse:0.67315\tvalidation_1-rmse:1.22010\n",
      "[24]\tvalidation_0-rmse:0.66473\tvalidation_1-rmse:1.21615\n",
      "[25]\tvalidation_0-rmse:0.65556\tvalidation_1-rmse:1.21476\n",
      "[26]\tvalidation_0-rmse:0.64692\tvalidation_1-rmse:1.22783\n",
      "[27]\tvalidation_0-rmse:0.63492\tvalidation_1-rmse:1.24256\n",
      "[28]\tvalidation_0-rmse:0.63351\tvalidation_1-rmse:1.24866\n",
      "[29]\tvalidation_0-rmse:0.61777\tvalidation_1-rmse:1.25976\n",
      "[30]\tvalidation_0-rmse:0.60218\tvalidation_1-rmse:1.25332\n",
      "[31]\tvalidation_0-rmse:0.59675\tvalidation_1-rmse:1.25266\n",
      "[32]\tvalidation_0-rmse:0.58966\tvalidation_1-rmse:1.25366\n",
      "[33]\tvalidation_0-rmse:0.58126\tvalidation_1-rmse:1.24916\n",
      "[34]\tvalidation_0-rmse:0.57179\tvalidation_1-rmse:1.25377\n",
      "[35]\tvalidation_0-rmse:0.56164\tvalidation_1-rmse:1.26366\n",
      "[36]\tvalidation_0-rmse:0.55004\tvalidation_1-rmse:1.27707\n",
      "[37]\tvalidation_0-rmse:0.54510\tvalidation_1-rmse:1.28531\n",
      "[38]\tvalidation_0-rmse:0.53955\tvalidation_1-rmse:1.27554\n",
      "[39]\tvalidation_0-rmse:0.53262\tvalidation_1-rmse:1.27019\n",
      "[40]\tvalidation_0-rmse:0.52105\tvalidation_1-rmse:1.26646\n",
      "[41]\tvalidation_0-rmse:0.52130\tvalidation_1-rmse:1.26417\n",
      "[42]\tvalidation_0-rmse:0.51312\tvalidation_1-rmse:1.27089\n",
      "[43]\tvalidation_0-rmse:0.50916\tvalidation_1-rmse:1.27388\n",
      "[44]\tvalidation_0-rmse:0.50073\tvalidation_1-rmse:1.27645\n",
      "[45]\tvalidation_0-rmse:0.49361\tvalidation_1-rmse:1.27143\n"
     ]
    },
    {
     "name": "stderr",
     "output_type": "stream",
     "text": [
      "/home/dima/anaconda3/lib/python3.9/site-packages/xgboost/core.py:90: UserWarning: ntree_limit is deprecated, use `iteration_range` or model slicing instead.\n",
      "  warnings.warn(\n"
     ]
    }
   ],
   "source": [
    "# Fitting the model \n",
    "xgb_model.fit(X_train, y_train, early_stopping_rounds=20, eval_set=[(X_train, y_train), (X_test, y_test)])\n",
    "# learning dynamics\n",
    "y_pred = xgb_model.predict(X_test, ntree_limit=xgb_model.best_ntree_limit)"
   ]
  },
  {
   "cell_type": "code",
   "execution_count": 32,
   "id": "pleasant-temperature",
   "metadata": {
    "tags": []
   },
   "outputs": [
    {
     "name": "stdout",
     "output_type": "stream",
     "text": [
      "The best iteration: 25\n"
     ]
    }
   ],
   "source": [
    "# Iteration with the best result\n",
    "optimal_n= xgb_model.best_ntree_limit-1\n",
    "print(\"The best iteration: \" + str(optimal_n))    "
   ]
  },
  {
   "cell_type": "code",
   "execution_count": 33,
   "id": "simple-eating",
   "metadata": {},
   "outputs": [],
   "source": [
    "# Preparing data for building a learning graph\n",
    "results = xgb_model.evals_result()"
   ]
  },
  {
   "cell_type": "code",
   "execution_count": 34,
   "id": "roman-panama",
   "metadata": {
    "tags": []
   },
   "outputs": [
    {
     "data": {
      "text/plain": [
       "<matplotlib.legend.Legend at 0x7ff934070760>"
      ]
     },
     "execution_count": 34,
     "metadata": {},
     "output_type": "execute_result"
    },
    {
     "data": {
      "image/png": "[encoded data removed]",
      "text/plain": [
       "<Figure size 720x504 with 1 Axes>"
      ]
     },
     "metadata": {
      "needs_background": "light"
     },
     "output_type": "display_data"
    }
   ],
   "source": [
    "# Learning curves for the XGBoost model \n",
    "plt.figure(figsize=(10,7))\n",
    "plt.yscale(\"log\")\n",
    "plt.plot(results['validation_0']['rmse'], label='Train')\n",
    "plt.plot(results['validation_1']['rmse'], label='Test')\n",
    "plt.axvline(optimal_n, color=\"gray\", label=\"Optimal iteration\")\n",
    "plt.xlabel(\"Boosting iteration, pcs\")\n",
    "plt.ylabel(\"Loss functions - RMSE\")\n",
    "plt.legend()"
   ]
  },
  {
   "cell_type": "markdown",
   "id": "1d965ed5-7055-493f-862e-b98711536813",
   "metadata": {},
   "source": [
    "# Estimation of a basic XGBoost model"
   ]
  },
  {
   "cell_type": "markdown",
   "id": "33ec2e24-5e6b-4677-832c-018cb523e93e",
   "metadata": {},
   "source": [
    "# Test (validation) observations"
   ]
  },
  {
   "cell_type": "code",
   "execution_count": 35,
   "id": "9c34a7f1-2da5-4fa9-bee0-69c26d56710c",
   "metadata": {},
   "outputs": [
    {
     "name": "stdout",
     "output_type": "stream",
     "text": [
      "Bias: -0.0\n",
      "Relative bias(%):  2.08\n",
      "RMSE: 1.2\n",
      "Relative RMSE(%):  -1.803\n",
      "MSE: 1.5\n",
      "R square: 17.0%\n"
     ]
    }
   ],
   "source": [
    "# Convert data to 'array' type\n",
    "conv_y_pred = pd.DataFrame(y_pred) # Double transformation\n",
    "y_pred2 = conv_y_pred.values\n",
    "y_test2 = y_test.values\n",
    "\n",
    "# Intermediate results\n",
    "n_sample = len(y_pred2)\n",
    "main_sample = y_test.sum() / n_sample\n",
    "\n",
    "# Calculation of bias\n",
    "diff = y_pred2 - y_test2\n",
    "bias = diff.sum()\n",
    "print('Bias: %.1f' % (bias/n_sample))\n",
    "print(\"Relative bias(%):\", \" %.2f\" % (bias/main_sample))\n",
    "\n",
    "# Calculation of RMSE\n",
    "rmse = np.sqrt(mean_squared_error(y_test, y_pred))\n",
    "print(\"RMSE: %.1f\" % (rmse))\n",
    "print(\"Relative RMSE(%):\", \" %.3f\" % (rmse/main_sample))\n",
    "\n",
    "# Calculation of MSE\n",
    "mse = mean_squared_error(y_test, y_pred)\n",
    "print(\"MSE: %.1f\" % (mse))\n",
    "\n",
    "# Calculation of Square R\n",
    "R_square = r2_score(y_test, y_pred)\n",
    "print(\"R square: %.1f%%\" % (R_square * 100.0))"
   ]
  },
  {
   "cell_type": "code",
   "execution_count": 36,
   "id": "a8f47522-a721-4dcb-93c5-577f4d6d015b",
   "metadata": {},
   "outputs": [],
   "source": [
    "\"\"\"\n",
    "Assessment of linear approximation between observations and \n",
    "predict values and estimation of parameters uncertainties for this regression\n",
    "\"\"\"\n",
    "# Load libraries elements\n",
    "from scipy.optimize import curve_fit   \n",
    "from scipy import stats\n",
    "\n",
    "# pip install uncertainties, if needed\n",
    "try:\n",
    "    import uncertainties.unumpy as unp\n",
    "    import uncertainties as unc\n",
    "except:\n",
    "    try:\n",
    "        from pip import main as pipmain\n",
    "    except:\n",
    "        from pip._internal import main as pipmain\n",
    "    pipmain(['install','uncertainties'])\n",
    "    import uncertainties.unumpy as unp\n",
    "    import uncertainties as unc"
   ]
  },
  {
   "cell_type": "code",
   "execution_count": 38,
   "id": "dfaa0789-8ec7-4dd4-b788-bcde2fdb445a",
   "metadata": {
    "tags": []
   },
   "outputs": [],
   "source": [
    "# Convert input data\n",
    "x_test_conv = np.array(y_test)\n",
    "x_test_convert = np.array([None]*n_sample)\n",
    "for i in range(n_sample):\n",
    "    x_test_convert[i] = float(x_test_conv[i])\n",
    "\n",
    "x_plot = x_test_convert\n",
    "y_plot = y_pred\n",
    "n = len(y_plot)\n",
    "\n",
    "# Function for fitting a linear curve and estimating its parameters\n",
    "def f(x_plot, a0, a1):\n",
    "    return a0 + a1 * x_plot\n",
    "\n",
    "popt, pcov = curve_fit(f, x_plot, y_plot)"
   ]
  },
  {
   "cell_type": "code",
   "execution_count": 40,
   "id": "940f6d5f-ff54-4762-ae72-190ab95cf073",
   "metadata": {},
   "outputs": [
    {
     "name": "stdout",
     "output_type": "stream",
     "text": [
      "Optimal values of regression parameters\n",
      "a0: -0.554\n",
      "a1: 0.210\n",
      "R^2: 0.177\n",
      "Uncertainty\n",
      "a0: -0.55+/-0.09\n",
      "a1: 0.21+/-0.06\n"
     ]
    },
    {
     "data": {
      "image/png": "[encoded data removed]",
      "text/plain": [
       "<Figure size 576x360 with 1 Axes>"
      ]
     },
     "metadata": {
      "needs_background": "light"
     },
     "output_type": "display_data"
    }
   ],
   "source": [
    "# Building linear a graph and calculation uncertainties\n",
    "# retrieve parameter values\n",
    "a0 = popt[0]\n",
    "a1 = popt[1]\n",
    "print('Optimal values of regression parameters')\n",
    "print(f'a0: {a0:.3f}')\n",
    "print(f'a1: {a1:.3f}')\n",
    "\n",
    "# compute r^2\n",
    "r2 = 1.0-(sum((y_plot-f(x_plot, a0, a1)) ** 2)/((n - 1.0)*np.var(y_plot, ddof = 1)))\n",
    "r2 = round(r2, 3)\n",
    "print(f'R^2: {r2:.3f}')\n",
    "\n",
    "# calculate parameter confidence interval\n",
    "a0, a1 = unc.correlated_values(popt, pcov)\n",
    "print('Uncertainty')\n",
    "print('a0: ' + str(a0))\n",
    "print('a1: ' + str(a1))\n",
    "\n",
    "# plot data\n",
    "plt.figure(figsize =(8, 5))\n",
    "plt.scatter(x_plot, y_plot, s = 10, c = 'red', label='Observations', marker = 'o')\n",
    "plt.yscale('linear')\n",
    "\n",
    "# calculate regression confidence interval\n",
    "px = np.linspace(-4, max(x_plot), 100)\n",
    "py = a0 + a1 * px\n",
    "nom = unp.nominal_values(py)\n",
    "std = unp.std_devs(py)\n",
    "\n",
    "# estimation uncertenlies intervals\n",
    "def predband(x_plot, xd, yd, p, func, conf=0.95):\n",
    "    # x_plot = requested points\n",
    "    # xd = x data\n",
    "    # yd = y data\n",
    "    # p = parameters\n",
    "    # func = function name\n",
    "    alpha = 1.0 - conf    # significance\n",
    "    N = xd.size          # data sample size\n",
    "    var_n = len(p)  # number of parameters\n",
    "    # Quantile of Student's t distribution for p=(1-alpha/2)\n",
    "    q = stats.t.ppf(1.0 - alpha / 2.0, N - var_n)\n",
    "    # Stdev of an individual measurement\n",
    "    se = np.sqrt(1. / (N - var_n) * \\\n",
    "                 np.sum((yd - func(xd, *p)) ** 2))\n",
    "    # Auxiliary definitions\n",
    "    sx = (x_plot - xd.mean()) ** 2\n",
    "    sxd = np.sum((xd - xd.mean()) ** 2)\n",
    "    # Predicted values (best-fit model)\n",
    "    yp = func(x_plot, *p)\n",
    "    # Prediction band\n",
    "    dy = q * se * np.sqrt(1.0+ (1.0/N) + (sx/sxd))\n",
    "    # Upper & lower prediction bands.\n",
    "    lpb, upb = yp - dy, yp + dy\n",
    "    return lpb, upb\n",
    "\n",
    "lpb, upb = predband(px, x_plot, y_plot, popt, f, conf=0.95)\n",
    "\n",
    "# plot the regression\n",
    "plt.plot(px, nom, c='black', label='Predicted values = a0 + a1 * Observed values')\n",
    "\n",
    "# uncertainty lines (95% confidence)\n",
    "plt.plot(px, nom - 1.96 * std, c='gray',\\\n",
    "         label='95% Confidence Interval')\n",
    "plt.plot(px, nom + 1.96 * std, c='gray')\n",
    "\n",
    "# prediction band (95% confidence)\n",
    "plt.plot(px, lpb, 'k--',label='95% Prediction Band')\n",
    "plt.plot(px, upb, 'k--')\n",
    "plt.ylabel('Predicted values')\n",
    "plt.xlabel('Observed values')\n",
    "plt.grid(True)\n",
    "plt.legend(loc='best')\n",
    "plt.title('Empiric obs. vs Predict values', fontsize=20, color=\"black\")\n",
    "plt.show()"
   ]
  },
  {
   "cell_type": "markdown",
   "id": "d767b8c7-3e8b-48b0-9e20-2bddf98aff91",
   "metadata": {},
   "source": [
    "# All observations"
   ]
  },
  {
   "cell_type": "code",
   "execution_count": 41,
   "id": "ebb8b67c-cf2e-4d9d-991d-948776c0b2af",
   "metadata": {},
   "outputs": [
    {
     "name": "stderr",
     "output_type": "stream",
     "text": [
      "/home/dima/anaconda3/lib/python3.9/site-packages/xgboost/core.py:90: UserWarning: ntree_limit is deprecated, use `iteration_range` or model slicing instead.\n",
      "  warnings.warn(\n"
     ]
    },
    {
     "data": {
      "text/plain": [
       "<matplotlib.legend.Legend at 0x7ff91ec3ca60>"
      ]
     },
     "execution_count": 41,
     "metadata": {},
     "output_type": "execute_result"
    },
    {
     "data": {
      "image/png": "[encoded data removed]",
      "text/plain": [
       "<Figure size 576x360 with 1 Axes>"
      ]
     },
     "metadata": {
      "needs_background": "light"
     },
     "output_type": "display_data"
    }
   ],
   "source": [
    "# Comparison of training and testing prediction values for XGBoost model \n",
    "y_pred_train = xgb_model.predict(X_train, ntree_limit=xgb_model.best_ntree_limit)\n",
    "\n",
    "plt.figure(figsize =(8, 5))\n",
    "plt.scatter(y_train, y_pred_train, alpha=0.5, label='Training data')\n",
    "plt.scatter(y_test, y_pred, s = 5, c = \"red\", label='Validation (test) data')\n",
    "plt.xlabel('Obs.')\n",
    "plt.ylabel('Predict')\n",
    "plt.grid(True)\n",
    "plt.legend(loc='best')"
   ]
  },
  {
   "cell_type": "markdown",
   "id": "0b0ca0f0-7823-48c7-835c-a3bfb474d71b",
   "metadata": {},
   "source": [
    "# Training sample"
   ]
  },
  {
   "cell_type": "code",
   "execution_count": 42,
   "id": "a0a10488-f26a-4f1d-9910-2cf61623f5be",
   "metadata": {},
   "outputs": [
    {
     "name": "stdout",
     "output_type": "stream",
     "text": [
      "Bias: 0.1\n",
      "Relative bias(%):  -15.10\n",
      "RMSE: 0.7\n",
      "Relative RMSE(%):  -1.048\n",
      "MSE: 0.4\n",
      "R square: 73.1%\n"
     ]
    }
   ],
   "source": [
    "# Convert data to 'array' type\n",
    "conv_y_pred = pd.DataFrame(y_pred_train) # Double transformation\n",
    "y_pred_train2 = conv_y_pred.values\n",
    "y_train2 = y_train.values\n",
    "\n",
    "# Intermediate results\n",
    "n_sample = len(y_pred_train2)\n",
    "main_sample = y_train.sum() / n_sample\n",
    "\n",
    "# Calculation of bias\n",
    "diff = y_pred_train2 - y_train2\n",
    "bias = diff.sum()\n",
    "print('Bias: %.1f' % (bias/n_sample))\n",
    "print(\"Relative bias(%):\", \" %.2f\" % (bias/main_sample))\n",
    "\n",
    "# Calculation of RMSE\n",
    "rmse = np.sqrt(mean_squared_error(y_train, y_pred_train))\n",
    "print(\"RMSE: %.1f\" % (rmse))\n",
    "print(\"Relative RMSE(%):\", \" %.3f\" % (rmse/main_sample))\n",
    "\n",
    "# Calculation of MSE\n",
    "mse = mean_squared_error(y_train, y_pred_train)\n",
    "print(\"MSE: %.1f\" % (mse))\n",
    "\n",
    "# Calculation of Square R\n",
    "R_square = r2_score(y_train, y_pred_train)\n",
    "print(\"R square: %.1f%%\" % (R_square * 100.0))"
   ]
  },
  {
   "cell_type": "code",
   "execution_count": 44,
   "id": "2e279a0b-1157-4e32-a022-09499b4a8a82",
   "metadata": {
    "tags": []
   },
   "outputs": [],
   "source": [
    "# Convert input data\n",
    "x_train_conv = np.array(y_train)\n",
    "x_train_convert = np.array([None]*n_sample)\n",
    "for i in range(n_sample):\n",
    "    x_train_convert[i] = float(x_train_conv[i])\n",
    "\n",
    "x_plot = x_train_convert\n",
    "y_plot = y_pred_train\n",
    "n = len(y_plot)\n",
    "\n",
    "# Function for fitting a linear curve and estimating its parameters\n",
    "def f(x_plot, a0, a1):\n",
    "    return a0 + a1 * x_plot\n",
    "\n",
    "popt, pcov = curve_fit(f, x_plot, y_plot)"
   ]
  },
  {
   "cell_type": "code",
   "execution_count": 46,
   "id": "6564d97a-0b86-44b8-b3d2-910b24022459",
   "metadata": {},
   "outputs": [
    {
     "name": "stdout",
     "output_type": "stream",
     "text": [
      "Optimal values of regression parameters\n",
      "a0: -0.179\n",
      "a1: 0.611\n",
      "R^2: 0.765\n",
      "Uncertainty\n",
      "a0: -0.18+/-0.04\n",
      "a1: 0.611+/-0.028\n"
     ]
    },
    {
     "data": {
      "image/png": "[encoded data removed]",
      "text/plain": [
       "<Figure size 576x360 with 1 Axes>"
      ]
     },
     "metadata": {
      "needs_background": "light"
     },
     "output_type": "display_data"
    }
   ],
   "source": [
    "# Building linear a graph and calculation uncertainties\n",
    "# retrieve parameter values\n",
    "a0 = popt[0]\n",
    "a1 = popt[1]\n",
    "print('Optimal values of regression parameters')\n",
    "print(f'a0: {a0:.3f}')\n",
    "print(f'a1: {a1:.3f}')\n",
    "\n",
    "# compute r^2\n",
    "r2 = 1.0-(sum((y_plot-f(x_plot, a0, a1)) ** 2)/((n - 1.0)*np.var(y_plot, ddof = 1)))\n",
    "r2 = round(r2, 3)\n",
    "print(f'R^2: {r2:.3f}')\n",
    "\n",
    "# calculate parameter confidence interval\n",
    "a0, a1 = unc.correlated_values(popt, pcov)\n",
    "print('Uncertainty')\n",
    "print('a0: ' + str(a0))\n",
    "print('a1: ' + str(a1))\n",
    "\n",
    "# plot data\n",
    "plt.figure(figsize =(8, 5))\n",
    "plt.scatter(x_plot, y_plot, s = 10, c = 'red', label='Observations', marker = 'o')\n",
    "plt.yscale('linear')\n",
    "\n",
    "# calculate regression confidence interval\n",
    "px = np.linspace(-4, max(x_plot), 100)\n",
    "py = a0 + a1 * px\n",
    "nom = unp.nominal_values(py)\n",
    "std = unp.std_devs(py)\n",
    "\n",
    "# estimation uncertenlies intervals\n",
    "def predband(x_plot, xd, yd, p, func, conf=0.95):\n",
    "    # x_plot = requested points\n",
    "    # xd = x data\n",
    "    # yd = y data\n",
    "    # p = parameters\n",
    "    # func = function name\n",
    "    alpha = 1.0 - conf    # significance\n",
    "    N = xd.size          # data sample size\n",
    "    var_n = len(p)  # number of parameters\n",
    "    # Quantile of Student's t distribution for p=(1-alpha/2)\n",
    "    q = stats.t.ppf(1.0 - alpha / 2.0, N - var_n)\n",
    "    # Stdev of an individual measurement\n",
    "    se = np.sqrt(1. / (N - var_n) * \\\n",
    "                 np.sum((yd - func(xd, *p)) ** 2))\n",
    "    # Auxiliary definitions\n",
    "    sx = (x_plot - xd.mean()) ** 2\n",
    "    sxd = np.sum((xd - xd.mean()) ** 2)\n",
    "    # Predicted values (best-fit model)\n",
    "    yp = func(x_plot, *p)\n",
    "    # Prediction band\n",
    "    dy = q * se * np.sqrt(1.0+ (1.0/N) + (sx/sxd))\n",
    "    # Upper & lower prediction bands.\n",
    "    lpb, upb = yp - dy, yp + dy\n",
    "    return lpb, upb\n",
    "\n",
    "lpb, upb = predband(px, x_plot, y_plot, popt, f, conf=0.95)\n",
    "\n",
    "# plot the regression\n",
    "plt.plot(px, nom, c='black', label='Predicted values = a0 + a1 * Observed values')\n",
    "\n",
    "# uncertainty lines (95% confidence)\n",
    "plt.plot(px, nom - 1.96 * std, c='gray',\\\n",
    "         label='95% Confidence Interval')\n",
    "plt.plot(px, nom + 1.96 * std, c='gray')\n",
    "\n",
    "# prediction band (95% confidence)\n",
    "plt.plot(px, lpb, 'k--',label='95% Prediction Band')\n",
    "plt.plot(px, upb, 'k--')\n",
    "plt.ylabel('Predicted values')\n",
    "plt.xlabel('Observed values')\n",
    "plt.grid(True)\n",
    "plt.legend(loc='best')\n",
    "plt.title('Empiric obs. vs Predict values (Training sample)', fontsize=20, color=\"black\")\n",
    "plt.show()"
   ]
  },
  {
   "cell_type": "code",
   "execution_count": 47,
   "id": "featured-bread",
   "metadata": {
    "tags": []
   },
   "outputs": [
    {
     "data": {
      "image/png": "[encoded data removed]",
      "text/plain": [
       "<Figure size 432x288 with 1 Axes>"
      ]
     },
     "metadata": {
      "needs_background": "light"
     },
     "output_type": "display_data"
    }
   ],
   "source": [
    "# Visualize the Decision tree (individual obs.)\n",
    "xgb.plot_tree(xgb_model,num_trees=0) # \"num_trees\" is number of obs.\n",
    "plt.rcParams['figure.figsize'] = [12, 45]\n",
    "plt.show()"
   ]
  },
  {
   "cell_type": "code",
   "execution_count": 49,
   "id": "other-biodiversity",
   "metadata": {},
   "outputs": [
    {
     "data": {
      "image/png": "[encoded data removed]",
      "text/plain": [
       "<Figure size 720x360 with 1 Axes>"
      ]
     },
     "metadata": {
      "needs_background": "light"
     },
     "output_type": "display_data"
    }
   ],
   "source": [
    "# Importance is calculated as: ”weight” is the number of times a feature appears in a trees\n",
    "xgb.plot_importance(xgb_model, importance_type='weight')\n",
    "plt.rcParams['figure.figsize'] = [10, 5]\n",
    "plt.show()"
   ]
  },
  {
   "cell_type": "code",
   "execution_count": 50,
   "id": "unavailable-governor",
   "metadata": {},
   "outputs": [
    {
     "data": {
      "image/png": "[encoded data removed]",
      "text/plain": [
       "<Figure size 720x360 with 1 Axes>"
      ]
     },
     "metadata": {
      "needs_background": "light"
     },
     "output_type": "display_data"
    }
   ],
   "source": [
    "# Importance is calculated as: ”gain” is the average gain of splits which use the feature\n",
    "# Get the booster from the xgbmodel\n",
    "booster = xgb_model.get_booster()\n",
    "\n",
    "# Get the importance dictionary (by gain) from the booster\n",
    "importance = booster.get_score(importance_type=\"gain\")\n",
    "\n",
    "# make your changes\n",
    "for key in importance.keys():\n",
    "    importance[key] = round(importance[key], 1)\n",
    "\n",
    "# provide the importance dictionary to the plotting function\n",
    "ax = xgb.plot_importance(importance, importance_type='gain', show_values=True)"
   ]
  },
  {
   "cell_type": "code",
   "execution_count": 51,
   "id": "conceptual-malta",
   "metadata": {},
   "outputs": [
    {
     "data": {
      "image/png": "[encoded data removed]",
      "text/plain": [
       "<Figure size 720x360 with 1 Axes>"
      ]
     },
     "metadata": {
      "needs_background": "light"
     },
     "output_type": "display_data"
    }
   ],
   "source": [
    "# Importance is calculated as: \"cover” is the average coverage of splits which use the feature where coverage is defined as the number of samples affected by the split\n",
    "# Get the booster from the xgbmodel\n",
    "booster = xgb_model.get_booster()\n",
    "\n",
    "# Get the importance dictionary (by gain) from the booster\n",
    "importance = booster.get_score(importance_type=\"cover\")\n",
    "\n",
    "# make your changes\n",
    "for key in importance.keys():\n",
    "    importance[key] = round(importance[key],1)\n",
    "\n",
    "# provide the importance dictionary to the plotting function\n",
    "ax = xgb.plot_importance(importance, importance_type='cover', show_values=True)"
   ]
  },
  {
   "cell_type": "markdown",
   "id": "717eb0e7-6456-4fda-851c-ac4eed5cf4e5",
   "metadata": {},
   "source": [
    "# SHAP method"
   ]
  },
  {
   "cell_type": "code",
   "execution_count": 52,
   "id": "joined-heritage",
   "metadata": {},
   "outputs": [],
   "source": [
    "# Load SHAP`s library\n",
    "import shap"
   ]
  },
  {
   "cell_type": "code",
   "execution_count": 53,
   "id": "automatic-handy",
   "metadata": {},
   "outputs": [
    {
     "name": "stderr",
     "output_type": "stream",
     "text": [
      "ntree_limit is deprecated, use `iteration_range` or model slicing instead.\n"
     ]
    }
   ],
   "source": [
    "# Сreate an уxplainer object\n",
    "explainer = shap.TreeExplainer(xgb_model)\n",
    "shap_values = explainer.shap_values(X_train)"
   ]
  },
  {
   "cell_type": "code",
   "execution_count": 54,
   "id": "atomic-hearts",
   "metadata": {},
   "outputs": [
    {
     "data": {
      "image/png": "[encoded data removed]",
      "text/plain": [
       "<Figure size 576x338.4 with 1 Axes>"
      ]
     },
     "metadata": {
      "needs_background": "light"
     },
     "output_type": "display_data"
    }
   ],
   "source": [
    "# Mean absolute value of the SHAP values for each feature \n",
    "shap.summary_plot(shap_values, X_train, plot_type=\"bar\")"
   ]
  },
  {
   "cell_type": "code",
   "execution_count": null,
   "id": "sustainable-stress",
   "metadata": {},
   "outputs": [],
   "source": [
    "# Graph that summarises the effects of all the features\n",
    "shap.summary_plot(shap_values, X_train)"
   ]
  },
  {
   "cell_type": "code",
   "execution_count": null,
   "id": "8c47f3da-643b-40f2-ae02-8568f09ea70b",
   "metadata": {},
   "outputs": [],
   "source": [
    "# Create a dependence scatter plot to show the effect of a single feature across the whole dataset\n",
    "for name in X_train.columns:\n",
    "    shap.dependence_plot(name, shap_values, X_train, color=shap_values)"
   ]
  },
  {
   "cell_type": "markdown",
   "id": "fa28a7ea-9ce1-480d-bcda-4aac7774615f",
   "metadata": {
    "tags": []
   },
   "source": [
    "# Save XGBoost model"
   ]
  },
  {
   "cell_type": "code",
   "execution_count": null,
   "id": "25f2bda7-7a79-46ed-a577-8ec3e6e5a466",
   "metadata": {
    "tags": []
   },
   "outputs": [],
   "source": [
    "# Save to JSON\n",
    "xgb_model.save_model(\"/home/dima/Desktop/JupyterLab/GIS and ML algoritms/4_RN_content_in _wood/xgb_model_T_ag_Cs.json\")\n",
    "# Save to text format\n",
    "xgb_model.save_model(\"/home/dima/Desktop/JupyterLab/GIS and ML algoritms/4_RN_content_in _wood/xgb_model_T_ag_Cs.txt\")"
   ]
  },
  {
   "cell_type": "code",
   "execution_count": null,
   "id": "7900566c-1ebb-4f53-95d8-20ff1db92a1b",
   "metadata": {},
   "outputs": [],
   "source": []
  }
 ],
 "metadata": {
  "kernelspec": {
   "display_name": "Python 3 (ipykernel)",
   "language": "python",
   "name": "python3"
  },
  "language_info": {
   "codemirror_mode": {
    "name": "ipython",
    "version": 3
   },
   "file_extension": ".py",
   "mimetype": "text/x-python",
   "name": "python",
   "nbconvert_exporter": "python",
   "pygments_lexer": "ipython3",
   "version": "3.9.12"
  },
  "widgets": {
   "application/vnd.jupyter.widget-state+json": {
    "state": {},
    "version_major": 2,
    "version_minor": 0
   }
  }
 },
 "nbformat": 4,
 "nbformat_minor": 5
}
