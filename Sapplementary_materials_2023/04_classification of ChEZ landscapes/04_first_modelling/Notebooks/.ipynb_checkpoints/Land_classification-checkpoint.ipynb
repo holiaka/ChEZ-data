{
 "cells": [
  {
   "cell_type": "code",
   "execution_count": 2,
   "id": "a50e808b-1399-4931-bbfc-83abe954350a",
   "metadata": {},
   "outputs": [
    {
     "name": "stdout",
     "output_type": "stream",
     "text": [
      "Requirement already satisfied: earthpy in /home/dima/anaconda3/lib/python3.8/site-packages (0.9.4)\n",
      "Requirement already satisfied: scikit-image in /home/dima/anaconda3/lib/python3.8/site-packages (from earthpy) (0.17.2)\n",
      "Requirement already satisfied: matplotlib>=2.0.0 in /home/dima/anaconda3/lib/python3.8/site-packages (from earthpy) (3.3.4)\n",
      "Requirement already satisfied: rasterio in /home/dima/anaconda3/lib/python3.8/site-packages (from earthpy) (1.2.10)\n",
      "Requirement already satisfied: requests in /home/dima/anaconda3/lib/python3.8/site-packages (from earthpy) (2.25.1)\n",
      "Requirement already satisfied: geopandas in /home/dima/anaconda3/lib/python3.8/site-packages (from earthpy) (0.10.2)\n",
      "Requirement already satisfied: numpy>=1.14.0 in /home/dima/anaconda3/lib/python3.8/site-packages (from earthpy) (1.19.2)\n",
      "Requirement already satisfied: kiwisolver>=1.0.1 in /home/dima/anaconda3/lib/python3.8/site-packages (from matplotlib>=2.0.0->earthpy) (1.3.1)\n",
      "Requirement already satisfied: python-dateutil>=2.1 in /home/dima/anaconda3/lib/python3.8/site-packages (from matplotlib>=2.0.0->earthpy) (2.8.1)\n",
      "Requirement already satisfied: cycler>=0.10 in /home/dima/anaconda3/lib/python3.8/site-packages (from matplotlib>=2.0.0->earthpy) (0.10.0)\n",
      "Requirement already satisfied: pyparsing!=2.0.4,!=2.1.2,!=2.1.6,>=2.0.3 in /home/dima/anaconda3/lib/python3.8/site-packages (from matplotlib>=2.0.0->earthpy) (2.4.7)\n",
      "Requirement already satisfied: pillow>=6.2.0 in /home/dima/anaconda3/lib/python3.8/site-packages (from matplotlib>=2.0.0->earthpy) (8.1.2)\n",
      "Requirement already satisfied: six in /home/dima/anaconda3/lib/python3.8/site-packages (from cycler>=0.10->matplotlib>=2.0.0->earthpy) (1.15.0)\n",
      "Requirement already satisfied: shapely>=1.6 in /home/dima/anaconda3/lib/python3.8/site-packages (from geopandas->earthpy) (1.8.1.post1)\n",
      "Requirement already satisfied: pandas>=0.25.0 in /home/dima/anaconda3/lib/python3.8/site-packages (from geopandas->earthpy) (1.2.3)\n",
      "Requirement already satisfied: pyproj>=2.2.0 in /home/dima/anaconda3/lib/python3.8/site-packages (from geopandas->earthpy) (3.3.1)\n",
      "Requirement already satisfied: fiona>=1.8 in /home/dima/anaconda3/lib/python3.8/site-packages (from geopandas->earthpy) (1.8.21)\n",
      "Requirement already satisfied: munch in /home/dima/anaconda3/lib/python3.8/site-packages (from fiona>=1.8->geopandas->earthpy) (2.5.0)\n",
      "Requirement already satisfied: certifi in /home/dima/anaconda3/lib/python3.8/site-packages (from fiona>=1.8->geopandas->earthpy) (2021.10.8)\n",
      "Requirement already satisfied: cligj>=0.5 in /home/dima/anaconda3/lib/python3.8/site-packages (from fiona>=1.8->geopandas->earthpy) (0.7.2)\n",
      "Requirement already satisfied: attrs>=17 in /home/dima/anaconda3/lib/python3.8/site-packages (from fiona>=1.8->geopandas->earthpy) (20.3.0)\n",
      "Requirement already satisfied: click-plugins>=1.0 in /home/dima/anaconda3/lib/python3.8/site-packages (from fiona>=1.8->geopandas->earthpy) (1.1.1)\n",
      "Requirement already satisfied: setuptools in /home/dima/anaconda3/lib/python3.8/site-packages (from fiona>=1.8->geopandas->earthpy) (52.0.0.post20210125)\n",
      "Requirement already satisfied: click>=4.0 in /home/dima/anaconda3/lib/python3.8/site-packages (from fiona>=1.8->geopandas->earthpy) (7.1.2)\n",
      "Requirement already satisfied: pytz>=2017.3 in /home/dima/anaconda3/lib/python3.8/site-packages (from pandas>=0.25.0->geopandas->earthpy) (2021.1)\n",
      "Requirement already satisfied: affine in /home/dima/anaconda3/lib/python3.8/site-packages (from rasterio->earthpy) (2.3.1)\n",
      "Requirement already satisfied: snuggs>=1.4.1 in /home/dima/anaconda3/lib/python3.8/site-packages (from rasterio->earthpy) (1.4.7)\n",
      "Requirement already satisfied: urllib3<1.27,>=1.21.1 in /home/dima/anaconda3/lib/python3.8/site-packages (from requests->earthpy) (1.26.4)\n",
      "Requirement already satisfied: chardet<5,>=3.0.2 in /home/dima/anaconda3/lib/python3.8/site-packages (from requests->earthpy) (4.0.0)\n",
      "Requirement already satisfied: idna<3,>=2.5 in /home/dima/anaconda3/lib/python3.8/site-packages (from requests->earthpy) (2.10)\n",
      "Requirement already satisfied: scipy>=1.0.1 in /home/dima/anaconda3/lib/python3.8/site-packages (from scikit-image->earthpy) (1.6.2)\n",
      "Requirement already satisfied: networkx>=2.0 in /home/dima/anaconda3/lib/python3.8/site-packages (from scikit-image->earthpy) (2.5)\n",
      "Requirement already satisfied: imageio>=2.3.0 in /home/dima/anaconda3/lib/python3.8/site-packages (from scikit-image->earthpy) (2.9.0)\n",
      "Requirement already satisfied: tifffile>=2019.7.26 in /home/dima/anaconda3/lib/python3.8/site-packages (from scikit-image->earthpy) (2020.10.1)\n",
      "Requirement already satisfied: PyWavelets>=1.1.1 in /home/dima/anaconda3/lib/python3.8/site-packages (from scikit-image->earthpy) (1.1.1)\n",
      "Requirement already satisfied: decorator>=4.3.0 in /home/dima/anaconda3/lib/python3.8/site-packages (from networkx>=2.0->scikit-image->earthpy) (4.4.2)\n",
      "Note: you may need to restart the kernel to use updated packages.\n"
     ]
    }
   ],
   "source": [
    "pip install earthpy"
   ]
  },
  {
   "cell_type": "code",
   "execution_count": 1,
   "id": "87e9f0f9",
   "metadata": {
    "tags": []
   },
   "outputs": [
    {
     "ename": "AttributeError",
     "evalue": "/home/dima/anaconda3/bin/python: undefined symbol: Error_GetLastErrorNum",
     "output_type": "error",
     "traceback": [
      "\u001b[0;31m---------------------------------------------------------------------------\u001b[0m",
      "\u001b[0;31mAttributeError\u001b[0m                            Traceback (most recent call last)",
      "\u001b[0;32m<ipython-input-1-5b7a2d7f8df8>\u001b[0m in \u001b[0;36m<module>\u001b[0;34m\u001b[0m\n\u001b[1;32m      3\u001b[0m \u001b[0;34m\u001b[0m\u001b[0m\n\u001b[1;32m      4\u001b[0m \u001b[0;32mimport\u001b[0m \u001b[0mearthpy\u001b[0m \u001b[0;32mas\u001b[0m \u001b[0met\u001b[0m\u001b[0;34m\u001b[0m\u001b[0;34m\u001b[0m\u001b[0m\n\u001b[0;32m----> 5\u001b[0;31m \u001b[0;32mimport\u001b[0m \u001b[0mearthpy\u001b[0m\u001b[0;34m.\u001b[0m\u001b[0mspatial\u001b[0m \u001b[0;32mas\u001b[0m \u001b[0mes\u001b[0m\u001b[0;34m\u001b[0m\u001b[0;34m\u001b[0m\u001b[0m\n\u001b[0m\u001b[1;32m      6\u001b[0m \u001b[0;32mimport\u001b[0m \u001b[0mearthpy\u001b[0m\u001b[0;34m.\u001b[0m\u001b[0mplot\u001b[0m \u001b[0;32mas\u001b[0m \u001b[0mep\u001b[0m\u001b[0;34m\u001b[0m\u001b[0;34m\u001b[0m\u001b[0m\n\u001b[1;32m      7\u001b[0m \u001b[0;34m\u001b[0m\u001b[0m\n",
      "\u001b[0;32m~/anaconda3/lib/python3.8/site-packages/earthpy/spatial.py\u001b[0m in \u001b[0;36m<module>\u001b[0;34m\u001b[0m\n\u001b[1;32m     13\u001b[0m \u001b[0;32mimport\u001b[0m \u001b[0mnumpy\u001b[0m \u001b[0;32mas\u001b[0m \u001b[0mnp\u001b[0m\u001b[0;34m\u001b[0m\u001b[0;34m\u001b[0m\u001b[0m\n\u001b[1;32m     14\u001b[0m \u001b[0;32mfrom\u001b[0m \u001b[0mshapely\u001b[0m\u001b[0;34m.\u001b[0m\u001b[0mgeometry\u001b[0m \u001b[0;32mimport\u001b[0m \u001b[0mmapping\u001b[0m\u001b[0;34m,\u001b[0m \u001b[0mbox\u001b[0m\u001b[0;34m\u001b[0m\u001b[0;34m\u001b[0m\u001b[0m\n\u001b[0;32m---> 15\u001b[0;31m \u001b[0;32mimport\u001b[0m \u001b[0mgeopandas\u001b[0m \u001b[0;32mas\u001b[0m \u001b[0mgpd\u001b[0m\u001b[0;34m\u001b[0m\u001b[0;34m\u001b[0m\u001b[0m\n\u001b[0m\u001b[1;32m     16\u001b[0m \u001b[0;32mimport\u001b[0m \u001b[0mrasterio\u001b[0m \u001b[0;32mas\u001b[0m \u001b[0mrio\u001b[0m\u001b[0;34m\u001b[0m\u001b[0;34m\u001b[0m\u001b[0m\n\u001b[1;32m     17\u001b[0m \u001b[0;32mfrom\u001b[0m \u001b[0mrasterio\u001b[0m\u001b[0;34m.\u001b[0m\u001b[0mmask\u001b[0m \u001b[0;32mimport\u001b[0m \u001b[0mmask\u001b[0m\u001b[0;34m\u001b[0m\u001b[0;34m\u001b[0m\u001b[0m\n",
      "\u001b[0;32m~/anaconda3/lib/python3.8/site-packages/geopandas/__init__.py\u001b[0m in \u001b[0;36m<module>\u001b[0;34m\u001b[0m\n\u001b[0;32m----> 1\u001b[0;31m \u001b[0;32mfrom\u001b[0m \u001b[0mgeopandas\u001b[0m\u001b[0;34m.\u001b[0m\u001b[0m_config\u001b[0m \u001b[0;32mimport\u001b[0m \u001b[0moptions\u001b[0m  \u001b[0;31m# noqa\u001b[0m\u001b[0;34m\u001b[0m\u001b[0;34m\u001b[0m\u001b[0m\n\u001b[0m\u001b[1;32m      2\u001b[0m \u001b[0;34m\u001b[0m\u001b[0m\n\u001b[1;32m      3\u001b[0m \u001b[0;32mfrom\u001b[0m \u001b[0mgeopandas\u001b[0m\u001b[0;34m.\u001b[0m\u001b[0mgeoseries\u001b[0m \u001b[0;32mimport\u001b[0m \u001b[0mGeoSeries\u001b[0m  \u001b[0;31m# noqa\u001b[0m\u001b[0;34m\u001b[0m\u001b[0;34m\u001b[0m\u001b[0m\n\u001b[1;32m      4\u001b[0m \u001b[0;32mfrom\u001b[0m \u001b[0mgeopandas\u001b[0m\u001b[0;34m.\u001b[0m\u001b[0mgeodataframe\u001b[0m \u001b[0;32mimport\u001b[0m \u001b[0mGeoDataFrame\u001b[0m  \u001b[0;31m# noqa\u001b[0m\u001b[0;34m\u001b[0m\u001b[0;34m\u001b[0m\u001b[0m\n\u001b[1;32m      5\u001b[0m \u001b[0;32mfrom\u001b[0m \u001b[0mgeopandas\u001b[0m\u001b[0;34m.\u001b[0m\u001b[0marray\u001b[0m \u001b[0;32mimport\u001b[0m \u001b[0mpoints_from_xy\u001b[0m  \u001b[0;31m# noqa\u001b[0m\u001b[0;34m\u001b[0m\u001b[0;34m\u001b[0m\u001b[0m\n",
      "\u001b[0;32m~/anaconda3/lib/python3.8/site-packages/geopandas/_config.py\u001b[0m in \u001b[0;36m<module>\u001b[0;34m\u001b[0m\n\u001b[1;32m    107\u001b[0m use_pygeos = Option(\n\u001b[1;32m    108\u001b[0m     \u001b[0mkey\u001b[0m\u001b[0;34m=\u001b[0m\u001b[0;34m\"use_pygeos\"\u001b[0m\u001b[0;34m,\u001b[0m\u001b[0;34m\u001b[0m\u001b[0;34m\u001b[0m\u001b[0m\n\u001b[0;32m--> 109\u001b[0;31m     \u001b[0mdefault_value\u001b[0m\u001b[0;34m=\u001b[0m\u001b[0m_default_use_pygeos\u001b[0m\u001b[0;34m(\u001b[0m\u001b[0;34m)\u001b[0m\u001b[0;34m,\u001b[0m\u001b[0;34m\u001b[0m\u001b[0;34m\u001b[0m\u001b[0m\n\u001b[0m\u001b[1;32m    110\u001b[0m     doc=(\n\u001b[1;32m    111\u001b[0m         \u001b[0;34m\"Whether to use PyGEOS to speed up spatial operations. The default is True \"\u001b[0m\u001b[0;34m\u001b[0m\u001b[0;34m\u001b[0m\u001b[0m\n",
      "\u001b[0;32m~/anaconda3/lib/python3.8/site-packages/geopandas/_config.py\u001b[0m in \u001b[0;36m_default_use_pygeos\u001b[0;34m()\u001b[0m\n\u001b[1;32m     93\u001b[0m \u001b[0;34m\u001b[0m\u001b[0m\n\u001b[1;32m     94\u001b[0m \u001b[0;32mdef\u001b[0m \u001b[0m_default_use_pygeos\u001b[0m\u001b[0;34m(\u001b[0m\u001b[0;34m)\u001b[0m\u001b[0;34m:\u001b[0m\u001b[0;34m\u001b[0m\u001b[0;34m\u001b[0m\u001b[0m\n\u001b[0;32m---> 95\u001b[0;31m     \u001b[0;32mimport\u001b[0m \u001b[0mgeopandas\u001b[0m\u001b[0;34m.\u001b[0m\u001b[0m_compat\u001b[0m \u001b[0;32mas\u001b[0m \u001b[0mcompat\u001b[0m\u001b[0;34m\u001b[0m\u001b[0;34m\u001b[0m\u001b[0m\n\u001b[0m\u001b[1;32m     96\u001b[0m \u001b[0;34m\u001b[0m\u001b[0m\n\u001b[1;32m     97\u001b[0m     \u001b[0;32mreturn\u001b[0m \u001b[0mcompat\u001b[0m\u001b[0;34m.\u001b[0m\u001b[0mUSE_PYGEOS\u001b[0m\u001b[0;34m\u001b[0m\u001b[0;34m\u001b[0m\u001b[0m\n",
      "\u001b[0;32m~/anaconda3/lib/python3.8/site-packages/geopandas/_compat.py\u001b[0m in \u001b[0;36m<module>\u001b[0;34m\u001b[0m\n\u001b[1;32m    215\u001b[0m \u001b[0mRTREE_GE_094\u001b[0m \u001b[0;34m=\u001b[0m \u001b[0;32mFalse\u001b[0m\u001b[0;34m\u001b[0m\u001b[0;34m\u001b[0m\u001b[0m\n\u001b[1;32m    216\u001b[0m \u001b[0;32mtry\u001b[0m\u001b[0;34m:\u001b[0m\u001b[0;34m\u001b[0m\u001b[0;34m\u001b[0m\u001b[0m\n\u001b[0;32m--> 217\u001b[0;31m     \u001b[0;32mimport\u001b[0m \u001b[0mrtree\u001b[0m  \u001b[0;31m# noqa\u001b[0m\u001b[0;34m\u001b[0m\u001b[0;34m\u001b[0m\u001b[0m\n\u001b[0m\u001b[1;32m    218\u001b[0m \u001b[0;34m\u001b[0m\u001b[0m\n\u001b[1;32m    219\u001b[0m     \u001b[0mHAS_RTREE\u001b[0m \u001b[0;34m=\u001b[0m \u001b[0;32mTrue\u001b[0m\u001b[0;34m\u001b[0m\u001b[0;34m\u001b[0m\u001b[0m\n",
      "\u001b[0;32m~/anaconda3/lib/python3.8/site-packages/rtree/__init__.py\u001b[0m in \u001b[0;36m<module>\u001b[0;34m\u001b[0m\n\u001b[0;32m----> 1\u001b[0;31m \u001b[0;32mfrom\u001b[0m \u001b[0;34m.\u001b[0m\u001b[0mindex\u001b[0m \u001b[0;32mimport\u001b[0m \u001b[0mRtree\u001b[0m\u001b[0;34m\u001b[0m\u001b[0;34m\u001b[0m\u001b[0m\n\u001b[0m\u001b[1;32m      2\u001b[0m \u001b[0;34m\u001b[0m\u001b[0m\n\u001b[1;32m      3\u001b[0m \u001b[0;32mfrom\u001b[0m \u001b[0;34m.\u001b[0m\u001b[0mcore\u001b[0m \u001b[0;32mimport\u001b[0m \u001b[0mrt\u001b[0m\u001b[0;34m\u001b[0m\u001b[0;34m\u001b[0m\u001b[0m\n\u001b[1;32m      4\u001b[0m \u001b[0;34m\u001b[0m\u001b[0m\n\u001b[1;32m      5\u001b[0m \u001b[0m__version__\u001b[0m \u001b[0;34m=\u001b[0m \u001b[0;34m'0.9.4'\u001b[0m\u001b[0;34m\u001b[0m\u001b[0;34m\u001b[0m\u001b[0m\n",
      "\u001b[0;32m~/anaconda3/lib/python3.8/site-packages/rtree/index.py\u001b[0m in \u001b[0;36m<module>\u001b[0;34m\u001b[0m\n\u001b[1;32m      4\u001b[0m \u001b[0;32mimport\u001b[0m \u001b[0mpprint\u001b[0m\u001b[0;34m\u001b[0m\u001b[0;34m\u001b[0m\u001b[0m\n\u001b[1;32m      5\u001b[0m \u001b[0;34m\u001b[0m\u001b[0m\n\u001b[0;32m----> 6\u001b[0;31m \u001b[0;32mfrom\u001b[0m \u001b[0;34m.\u001b[0m \u001b[0;32mimport\u001b[0m \u001b[0mcore\u001b[0m\u001b[0;34m\u001b[0m\u001b[0;34m\u001b[0m\u001b[0m\n\u001b[0m\u001b[1;32m      7\u001b[0m \u001b[0;34m\u001b[0m\u001b[0m\n\u001b[1;32m      8\u001b[0m \u001b[0;32mimport\u001b[0m \u001b[0mpickle\u001b[0m\u001b[0;34m\u001b[0m\u001b[0;34m\u001b[0m\u001b[0m\n",
      "\u001b[0;32m~/anaconda3/lib/python3.8/site-packages/rtree/core.py\u001b[0m in \u001b[0;36m<module>\u001b[0;34m\u001b[0m\n\u001b[1;32m    141\u001b[0m     \u001b[0;32mraise\u001b[0m \u001b[0mRTreeError\u001b[0m\u001b[0;34m(\u001b[0m\u001b[0;34m'Unsupported OS \"%s\"'\u001b[0m \u001b[0;34m%\u001b[0m \u001b[0mos\u001b[0m\u001b[0;34m.\u001b[0m\u001b[0mname\u001b[0m\u001b[0;34m)\u001b[0m\u001b[0;34m\u001b[0m\u001b[0;34m\u001b[0m\u001b[0m\n\u001b[1;32m    142\u001b[0m \u001b[0;34m\u001b[0m\u001b[0m\n\u001b[0;32m--> 143\u001b[0;31m \u001b[0mrt\u001b[0m\u001b[0;34m.\u001b[0m\u001b[0mError_GetLastErrorNum\u001b[0m\u001b[0;34m.\u001b[0m\u001b[0mrestype\u001b[0m \u001b[0;34m=\u001b[0m \u001b[0mctypes\u001b[0m\u001b[0;34m.\u001b[0m\u001b[0mc_int\u001b[0m\u001b[0;34m\u001b[0m\u001b[0;34m\u001b[0m\u001b[0m\n\u001b[0m\u001b[1;32m    144\u001b[0m \u001b[0;34m\u001b[0m\u001b[0m\n\u001b[1;32m    145\u001b[0m \u001b[0mrt\u001b[0m\u001b[0;34m.\u001b[0m\u001b[0mError_GetLastErrorMsg\u001b[0m\u001b[0;34m.\u001b[0m\u001b[0margtypes\u001b[0m \u001b[0;34m=\u001b[0m \u001b[0;34m[\u001b[0m\u001b[0;34m]\u001b[0m\u001b[0;34m\u001b[0m\u001b[0;34m\u001b[0m\u001b[0m\n",
      "\u001b[0;32m~/anaconda3/lib/python3.8/ctypes/__init__.py\u001b[0m in \u001b[0;36m__getattr__\u001b[0;34m(self, name)\u001b[0m\n\u001b[1;32m    392\u001b[0m         \u001b[0;32mif\u001b[0m \u001b[0mname\u001b[0m\u001b[0;34m.\u001b[0m\u001b[0mstartswith\u001b[0m\u001b[0;34m(\u001b[0m\u001b[0;34m'__'\u001b[0m\u001b[0;34m)\u001b[0m \u001b[0;32mand\u001b[0m \u001b[0mname\u001b[0m\u001b[0;34m.\u001b[0m\u001b[0mendswith\u001b[0m\u001b[0;34m(\u001b[0m\u001b[0;34m'__'\u001b[0m\u001b[0;34m)\u001b[0m\u001b[0;34m:\u001b[0m\u001b[0;34m\u001b[0m\u001b[0;34m\u001b[0m\u001b[0m\n\u001b[1;32m    393\u001b[0m             \u001b[0;32mraise\u001b[0m \u001b[0mAttributeError\u001b[0m\u001b[0;34m(\u001b[0m\u001b[0mname\u001b[0m\u001b[0;34m)\u001b[0m\u001b[0;34m\u001b[0m\u001b[0;34m\u001b[0m\u001b[0m\n\u001b[0;32m--> 394\u001b[0;31m         \u001b[0mfunc\u001b[0m \u001b[0;34m=\u001b[0m \u001b[0mself\u001b[0m\u001b[0;34m.\u001b[0m\u001b[0m__getitem__\u001b[0m\u001b[0;34m(\u001b[0m\u001b[0mname\u001b[0m\u001b[0;34m)\u001b[0m\u001b[0;34m\u001b[0m\u001b[0;34m\u001b[0m\u001b[0m\n\u001b[0m\u001b[1;32m    395\u001b[0m         \u001b[0msetattr\u001b[0m\u001b[0;34m(\u001b[0m\u001b[0mself\u001b[0m\u001b[0;34m,\u001b[0m \u001b[0mname\u001b[0m\u001b[0;34m,\u001b[0m \u001b[0mfunc\u001b[0m\u001b[0;34m)\u001b[0m\u001b[0;34m\u001b[0m\u001b[0;34m\u001b[0m\u001b[0m\n\u001b[1;32m    396\u001b[0m         \u001b[0;32mreturn\u001b[0m \u001b[0mfunc\u001b[0m\u001b[0;34m\u001b[0m\u001b[0;34m\u001b[0m\u001b[0m\n",
      "\u001b[0;32m~/anaconda3/lib/python3.8/ctypes/__init__.py\u001b[0m in \u001b[0;36m__getitem__\u001b[0;34m(self, name_or_ordinal)\u001b[0m\n\u001b[1;32m    397\u001b[0m \u001b[0;34m\u001b[0m\u001b[0m\n\u001b[1;32m    398\u001b[0m     \u001b[0;32mdef\u001b[0m \u001b[0m__getitem__\u001b[0m\u001b[0;34m(\u001b[0m\u001b[0mself\u001b[0m\u001b[0;34m,\u001b[0m \u001b[0mname_or_ordinal\u001b[0m\u001b[0;34m)\u001b[0m\u001b[0;34m:\u001b[0m\u001b[0;34m\u001b[0m\u001b[0;34m\u001b[0m\u001b[0m\n\u001b[0;32m--> 399\u001b[0;31m         \u001b[0mfunc\u001b[0m \u001b[0;34m=\u001b[0m \u001b[0mself\u001b[0m\u001b[0;34m.\u001b[0m\u001b[0m_FuncPtr\u001b[0m\u001b[0;34m(\u001b[0m\u001b[0;34m(\u001b[0m\u001b[0mname_or_ordinal\u001b[0m\u001b[0;34m,\u001b[0m \u001b[0mself\u001b[0m\u001b[0;34m)\u001b[0m\u001b[0;34m)\u001b[0m\u001b[0;34m\u001b[0m\u001b[0;34m\u001b[0m\u001b[0m\n\u001b[0m\u001b[1;32m    400\u001b[0m         \u001b[0;32mif\u001b[0m \u001b[0;32mnot\u001b[0m \u001b[0misinstance\u001b[0m\u001b[0;34m(\u001b[0m\u001b[0mname_or_ordinal\u001b[0m\u001b[0;34m,\u001b[0m \u001b[0mint\u001b[0m\u001b[0;34m)\u001b[0m\u001b[0;34m:\u001b[0m\u001b[0;34m\u001b[0m\u001b[0;34m\u001b[0m\u001b[0m\n\u001b[1;32m    401\u001b[0m             \u001b[0mfunc\u001b[0m\u001b[0;34m.\u001b[0m\u001b[0m__name__\u001b[0m \u001b[0;34m=\u001b[0m \u001b[0mname_or_ordinal\u001b[0m\u001b[0;34m\u001b[0m\u001b[0;34m\u001b[0m\u001b[0m\n",
      "\u001b[0;31mAttributeError\u001b[0m: /home/dima/anaconda3/bin/python: undefined symbol: Error_GetLastErrorNum"
     ]
    }
   ],
   "source": [
    "# Import modules\n",
    "from glob import glob\n",
    "\n",
    "import earthpy as et\n",
    "import earthpy.spatial as es\n",
    "import earthpy.plot as ep\n",
    "\n",
    "import rasterio as rio\n",
    "from rasterio.plot import plotting_extent\n",
    "from rasterio.plot import show\n",
    "from rasterio.plot import reshape_as_raster, reshape_as_image\n",
    "\n",
    "import geopandas as gpd\n",
    "\n",
    "import matplotlib.pyplot as plt\n",
    "import numpy as np\n",
    "from matplotlib.colors import ListedColormap\n",
    "\n",
    "from sklearn.metrics import classification_report, accuracy_score\n",
    "\n",
    "import plotly.graph_objects as go\n",
    "\n",
    "np.seterr(divide='ignore', invalid='ignore')"
   ]
  },
  {
   "cell_type": "code",
   "execution_count": null,
   "id": "60e88c1c",
   "metadata": {
    "scrolled": true
   },
   "outputs": [],
   "source": [
    "# \n",
    "\n",
    "import geopandas as gpd\n",
    "\n",
    "pointData = gpd.read_file('/home/dima/Desktop/JupyterLab/GIS and ML algoritms/3_Classification_Sentinel_satelites/Work vectors/Traning_sample_with_data.shp')\n",
    "print(pointData.crs)"
   ]
  },
  {
   "cell_type": "code",
   "execution_count": null,
   "id": "3abdc807",
   "metadata": {},
   "outputs": [],
   "source": [
    "fig, ax = plt.subplots(1, 1, figsize=(15, 15))\n",
    "pointData.plot(ax=ax)"
   ]
  },
  {
   "cell_type": "code",
   "execution_count": null,
   "id": "f8b1e5a6",
   "metadata": {
    "scrolled": true
   },
   "outputs": [],
   "source": [
    "pointData.head()"
   ]
  },
  {
   "cell_type": "code",
   "execution_count": null,
   "id": "fecf6c6e",
   "metadata": {},
   "outputs": [],
   "source": [
    "len(pointData['ID_land_19'].value_counts())"
   ]
  },
  {
   "cell_type": "code",
   "execution_count": null,
   "id": "2ba9096c",
   "metadata": {},
   "outputs": [],
   "source": [
    "fig, ax = plt.subplots(1, 1, figsize=(15, 15))\n",
    "pointData.plot(ax=ax, column='r2019[B07]', legend=True, cmap='viridis')"
   ]
  },
  {
   "cell_type": "code",
   "execution_count": null,
   "id": "946edf45",
   "metadata": {},
   "outputs": [],
   "source": [
    "# Load input data witn values from Sentinel 1-2 satelite raster bands and vegetation index for form training sample\n",
    "\n",
    "'''\n",
    "    ***Sentinel 2B***\n",
    "Include: B01 is blue (442 nm), B02 is green (560 nm), B03 is red (665 nm), B04 is NIR (833 nm), B05 is SWIR1 (1610 nm),\n",
    "B06 is SWIR2 (2200 nm), B07 is NDVI, B08 is NDWI, \n",
    "'''\n",
    "\n",
    "X = pd.DataFrame(pointData, columns= ['r2019[B01]', 'r2019[B02]', 'r2019[B03]', 'r2019[B04]', 'r2019[B05]', 'r2019[B06]', 'r2019[B07]', \n",
    "              'r2019[B08]', 'r2019[B09]', 'r2019[B10]', 'r2019[B11]', 'r2019[B12]'])\n",
    "\n",
    "y = pd.DataFrame(select, columns= ['ID_class'])"
   ]
  },
  {
   "cell_type": "code",
   "execution_count": null,
   "id": "be1f4d0f",
   "metadata": {},
   "outputs": [],
   "source": []
  },
  {
   "cell_type": "code",
   "execution_count": null,
   "id": "604aa852",
   "metadata": {
    "scrolled": true
   },
   "outputs": [],
   "source": [
    "%cd /home/dmytrii/Desktop/ChEZ_project_2021/Sentinel_Bands/"
   ]
  },
  {
   "cell_type": "code",
   "execution_count": null,
   "id": "851542ee",
   "metadata": {},
   "outputs": [],
   "source": [
    "# Read Data\n",
    "S_sentinel_bands = glob('/home/dmytrii/Desktop/ChEZ_project_2021/Sentinel_Bands/2019/*r_20190824_B?*')\n",
    "S_sentinel_bands.sort()\n",
    "S_sentinel_bands"
   ]
  },
  {
   "cell_type": "code",
   "execution_count": null,
   "id": "1bf2b18d",
   "metadata": {},
   "outputs": [],
   "source": [
    "l = []\n",
    "for i in S_sentinel_bands:\n",
    "  with rio.open(i, 'r') as f:\n",
    "    l.append(f.read(1))"
   ]
  },
  {
   "cell_type": "code",
   "execution_count": null,
   "id": "984961d3",
   "metadata": {},
   "outputs": [],
   "source": [
    "arr_st = np.stack(l)"
   ]
  },
  {
   "cell_type": "code",
   "execution_count": null,
   "id": "68ca443d",
   "metadata": {},
   "outputs": [],
   "source": [
    "print(f'Height: {arr_st.shape[1]}\\nWidth: {arr_st.shape[2]}\\nBands: {arr_st.shape[0]}')"
   ]
  },
  {
   "cell_type": "code",
   "execution_count": null,
   "id": "bd0132b8",
   "metadata": {},
   "outputs": [],
   "source": [
    "# Bands\n",
    "ep.plot_bands(arr_st, cmap = 'gist_earth', figsize = (20, 10), cols = 4, cbar = False)\n",
    "plt.show()"
   ]
  },
  {
   "cell_type": "code",
   "execution_count": null,
   "id": "2acf173a",
   "metadata": {},
   "outputs": [],
   "source": [
    "# RGB Composite Image\n",
    "rgb = ep.plot_rgb(arr_st, \n",
    "                  rgb=(3,2,1), \n",
    "                  figsize=(20, 30), \n",
    "                  # title='RGB Composite Image'\n",
    "                  )\n",
    "\n",
    "plt.show()"
   ]
  },
  {
   "cell_type": "code",
   "execution_count": null,
   "id": "323c9202",
   "metadata": {},
   "outputs": [],
   "source": [
    "ep.plot_rgb(\n",
    "    arr_st,\n",
    "    rgb=(3, 2, 1),\n",
    "    stretch=True,\n",
    "    str_clip=0.2,\n",
    "    figsize=(20, 30),\n",
    "    # title=\"RGB Composite Image with Stretch Applied\",\n",
    ")\n",
    "\n",
    "plt.show()"
   ]
  },
  {
   "cell_type": "code",
   "execution_count": null,
   "id": "76645d00",
   "metadata": {
    "scrolled": true
   },
   "outputs": [],
   "source": [
    "# Data Distribution of Bands\n",
    "colors = ['tomato', 'navy', 'MediumSpringGreen', 'lightblue', 'orange', 'blue',\n",
    "          'maroon', 'purple', 'yellow', 'olive', 'brown', 'cyan']\n",
    "\n",
    "ep.hist(arr_st, \n",
    "         colors = colors,\n",
    "        title=[f'Band-{i}' for i in range(1, 13)], \n",
    "        cols=3, \n",
    "        alpha=0.5, \n",
    "        figsize = (12, 10)\n",
    "        )\n",
    "\n",
    "plt.show()"
   ]
  },
  {
   "cell_type": "code",
   "execution_count": null,
   "id": "5e1e2aa7",
   "metadata": {},
   "outputs": [],
   "source": [
    "arr_st2 = arr_st[training_data > 0] # \n",
    "training_data = training_data[training_data > 0]"
   ]
  },
  {
   "cell_type": "code",
   "execution_count": null,
   "id": "2010f3ea",
   "metadata": {},
   "outputs": [],
   "source": [
    "# Preprocessing\n",
    "x = np.moveaxis(arr_st, 0, -1)\n",
    "x.shape"
   ]
  },
  {
   "cell_type": "code",
   "execution_count": null,
   "id": "455e03bd",
   "metadata": {},
   "outputs": [],
   "source": [
    "from sklearn.preprocessing import StandardScaler\n",
    "\n",
    "X_data = x.reshape(-1, 12)\n",
    "\n",
    "scaler = StandardScaler().fit(X_data)\n",
    "\n",
    "X_scaled = scaler.transform(X_data)\n",
    "\n",
    "X_scaled.shape"
   ]
  },
  {
   "cell_type": "code",
   "execution_count": null,
   "id": "452ff03d",
   "metadata": {},
   "outputs": [],
   "source": [
    "X_scaled"
   ]
  },
  {
   "cell_type": "code",
   "execution_count": null,
   "id": "7a70c02d",
   "metadata": {},
   "outputs": [],
   "source": [
    "# Load training dataset\n",
    "t_dataset = rio.open('/home/dmytrii/Desktop/ChEZ_project_2021/Traning_rasters/Traning_sample_20190824.tif')\n",
    "print('Number of bands in raster: ', t_dataset.count)\n",
    "print('Wigth of raster (X): ', t_dataset.width)\n",
    "print('Heigth of raster (Y): ', t_dataset.height)"
   ]
  },
  {
   "cell_type": "code",
   "execution_count": null,
   "id": "52fbafa3",
   "metadata": {},
   "outputs": [],
   "source": [
    "# \n",
    "training_data = t_dataset.read(1)\n",
    "print(training_data)"
   ]
  },
  {
   "cell_type": "code",
   "execution_count": null,
   "id": "e9063be6",
   "metadata": {},
   "outputs": [],
   "source": [
    "training_data.shape"
   ]
  },
  {
   "cell_type": "code",
   "execution_count": null,
   "id": "d01bb5c2",
   "metadata": {},
   "outputs": [],
   "source": [
    "# Visualize land classes\n",
    "\n",
    "ep.plot_bands(training_data, cmap='viridis')\n",
    "plt.show()"
   ]
  },
  {
   "cell_type": "code",
   "execution_count": null,
   "id": "5ed02f87",
   "metadata": {},
   "outputs": [],
   "source": [
    "# Find how many non-zero entries we have -- i.e. how many training data samples?\n",
    "n_samples = (training_data > 0).sum()\n",
    "print('We have {n} samples'.format(n=n_samples))"
   ]
  },
  {
   "cell_type": "code",
   "execution_count": null,
   "id": "eca44eee",
   "metadata": {},
   "outputs": [],
   "source": [
    "# What are our classification labels?\n",
    "labels = np.unique(training_data[training_data > 0])\n",
    "print('The training data include {n} classes: {classes}'.format(n=labels.size, classes=labels))"
   ]
  },
  {
   "cell_type": "code",
   "execution_count": null,
   "id": "45d75d23",
   "metadata": {},
   "outputs": [],
   "source": [
    "# Rename samples\n",
    "\n",
    "X = X_scaled # \n",
    "y = training_data"
   ]
  },
  {
   "cell_type": "code",
   "execution_count": null,
   "id": "36c2a35f",
   "metadata": {
    "scrolled": true
   },
   "outputs": [],
   "source": [
    "# \n",
    "\n",
    "from sklearn.model_selection import train_test_split\n",
    "\n",
    "X_train, X_test, y_train, y_test = train_test_split(X, y.ravel(), test_size=0.30, stratify = y.ravel())\n",
    "\n",
    "print(f'X_train Shape: {X_train.shape}\\nX_test Shape: {X_test.shape}\\ny_train Shape: {y_train.shape}\\ny_test Shape:{y_test.shape}')"
   ]
  },
  {
   "cell_type": "code",
   "execution_count": null,
   "id": "98402c5d",
   "metadata": {
    "scrolled": true
   },
   "outputs": [],
   "source": [
    "X_train"
   ]
  },
  {
   "cell_type": "code",
   "execution_count": null,
   "id": "1bf02741",
   "metadata": {
    "scrolled": true
   },
   "outputs": [],
   "source": [
    "y_train"
   ]
  },
  {
   "cell_type": "code",
   "execution_count": null,
   "id": "37c00296",
   "metadata": {},
   "outputs": [],
   "source": [
    "r_y_train = np.select(condlist=[y_test>0] , choicelist=[y_test], default=)"
   ]
  },
  {
   "cell_type": "code",
   "execution_count": null,
   "id": "e6063678",
   "metadata": {},
   "outputs": [],
   "source": [
    "r_y_test"
   ]
  },
  {
   "cell_type": "code",
   "execution_count": null,
   "id": "9279a571",
   "metadata": {},
   "outputs": [],
   "source": [
    "r_y_test = np.select(condlist=[y_test>0] , choicelist=[y_test], default='')"
   ]
  },
  {
   "cell_type": "code",
   "execution_count": null,
   "id": "f8680065",
   "metadata": {},
   "outputs": [],
   "source": [
    "from sklearn.neighbors import KNeighborsClassifier\n",
    "\n",
    "knn = KNeighborsClassifier(n_neighbors=6)\n",
    "knn.fit(X_train, y_train)\n",
    "\n",
    "knn_pred = knn.predict(X_train)\n",
    "print(f\"Accuracy: {accuracy_score(y_test, knn_pred)*100}\")"
   ]
  },
  {
   "cell_type": "code",
   "execution_count": null,
   "id": "9a9c6136",
   "metadata": {},
   "outputs": [],
   "source": []
  }
 ],
 "metadata": {
  "kernelspec": {
   "display_name": "Python 3",
   "language": "python",
   "name": "python3"
  },
  "language_info": {
   "codemirror_mode": {
    "name": "ipython",
    "version": 3
   },
   "file_extension": ".py",
   "mimetype": "text/x-python",
   "name": "python",
   "nbconvert_exporter": "python",
   "pygments_lexer": "ipython3",
   "version": "3.8.8"
  },
  "widgets": {
   "application/vnd.jupyter.widget-state+json": {
    "state": {},
    "version_major": 2,
    "version_minor": 0
   }
  }
 },
 "nbformat": 4,
 "nbformat_minor": 5
}
